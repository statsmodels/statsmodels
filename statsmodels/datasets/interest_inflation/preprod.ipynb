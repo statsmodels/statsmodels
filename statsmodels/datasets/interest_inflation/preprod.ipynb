{
 "cells": [
  {
   "cell_type": "code",
   "execution_count": 46,
   "metadata": {
    "collapsed": false
   },
   "outputs": [],
   "source": [
    "import numpy as np\n",
    "import pandas\n",
    "import scipy\n",
    "import data as dt\n",
    "import statsmodels.tsa.api as sm\n",
    "from statsmodels.tsa.vecm.vecm import VECM"
   ]
  },
  {
   "cell_type": "markdown",
   "metadata": {},
   "source": [
    "Data import\n",
    "==========="
   ]
  },
  {
   "cell_type": "code",
   "execution_count": 2,
   "metadata": {
    "collapsed": false
   },
   "outputs": [],
   "source": [
    "iidata = dt.load_pandas()"
   ]
  },
  {
   "cell_type": "code",
   "execution_count": 3,
   "metadata": {
    "collapsed": false
   },
   "outputs": [],
   "source": [
    "mdata = iidata.data\n",
    "\n",
    "dates = mdata[['year', 'quarter']].astype(int).astype(str)\n",
    "\n",
    "quarterly = dates[\"year\"] + \"Q\" + dates[\"quarter\"]z\n",
    "\n",
    "from statsmodels.tsa.base.datetools import dates_from_str\n",
    "\n",
    "quarterly = dates_from_str(quarterly)\n",
    "\n",
    "mdata = mdata[['Dp','R']]\n",
    "\n",
    "mdata.index = pandas.DatetimeIndex(quarterly)\n",
    "\n",
    "data = mdata"
   ]
  },
  {
   "cell_type": "code",
   "execution_count": 4,
   "metadata": {
    "collapsed": false
   },
   "outputs": [],
   "source": [
    "model = VECM(data)"
   ]
  },
  {
   "cell_type": "code",
   "execution_count": 5,
   "metadata": {
    "collapsed": false
   },
   "outputs": [
    {
     "name": "stdout",
     "output_type": "stream",
     "text": [
      "fit called\n",
      "2\n"
     ]
    }
   ],
   "source": [
    "results = model.fit(2)"
   ]
  },
  {
   "cell_type": "code",
   "execution_count": 6,
   "metadata": {
    "collapsed": false
   },
   "outputs": [
    {
     "data": {
      "text/plain": [
       "True"
      ]
     },
     "execution_count": 6,
     "metadata": {},
     "output_type": "execute_result"
    }
   ],
   "source": [
    "results==None"
   ]
  },
  {
   "cell_type": "code",
   "execution_count": 7,
   "metadata": {
    "collapsed": false
   },
   "outputs": [
    {
     "data": {
      "text/plain": [
       "pandas.core.frame.DataFrame"
      ]
     },
     "execution_count": 7,
     "metadata": {},
     "output_type": "execute_result"
    }
   ],
   "source": [
    "type(data)                     # data is what VECM gets. "
   ]
  },
  {
   "cell_type": "markdown",
   "metadata": {},
   "source": [
    "LS estimator\n",
    "============"
   ]
  },
  {
   "cell_type": "code",
   "execution_count": 213,
   "metadata": {
    "collapsed": false
   },
   "outputs": [
    {
     "data": {
      "text/plain": [
       "array([[ 1.,  0.,  0.,  0.,  1.,  0.,  0.,  0.,  1.,  0.,  0.,  0.],\n",
       "       [ 0.,  2.,  0.,  0.,  0.,  2.,  0.,  0.,  0.,  2.,  0.,  0.],\n",
       "       [ 0.,  0.,  3.,  0.,  0.,  0.,  3.,  0.,  0.,  0.,  3.,  0.]])"
      ]
     },
     "execution_count": 213,
     "metadata": {},
     "output_type": "execute_result"
    }
   ],
   "source": [
    "# just trying out the construction of the part containing dummy variables\n",
    "seasons = np.zeros((3, 12)) # 3 = 4-1 (4=number_of_seasons)\n",
    "for i in range(seasons.shape[0]):\n",
    "    seasons[i, i::4] = i+1 # dummy variables\n",
    "seasons"
   ]
  },
  {
   "cell_type": "code",
   "execution_count": 8,
   "metadata": {
    "collapsed": false
   },
   "outputs": [
    {
     "data": {
      "text/plain": [
       "False"
      ]
     },
     "execution_count": 8,
     "metadata": {},
     "output_type": "execute_result"
    }
   ],
   "source": [
    "deterministic_terms = '' # \\in \\{'c', 'lt', 's'\\} c=constant, lt=linear trend, s=seasonal terms\n",
    "'c' in deterministic_terms"
   ]
  },
  {
   "cell_type": "code",
   "execution_count": null,
   "metadata": {
    "collapsed": true
   },
   "outputs": [],
   "source": []
  },
  {
   "cell_type": "code",
   "execution_count": 9,
   "metadata": {
    "collapsed": false
   },
   "outputs": [
    {
     "data": {
      "text/plain": [
       "(2, 107)"
      ]
     },
     "execution_count": 9,
     "metadata": {},
     "output_type": "execute_result"
    }
   ],
   "source": [
    "y_all = data.values.T;   y_all.shape"
   ]
  },
  {
   "cell_type": "code",
   "execution_count": 10,
   "metadata": {
    "collapsed": true
   },
   "outputs": [],
   "source": [
    "diff_lags = 3       # p-1\n",
    "p = diff_lags + 1   # lags / size of needed presample\n",
    "K = y_all.shape[0]"
   ]
  },
  {
   "cell_type": "code",
   "execution_count": 11,
   "metadata": {
    "collapsed": false
   },
   "outputs": [
    {
     "data": {
      "text/plain": [
       "(2, 103)"
      ]
     },
     "execution_count": 11,
     "metadata": {},
     "output_type": "execute_result"
    }
   ],
   "source": [
    "y_1_T = y_all[:, p:];   y_1_T.shape"
   ]
  },
  {
   "cell_type": "code",
   "execution_count": 12,
   "metadata": {
    "collapsed": false
   },
   "outputs": [],
   "source": [
    "T = y_1_T.shape[1]"
   ]
  },
  {
   "cell_type": "code",
   "execution_count": null,
   "metadata": {
    "collapsed": false
   },
   "outputs": [],
   "source": []
  },
  {
   "cell_type": "code",
   "execution_count": 13,
   "metadata": {
    "collapsed": false
   },
   "outputs": [
    {
     "data": {
      "text/plain": [
       "(2, 106)"
      ]
     },
     "execution_count": 13,
     "metadata": {},
     "output_type": "execute_result"
    }
   ],
   "source": [
    "Delta_y_all = np.diff(y_all);   Delta_y_all.shape"
   ]
  },
  {
   "cell_type": "code",
   "execution_count": null,
   "metadata": {
    "collapsed": false
   },
   "outputs": [],
   "source": []
  },
  {
   "cell_type": "code",
   "execution_count": null,
   "metadata": {
    "collapsed": false
   },
   "outputs": [],
   "source": []
  },
  {
   "cell_type": "code",
   "execution_count": 14,
   "metadata": {
    "collapsed": false
   },
   "outputs": [
    {
     "data": {
      "text/plain": [
       "(2, 103)"
      ]
     },
     "execution_count": 14,
     "metadata": {},
     "output_type": "execute_result"
    }
   ],
   "source": [
    "Delta_y_1_T = Delta_y_all[:, p-1:];   Delta_y_1_T.shape"
   ]
  },
  {
   "cell_type": "code",
   "execution_count": 15,
   "metadata": {
    "collapsed": false
   },
   "outputs": [
    {
     "data": {
      "text/plain": [
       "(2, 103)"
      ]
     },
     "execution_count": 15,
     "metadata": {},
     "output_type": "execute_result"
    }
   ],
   "source": [
    "y_minus1 = y_all[:, p-1:-1]\n",
    "if 'lt' in deterministic_terms:\n",
    "    y_minus1 = np.vstack((y_minus1, np.arange(T)))\n",
    "y_minus1.shape"
   ]
  },
  {
   "cell_type": "code",
   "execution_count": null,
   "metadata": {
    "collapsed": false
   },
   "outputs": [],
   "source": []
  },
  {
   "cell_type": "code",
   "execution_count": null,
   "metadata": {
    "collapsed": false
   },
   "outputs": [],
   "source": []
  },
  {
   "cell_type": "code",
   "execution_count": 16,
   "metadata": {
    "collapsed": false
   },
   "outputs": [
    {
     "data": {
      "text/plain": [
       "(6, 103)"
      ]
     },
     "execution_count": 16,
     "metadata": {},
     "output_type": "execute_result"
    }
   ],
   "source": [
    "Delta_x = np.zeros((diff_lags*K, T));   Delta_x.shape"
   ]
  },
  {
   "cell_type": "code",
   "execution_count": 17,
   "metadata": {
    "collapsed": false
   },
   "outputs": [],
   "source": [
    "for j in range(Delta_x.shape[1]):\n",
    "    Delta_x[:, j] = Delta_y_all[:, j+p-2:None if j-1<0 else j-1:-1].T.reshape(K*(p-1))\n",
    "if 'c' in deterministic_terms:\n",
    "    Delta_x = np.vstack((Delta_x, np.ones(T)))"
   ]
  },
  {
   "cell_type": "code",
   "execution_count": 18,
   "metadata": {
    "collapsed": false
   },
   "outputs": [],
   "source": [
    "mat1 = np.hstack((Delta_y_1_T.dot(y_minus1.T), Delta_y_1_T.dot(Delta_x.T)))"
   ]
  },
  {
   "cell_type": "code",
   "execution_count": 19,
   "metadata": {
    "collapsed": false
   },
   "outputs": [],
   "source": [
    "B = y_minus1.dot(Delta_x.T)\n",
    "mat2 = np.linalg.inv(np.vstack( (np.hstack( (y_minus1.dot(y_minus1.T),   B                    ) ),\n",
    "                                 np.hstack( (B.T,                        Delta_x.dot(Delta_x.T) )) ) ))"
   ]
  },
  {
   "cell_type": "code",
   "execution_count": 20,
   "metadata": {
    "collapsed": false
   },
   "outputs": [
    {
     "data": {
      "text/plain": [
       "array([[-0.54,  0.06, -0.59,  0.12, -0.71,  0.19, -0.83,  0.02],\n",
       "       [ 0.13, -0.02, -0.1 ,  0.18, -0.05, -0.04,  0.  ,  0.17]])"
      ]
     },
     "execution_count": 20,
     "metadata": {},
     "output_type": "execute_result"
    }
   ],
   "source": [
    "estPiGamma = mat1.dot(mat2)\n",
    "estPiGamma.round(2)"
   ]
  },
  {
   "cell_type": "code",
   "execution_count": 21,
   "metadata": {
    "collapsed": false
   },
   "outputs": [
    {
     "data": {
      "text/plain": [
       "array([[-0.54327263,  0.05905934],\n",
       "       [ 0.12695865, -0.02184917]])"
      ]
     },
     "execution_count": 21,
     "metadata": {},
     "output_type": "execute_result"
    }
   ],
   "source": [
    "Pi_hat_cols = K if 'lt' not in deterministic_terms else K+1\n",
    "Pi_hat = estPiGamma[:, :Pi_hat_cols]\n",
    "Pi_hat"
   ]
  },
  {
   "cell_type": "code",
   "execution_count": 22,
   "metadata": {
    "collapsed": false
   },
   "outputs": [
    {
     "data": {
      "text/plain": [
       "array([[-0.59,  0.12, -0.71,  0.19, -0.83,  0.02],\n",
       "       [-0.1 ,  0.18, -0.05, -0.04,  0.  ,  0.17]])"
      ]
     },
     "execution_count": 22,
     "metadata": {},
     "output_type": "execute_result"
    }
   ],
   "source": [
    "Gamma_hat = estPiGamma[:, Pi_hat_cols:]\n",
    "np.round(Gamma_hat, 2)"
   ]
  },
  {
   "cell_type": "code",
   "execution_count": 23,
   "metadata": {
    "collapsed": false
   },
   "outputs": [
    {
     "data": {
      "text/plain": [
       "array([[  3.94865227e-05,  -3.82768919e-06],\n",
       "       [ -3.82768919e-06,   3.03766974e-05]])"
      ]
     },
     "execution_count": 23,
     "metadata": {},
     "output_type": "execute_result"
    }
   ],
   "source": [
    "_A = Delta_y_1_T - Pi_hat.dot(y_minus1) - Gamma_hat.dot(Delta_x)\n",
    "Sigma_u_hat = 1/(T-K*p) * np.dot(_A,_A.T)\n",
    "Sigma_u_hat"
   ]
  },
  {
   "cell_type": "markdown",
   "metadata": {},
   "source": [
    "EGLS estimator\n",
    "=============="
   ]
  },
  {
   "cell_type": "code",
   "execution_count": 24,
   "metadata": {
    "collapsed": false
   },
   "outputs": [
    {
     "name": "stdout",
     "output_type": "stream",
     "text": [
      "[[-0.54327263]\n",
      " [ 0.12695865]]\n",
      "[[ 1.        ]\n",
      " [-0.11131212]]\n"
     ]
    }
   ],
   "source": [
    "r = 1 # r will be given as an function argument. r \\in \\{0, \\ldots, K\\}. r=0, r=K?\n",
    "alpha_hat = Pi_hat[:, :r] # LS Gamma_hat has to be calculated before this line\n",
    "M = np.identity(T) - Delta_x.T.dot(np.linalg.inv(Delta_x.dot(Delta_x.T))).dot(Delta_x)\n",
    "R_0 = Delta_y_1_T.dot(M)\n",
    "R_1 = y_minus1.dot(M)\n",
    "R_11 = R_1[:r]\n",
    "R_12 = R_1[r:]\n",
    "_alpha_Sigma = alpha_hat.T.dot(np.linalg.inv(Sigma_u_hat))\n",
    "beta_hhat = np.linalg.inv(_alpha_Sigma.dot(alpha_hat)).dot(_alpha_Sigma).dot(R_0-alpha_hat.dot(R_11)).dot(R_12.T).dot(np.linalg.inv(R_12.dot(R_12.T)))\n",
    "beta_hhat = np.vstack((1, beta_hhat))\n",
    "print(alpha_hat)\n",
    "print(beta_hhat)\n",
    "# ? Gamma_hhat necessary / computed via (Delta_y_1_T - alpha_hat.dot(beta_hhat.T).dot(y_minus1)).dot(Delta_x.dot(np.linalg.inv(np.dot(Delta_x,Delta_x.T))))"
   ]
  },
  {
   "cell_type": "markdown",
   "metadata": {},
   "source": [
    "ML estimator\n",
    "============"
   ]
  },
  {
   "cell_type": "code",
   "execution_count": 26,
   "metadata": {
    "collapsed": false,
    "scrolled": true
   },
   "outputs": [
    {
     "data": {
      "text/plain": [
       "matrix([[  3.93591032e-05,  -4.05327169e-06,  -7.62693213e-06,\n",
       "          -2.03864203e-05],\n",
       "        [ -4.05327169e-06,   2.84786061e-05,  -3.61793778e-06,\n",
       "          -4.21339812e-05],\n",
       "        [ -7.62693213e-06,  -3.61793778e-06,   8.69896387e-05,\n",
       "           6.71056510e-04],\n",
       "        [ -2.03864203e-05,  -4.21339812e-05,   6.71056510e-04,\n",
       "           5.82770122e-03]])"
      ]
     },
     "execution_count": 26,
     "metadata": {},
     "output_type": "execute_result"
    }
   ],
   "source": [
    "# r, M R_0, R_1 as for the EGLS estimator\n",
    "S = np.bmat([[Ri.dot(Rj.T)/T for Rj in [R_0, R_1]] for Ri in [R_0, R_1]])\n",
    "S"
   ]
  },
  {
   "cell_type": "code",
   "execution_count": 27,
   "metadata": {
    "collapsed": false
   },
   "outputs": [
    {
     "name": "stdout",
     "output_type": "stream",
     "text": [
      "alpha\n",
      "[[-0.00172057 -0.00014795]\n",
      " [ 0.00033459 -0.00057592]]\n",
      "beta\n",
      "[[ 318.7816345   -35.24565026]\n",
      " [ -35.7992249    17.13983205]]\n",
      "Gamma\n",
      "[[-0.58982483  0.1170476  -0.70501833  0.18765474 -0.82607809  0.02306974]\n",
      " [-0.09868298  0.18443278 -0.0515211  -0.04323455  0.0034007   0.17215407]]\n",
      "Sigma_u\n",
      "[[  3.64196083e-05  -3.53039294e-06]\n",
      " [ -3.53039294e-06   2.80173422e-05]]\n"
     ]
    }
   ],
   "source": [
    "S00 = S[:K, :K]\n",
    "S01 = S[:K, K:]\n",
    "S10 = S[K:, :K]\n",
    "S11 = S[K:, K:]\n",
    "S11_ = scipy.linalg.sqrtm(S11.I)\n",
    "\n",
    "v = np.linalg.eig(S11_ * S10 * S00.I * S01 * S11_)[1]\n",
    "m_beta_tilde = v.T * S11_\n",
    "m_alpha_tilde = S01 * m_beta_tilde * (m_beta_tilde.T * S11 * m_beta_tilde).I\n",
    "\n",
    "m_Delta_y_1_T = np.matrix(Delta_y_1_T)\n",
    "m_y_minus1 = np.matrix(y_minus1)\n",
    "m_Delta_x = np.matrix(Delta_x)\n",
    "m_Gamma_tilde = (m_Delta_y_1_T - m_alpha_tilde*m_beta_tilde.T*m_y_minus1) * m_Delta_x.T * (m_Delta_x * m_Delta_x.T).I\n",
    "m_temp = (m_Delta_y_1_T - m_alpha_tilde*m_beta_tilde.T*m_y_minus1 - m_Gamma_tilde*m_Delta_x)\n",
    "m_Sigma_u_tilde = m_temp * m_temp.T / T\n",
    "print(\"alpha\")\n",
    "print(m_alpha_tilde)\n",
    "print(\"beta\")\n",
    "print(m_beta_tilde)\n",
    "print(\"Gamma\")\n",
    "print(m_Gamma_tilde)\n",
    "print(\"Sigma_u\")\n",
    "print(m_Sigma_u_tilde)"
   ]
  },
  {
   "cell_type": "code",
   "execution_count": null,
   "metadata": {
    "collapsed": false,
    "scrolled": false
   },
   "outputs": [],
   "source": []
  },
  {
   "cell_type": "code",
   "execution_count": null,
   "metadata": {
    "collapsed": false
   },
   "outputs": [],
   "source": []
  },
  {
   "cell_type": "markdown",
   "metadata": {
    "collapsed": true
   },
   "source": [
    "LS estimator in one function\n",
    "============================"
   ]
  },
  {
   "cell_type": "code",
   "execution_count": 334,
   "metadata": {
    "collapsed": false
   },
   "outputs": [],
   "source": [
    "def estimation_matrices(data, diff_lags, deterministic_terms):\n",
    "    p = diff_lags+1\n",
    "    y_all = data.values.T\n",
    "    K = y_all.shape[0]\n",
    "    \n",
    "    y_1_T = y_all[:, p:]\n",
    "    T = y_1_T.shape[1]\n",
    "    \n",
    "    Delta_y_all = np.diff(y_all)\n",
    "    Delta_y_1_T = Delta_y_all[:, p-1:]\n",
    "    \n",
    "    y_minus1 = y_all[:, p-1:-1]\n",
    "    if 'lt' in deterministic_terms:\n",
    "        y_minus1 = np.vstack((y_minus1, np.arange(T)))\n",
    "    \n",
    "    Delta_x = np.zeros((diff_lags*K, T))\n",
    "    for j in range(Delta_x.shape[1]):\n",
    "        Delta_x[:, j] = Delta_y_all[:, j+p-2:None if j-1<0 else j-1:-1].T.reshape(K*(p-1))\n",
    "    if 'c' in deterministic_terms:\n",
    "        Delta_x = np.vstack((Delta_x, np.ones(T)))\n",
    "    if 's' in deterministic_terms: # TODO: How many seasons??\n",
    "        seasons = np.zeros((3, Delta_x.shape[1])) # 3 = 4-1 (4=number_of_seasons)\n",
    "        for i in range(seasons.shape[0]):\n",
    "            seasons[i, i::4] = i+1\n",
    "        Delta_x = np.vstack((Delta_x, seasons))\n",
    "    \n",
    "    return y_all, y_1_T, Delta_y_all, Delta_y_1_T, y_minus1, Delta_x"
   ]
  },
  {
   "cell_type": "code",
   "execution_count": 202,
   "metadata": {
    "collapsed": true
   },
   "outputs": [],
   "source": [
    "def _ls_Pi_Gamma(Delta_y_1_T, y_minus1, Delta_x, deterministic_terms):\n",
    "    mat1 = np.hstack((Delta_y_1_T.dot(y_minus1.T), Delta_y_1_T.dot(Delta_x.T)))\n",
    "\n",
    "    B = y_minus1.dot(Delta_x.T)\n",
    "    mat2 = np.linalg.inv(np.vstack( (np.hstack( (y_minus1.dot(y_minus1.T),   B                    ) ),\n",
    "                                     np.hstack( (B.T,                        Delta_x.dot(Delta_x.T) )) ) ))\n",
    "\n",
    "    estPiGamma = mat1.dot(mat2)\n",
    "\n",
    "    Pi_hat_cols = K if 'lt' not in deterministic_terms else K+1\n",
    "    Pi_hat = estPiGamma[:, :Pi_hat_cols]\n",
    "\n",
    "    Gamma_hat = estPiGamma[:, Pi_hat_cols:]\n",
    "    #print(\"Dy1T.shape: \"+str(Delta_y_1_T.shape) + \",  Pi_hat.shape: \"+str(Pi_hat.shape) + \",  Gamma_hat.shape: \"+str(Gamma_hat.shape))\n",
    "    #print(\"yminus1:\" + str(y_minus1.shape))\n",
    "    _A = Delta_y_1_T - Pi_hat.dot(y_minus1) - Gamma_hat.dot(Delta_x)\n",
    "    p = diff_lags+1\n",
    "    Sigma_u_hat = 1/(T-K*p) * np.dot(_A,_A.T)\n",
    "\n",
    "    return (Pi_hat, Gamma_hat, Sigma_u_hat)    "
   ]
  },
  {
   "cell_type": "code",
   "execution_count": 203,
   "metadata": {
    "collapsed": false
   },
   "outputs": [],
   "source": [
    "def ls_estimator(data, diff_lags, deterministic_terms):    \n",
    "    # deterministic_terms \\in \\{'c', 'lt', 's'\\} c=constant, lt=linear trend, s=seasonal terms\n",
    "\n",
    "    y_all, y_1_T, Delta_y_all, Delta_y_1_T, y_minus1, Delta_x = estimation_matrices(data, diff_lags, deterministic_terms)\n",
    "    K = y_all.shape[0]\n",
    "    T = y_1_T.shape[1]\n",
    "\n",
    "    Pi_hat, Gamma_hat, Sigma_u_hat = _ls_Pi_Gamma(Delta_y_1_T, y_minus1, Delta_x, deterministic_terms)\n",
    "    \n",
    "    print(\"Pi:\")\n",
    "    print(Pi_hat)\n",
    "    print(\"Gamma:\")\n",
    "    print(Gamma_hat)\n",
    "    print(\"Sigma_u\")\n",
    "    print(Sigma_u_hat)\n",
    "    \n",
    "    return {\"Pi_hat\": Pi_hat, \"Gamma_hat\": Gamma_hat, \"Sigma_u_hat\": Sigma_u_hat}"
   ]
  },
  {
   "cell_type": "code",
   "execution_count": 209,
   "metadata": {
    "collapsed": false,
    "scrolled": true
   },
   "outputs": [
    {
     "name": "stdout",
     "output_type": "stream",
     "text": [
      "Pi:\n",
      "[[-0.36278647 -0.03297439]\n",
      " [ 0.25397334 -0.09315322]]\n",
      "Gamma:\n",
      "[[ -7.43193207e-01   2.03622004e-01  -7.77866051e-01   1.63307948e-01\n",
      "   -6.09499930e-01   1.33131557e-01   1.41883529e-03   6.79750209e-04\n",
      "    6.47776643e-03]\n",
      " [ -3.35996508e-02   2.51145907e-01  -7.05307414e-02  -3.99504228e-02\n",
      "   -9.72528296e-03   2.26631612e-01   1.18210692e-02   1.50453090e-03\n",
      "    9.74824196e-04]]\n",
      "Sigma_u\n",
      "[[  3.25768936e-05  -4.26797119e-06]\n",
      " [ -4.26797119e-06   2.79369870e-05]]\n"
     ]
    },
    {
     "data": {
      "text/plain": [
       "{'Gamma_hat': array([[ -7.43193207e-01,   2.03622004e-01,  -7.77866051e-01,\n",
       "           1.63307948e-01,  -6.09499930e-01,   1.33131557e-01,\n",
       "           1.41883529e-03,   6.79750209e-04,   6.47776643e-03],\n",
       "        [ -3.35996508e-02,   2.51145907e-01,  -7.05307414e-02,\n",
       "          -3.99504228e-02,  -9.72528296e-03,   2.26631612e-01,\n",
       "           1.18210692e-02,   1.50453090e-03,   9.74824196e-04]]),\n",
       " 'Pi_hat': array([[-0.36278647, -0.03297439],\n",
       "        [ 0.25397334, -0.09315322]]),\n",
       " 'Sigma_u_hat': array([[  3.25768936e-05,  -4.26797119e-06],\n",
       "        [ -4.26797119e-06,   2.79369870e-05]])}"
      ]
     },
     "execution_count": 209,
     "metadata": {},
     "output_type": "execute_result"
    }
   ],
   "source": [
    "ls_estimator(data, 3, 's')"
   ]
  },
  {
   "cell_type": "code",
   "execution_count": null,
   "metadata": {
    "collapsed": false
   },
   "outputs": [],
   "source": []
  },
  {
   "cell_type": "markdown",
   "metadata": {},
   "source": [
    "EGLS estimator in one function\n",
    "=============================="
   ]
  },
  {
   "cell_type": "code",
   "execution_count": 230,
   "metadata": {
    "collapsed": false
   },
   "outputs": [],
   "source": [
    "def _M_and_R_matrices(T, Delta_x, Delta_y_1_T, y_minus1):\n",
    "    M = np.identity(T) - Delta_x.T.dot(np.linalg.inv(Delta_x.dot(Delta_x.T))).dot(Delta_x)\n",
    "    R_0 = Delta_y_1_T.dot(M)\n",
    "    R_1 = y_minus1.dot(M)\n",
    "    return (M, R_0, R_1)"
   ]
  },
  {
   "cell_type": "code",
   "execution_count": 233,
   "metadata": {
    "collapsed": false
   },
   "outputs": [],
   "source": [
    "def egls_estimator(data, diff_lags, deterministic_terms='', r=1):    \n",
    "    _ya, y_1_T, _Dya, Delta_y_1_T, y_minus1, Delta_x = estimation_matrices(data, diff_lags, deterministic_terms)\n",
    "    K = y_all.shape[0]\n",
    "    T = y_1_T.shape[1]\n",
    "    \n",
    "    Pi_hat, _Gamma_hat, Sigma_u_hat = _ls_Pi_Gamma(Delta_y_1_T, y_minus1, Delta_x, deterministic_terms)\n",
    "    #print(\"Dy1T.shape: \"+str(Delta_y_1_T.shape) + \",  Pi_hat.shape: \"+str(Pi_hat.shape) + \",  Gamma_hat.shape: \"+str(Gamma_hat.shape))\n",
    "    #print(\"yminus1: \" + str(y_minus1.shape) + \",  DX.shape: \"+str(Delta_x.shape))\n",
    "    alpha_hat = Pi_hat[:, :r]\n",
    "    \n",
    "    M, R_0, R_1 = _M_and_R_matrices(T, Delta_x, Delta_y_1_T, y_minus1)\n",
    "    R_11 = R_1[:r]\n",
    "    R_12 = R_1[r:]\n",
    "    #print(\"Sigma_u_hat: \\n\"+str(Sigma_u_hat))\n",
    "    _alpha_Sigma = alpha_hat.T.dot(np.linalg.inv(Sigma_u_hat))\n",
    "    beta_hhat = np.linalg.inv(_alpha_Sigma.dot(alpha_hat)).dot(_alpha_Sigma).dot(R_0-alpha_hat.dot(R_11)).dot(R_12.T).dot(np.linalg.inv(R_12.dot(R_12.T))).T\n",
    "    beta_hhat = np.vstack((1, beta_hhat))\n",
    "    # ? Gamma_hhat necessary / computed via (Delta_y_1_T - alpha_hat.dot(beta_hhat.T).dot(y_minus1)).dot(Delta_x.dot(np.linalg.inv(np.dot(Delta_x,Delta_x.T))))\n",
    "    \n",
    "    print(\"alpha\")\n",
    "    print(alpha_hat.round(3))\n",
    "    print(\"beta\")\n",
    "    print(beta_hhat.round(3))"
   ]
  },
  {
   "cell_type": "code",
   "execution_count": 234,
   "metadata": {
    "collapsed": false,
    "scrolled": false
   },
   "outputs": [
    {
     "name": "stdout",
     "output_type": "stream",
     "text": [
      "alpha\n",
      "[[-0.661]\n",
      " [ 0.341]]\n",
      "beta\n",
      "[[ 1.   ]\n",
      " [-0.243]]\n"
     ]
    }
   ],
   "source": [
    "egls_estimator(data, 3, 'cs')"
   ]
  },
  {
   "cell_type": "markdown",
   "metadata": {},
   "source": [
    "ML estimator in one function\n",
    "============================"
   ]
  },
  {
   "cell_type": "code",
   "execution_count": 322,
   "metadata": {
    "collapsed": false
   },
   "outputs": [],
   "source": [
    "def ml_estimator(data, diff_lags, deterministic_terms='', r=1):\n",
    "    _ya, y_1_T, _Dya, Delta_y_1_T, y_minus1, Delta_x = estimation_matrices(data, diff_lags, deterministic_terms)\n",
    "    K = y_all.shape[0]\n",
    "    T = y_1_T.shape[1]\n",
    "    \n",
    "    M, R_0, R_1 = _M_and_R_matrices(T, Delta_x, Delta_y_1_T, y_minus1)\n",
    "    S = np.bmat([[Ri.dot(Rj.T)/T for Rj in [R_0, R_1]] for Ri in [R_0, R_1]])\n",
    "    S00 = S[:K, :K]\n",
    "    S01 = S[:K, K:]\n",
    "    S10 = S[K:, :K]\n",
    "    S11 = S[K:, K:]\n",
    "    S11_ = scipy.linalg.sqrtm(S11.I)\n",
    "\n",
    "    v = np.linalg.eig(S11_ * S10 * S00.I * S01 * S11_)[1]\n",
    "    #print(v)\n",
    "    m_beta_tilde = (v[:,:r].T * S11_).T\n",
    "    m_beta_tilde = m_beta_tilde * m_beta_tilde[:r,:r].I # normalize such that eye(r) forms the first r rows of beta tilde\n",
    "    #print(m_beta_tilde.T)\n",
    "    m_alpha_tilde = S01 * m_beta_tilde * (m_beta_tilde.T * S11 * m_beta_tilde).I\n",
    "\n",
    "    m_Delta_y_1_T = np.matrix(Delta_y_1_T)\n",
    "    m_y_minus1 = np.matrix(y_minus1)\n",
    "    m_Delta_x = np.matrix(Delta_x)\n",
    "    m_Gamma_tilde = (m_Delta_y_1_T - m_alpha_tilde*m_beta_tilde.T*m_y_minus1) * m_Delta_x.T * (m_Delta_x * m_Delta_x.T).I\n",
    "    m_temp = (m_Delta_y_1_T - m_alpha_tilde*m_beta_tilde.T*m_y_minus1 - m_Gamma_tilde*m_Delta_x)\n",
    "    m_Sigma_u_tilde = m_temp * m_temp.T / T\n",
    "    print(\"alpha\")\n",
    "    print(m_alpha_tilde)\n",
    "    print(\"beta\")\n",
    "    print(m_beta_tilde)\n",
    "    print(\"==> Pi\")\n",
    "    print(m_alpha_tilde*m_beta_tilde.T)\n",
    "    print(\"Gamma\")\n",
    "    print(m_Gamma_tilde)\n",
    "    print(\"Sigma_u\")\n",
    "    print(m_Sigma_u_tilde)"
   ]
  },
  {
   "cell_type": "code",
   "execution_count": 335,
   "metadata": {
    "collapsed": false,
    "scrolled": true
   },
   "outputs": [
    {
     "name": "stdout",
     "output_type": "stream",
     "text": [
      "alpha\n",
      "[[-0.16926027]\n",
      " [ 0.32080276]]\n",
      "beta\n",
      "[[ 1.        ]\n",
      " [-0.21559865]]\n",
      "==> Pi\n",
      "[[-0.16926027  0.03649229]\n",
      " [ 0.32080276 -0.06916464]]\n",
      "Gamma\n",
      "[[ -1.00547521e+00   1.82864810e-01  -1.01860250e+00   1.55046265e-01\n",
      "   -7.74745204e-01   7.04048739e-02  -7.19009291e-03  -4.03917869e-03\n",
      "    3.60199040e-03]\n",
      " [ -1.24172170e-01   2.43977930e-01  -1.53663044e-01  -4.28033881e-02\n",
      "   -6.67885981e-02   2.04970523e-01   8.84819152e-03  -1.25032963e-04\n",
      "   -1.82530013e-05]]\n",
      "Sigma_u\n",
      "[[  3.42146933e-05  -2.49714876e-06]\n",
      " [ -2.49714876e-06   2.62641603e-05]]\n"
     ]
    }
   ],
   "source": [
    "ml_estimator(data, 3, 's')"
   ]
  },
  {
   "cell_type": "code",
   "execution_count": null,
   "metadata": {
    "collapsed": true
   },
   "outputs": [],
   "source": []
  },
  {
   "cell_type": "code",
   "execution_count": null,
   "metadata": {
    "collapsed": true
   },
   "outputs": [],
   "source": []
  }
 ],
 "metadata": {
  "kernelspec": {
   "display_name": "Python 3",
   "language": "python",
   "name": "python3"
  },
  "language_info": {
   "codemirror_mode": {
    "name": "ipython",
    "version": 3
   },
   "file_extension": ".py",
   "mimetype": "text/x-python",
   "name": "python",
   "nbconvert_exporter": "python",
   "pygments_lexer": "ipython3",
   "version": "3.4.3+"
  }
 },
 "nbformat": 4,
 "nbformat_minor": 0
}
