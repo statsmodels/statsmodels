{
 "metadata": {
  "kernelspec": {
   "display_name": "Python 3",
   "language": "python",
   "name": "python3"
  },
  "language_info": {
   "codemirror_mode": {
    "name": "ipython",
    "version": 3
   },
   "file_extension": ".py",
   "mimetype": "text/x-python",
   "name": "python",
   "nbconvert_exporter": "python",
   "pygments_lexer": "ipython3",
   "version": "3.4.0"
  },
  "name": "",
  "signature": "sha256:13d8fe62924e6504665b72ae18e6a6f02ddc69122d600dfe7a1b88bd0f93c705"
 },
 "nbformat": 3,
 "nbformat_minor": 0,
 "worksheets": [
  {
   "cells": [
    {
     "cell_type": "code",
     "collapsed": false,
     "input": [
      "%pylab inline\n",
      "from __future__ import division, print_function\n",
      "from statsmodels.kernel_methods import kernels, _fast_linbin, kde, kde_methods"
     ],
     "language": "python",
     "metadata": {},
     "outputs": []
    },
    {
     "cell_type": "code",
     "collapsed": false,
     "input": [
      "a = randint(0, 7, size=100)\n",
      "a.min(), a.max()"
     ],
     "language": "python",
     "metadata": {},
     "outputs": []
    },
    {
     "cell_type": "code",
     "collapsed": false,
     "input": [
      "mesh, bins = _fast_linbin.fast_linbin(a, [0,6], 7, bin_type='D')\n",
      "counts = np.array([sum(a==i) for i in range(7)])\n",
      "sum(bins), sum(counts)"
     ],
     "language": "python",
     "metadata": {},
     "outputs": []
    },
    {
     "cell_type": "code",
     "collapsed": false,
     "input": [
      "plot(mesh.full(), bins, label='binning')\n",
      "plot(mesh.full(), counts, label='counting')\n",
      "legend(loc='best')"
     ],
     "language": "python",
     "metadata": {},
     "outputs": []
    },
    {
     "cell_type": "code",
     "collapsed": false,
     "input": [
      "normed_bins = bins/a.size\n",
      "k = kernels.AitchisonAitken()\n",
      "pp = k.pdf(arange(7), 3., 0.2, 7)\n",
      "plot(arange(7), pp)\n",
      "sum(pp)"
     ],
     "language": "python",
     "metadata": {},
     "outputs": []
    },
    {
     "cell_type": "code",
     "collapsed": false,
     "input": [
      "k = kde.KDE(a, method=kde_methods.UnorderedKDE(), kernel=kernels.AitchisonAitken(), bandwidth=0.2)\n",
      "k.axis_type = 'U'\n",
      "est = k.fit()"
     ],
     "language": "python",
     "metadata": {},
     "outputs": []
    },
    {
     "cell_type": "code",
     "collapsed": false,
     "input": [
      "vals = arange(7, dtype=float)\n",
      "pdf = est.pdf(vals)"
     ],
     "language": "python",
     "metadata": {},
     "outputs": []
    },
    {
     "cell_type": "code",
     "collapsed": false,
     "input": [
      "grid, pdfg = est.grid()"
     ],
     "language": "python",
     "metadata": {},
     "outputs": []
    },
    {
     "cell_type": "code",
     "collapsed": false,
     "input": [
      "plot(vals, pdf, label='pdf')\n",
      "plot(mesh.full(), normed_bins, label='binning')\n",
      "plot(grid.full(), pdfg, label='pdf-bins', linestyle='--')\n",
      "legend(loc='best')"
     ],
     "language": "python",
     "metadata": {},
     "outputs": []
    },
    {
     "cell_type": "code",
     "collapsed": true,
     "input": [],
     "language": "python",
     "metadata": {},
     "outputs": []
    }
   ],
   "metadata": {}
  }
 ]
}