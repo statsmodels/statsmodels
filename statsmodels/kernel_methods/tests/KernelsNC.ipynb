{
 "cells": [
  {
   "cell_type": "code",
   "execution_count": null,
   "metadata": {},
   "outputs": [],
   "source": [
    "%pylab inline\n",
    "from statsmodels.kernel_methods import kernelsnc, fast_linbin, kde, kde_nc"
   ]
  },
  {
   "cell_type": "code",
   "execution_count": null,
   "metadata": {},
   "outputs": [],
   "source": [
    "a = randint(0, 7, size=100)\n",
    "a.min(), a.max()"
   ]
  },
  {
   "cell_type": "code",
   "execution_count": null,
   "metadata": {},
   "outputs": [],
   "source": [
    "mesh, bins = fast_linbin.fast_linbin(a, [0,6], 7, bin_type='D')\n",
    "counts = np.array([sum(a==i) for i in range(7)])\n",
    "sum(bins), sum(counts)"
   ]
  },
  {
   "cell_type": "code",
   "execution_count": null,
   "metadata": {},
   "outputs": [],
   "source": [
    "plot(mesh.full(), bins, label='binning')\n",
    "plot(mesh.full(), counts, label='counting')\n",
    "legend(loc='best')"
   ]
  },
  {
   "cell_type": "code",
   "execution_count": null,
   "metadata": {},
   "outputs": [],
   "source": [
    "normed_bins = bins/a.size\n",
    "k = kernelsnc.AitchisonAitken()\n",
    "pp = k.pdf(arange(7), 3., 0.2, 7)\n",
    "plot(arange(7), pp)\n",
    "sum(pp)"
   ]
  },
  {
   "cell_type": "code",
   "execution_count": null,
   "metadata": {},
   "outputs": [],
   "source": [
    "k = kde.KDE(a, method=kde_nc.Unordered(), kernel=kernelsnc.AitchisonAitken(), bandwidth=0.2)\n",
    "k.axis_type = 'U'\n",
    "est = k.fit()"
   ]
  },
  {
   "cell_type": "code",
   "execution_count": null,
   "metadata": {},
   "outputs": [],
   "source": [
    "vals = arange(7, dtype=float)\n",
    "pdf = est.pdf(vals)"
   ]
  },
  {
   "cell_type": "code",
   "execution_count": null,
   "metadata": {},
   "outputs": [],
   "source": [
    "grid, pdfg = est.grid()"
   ]
  },
  {
   "cell_type": "code",
   "execution_count": null,
   "metadata": {},
   "outputs": [],
   "source": [
    "plot(vals, pdf, label='pdf')\n",
    "plot(mesh.full(), normed_bins, label='binning')\n",
    "plot(grid.full(), pdfg, label='pdf-bins', linestyle='--')\n",
    "legend(loc='best')"
   ]
  },
  {
   "cell_type": "code",
   "execution_count": null,
   "metadata": {},
   "outputs": [],
   "source": []
  }
 ],
 "metadata": {
  "kernelspec": {
   "display_name": "Python 3",
   "language": "python",
   "name": "python3"
  },
  "language_info": {
   "codemirror_mode": {
    "name": "ipython",
    "version": 3
   },
   "file_extension": ".py",
   "mimetype": "text/x-python",
   "name": "python",
   "nbconvert_exporter": "python",
   "pygments_lexer": "ipython3",
   "version": "3.6.9"
  }
 },
 "nbformat": 4,
 "nbformat_minor": 1
}
