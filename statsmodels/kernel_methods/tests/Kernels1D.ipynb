{
 "cells": [
  {
   "cell_type": "code",
   "execution_count": null,
   "metadata": {},
   "outputs": [],
   "source": [
    "%pylab inline\n",
    "from statsmodels.kernel_methods import kernels1d\n",
    "from statsmodels.kernel_methods.kde_utils import numpy_trans1d_method\n",
    "from scipy import fftpack"
   ]
  },
  {
   "cell_type": "code",
   "execution_count": null,
   "metadata": {},
   "outputs": [],
   "source": [
    "#k = kernels.Gaussian1D()\n",
    "k = kernels1d.Epanechnikov()\n",
    "xs = r_[-6:6:2048j]"
   ]
  },
  {
   "cell_type": "code",
   "execution_count": null,
   "metadata": {},
   "outputs": [],
   "source": [
    "plot(xs, k(xs))"
   ]
  },
  {
   "cell_type": "code",
   "execution_count": null,
   "metadata": {},
   "outputs": [],
   "source": [
    "class Ker(kernels1d.Kernel1D):\n",
    "    def __init__(self):\n",
    "        global k\n",
    "        self.lower = k.lower\n",
    "        self.upper = k.upper\n",
    "        self.cut = k.cut\n",
    "        self.k = k\n",
    "    def pdf(self, x, out=None):\n",
    "        return self.k.pdf(x, out)\n",
    "k1 = Ker()\n",
    "print(k1.k)"
   ]
  },
  {
   "cell_type": "markdown",
   "metadata": {},
   "source": [
    "Testing numerical approx.\n",
    "-------------------------"
   ]
  },
  {
   "cell_type": "code",
   "execution_count": null,
   "metadata": {},
   "outputs": [],
   "source": [
    "kC = k.cdf(xs)\n",
    "k1C = k1.cdf(xs)\n",
    "print(\"CDF: \", norm(kC - k1C)/len(xs))\n",
    "\n",
    "f = figure()\n",
    "f.set_figheight(12)\n",
    "ax1 = f.add_subplot(2,1,1)\n",
    "ax1.plot(xs, k1C, label='numeric')\n",
    "ax1.plot(xs, kC, linestyle='--', label='explicit')\n",
    "ax1.legend(loc='best')\n",
    "ax1.set_title('CDF')\n",
    "ax2 = f.add_subplot(2,1,2)\n",
    "ax2.plot(xs, kC - k1C)\n",
    "ax2.set_title('Diff. CDF')"
   ]
  },
  {
   "cell_type": "code",
   "execution_count": null,
   "metadata": {},
   "outputs": [],
   "source": [
    "print(\"PM1: \", norm(k.pm1(xs) - k1.pm1(xs))/len(xs))"
   ]
  },
  {
   "cell_type": "code",
   "execution_count": null,
   "metadata": {},
   "outputs": [],
   "source": [
    "print(\"PM2: \", norm(k.pm2(xs) - k1.pm2(xs))/len(xs))"
   ]
  },
  {
   "cell_type": "code",
   "execution_count": null,
   "metadata": {},
   "outputs": [],
   "source": [
    "fft.rfftfreq(1024, 0.1).max()"
   ]
  },
  {
   "cell_type": "code",
   "execution_count": null,
   "metadata": {},
   "outputs": [],
   "source": [
    "print(\"even numbers:\")\n",
    "fs__ = fft.rfftfreq(len(xs), xs[1]-xs[0])\n",
    "fs_ = kernels1d.rfftfreq(len(xs), xs[1]-xs[0])\n",
    "fmax = fs_.max()\n",
    "print('fmax = ', 1/(2*(xs[1]-xs[0])))\n",
    "print(fs__[1014:])\n",
    "print(fs_[1014:])\n",
    "\n",
    "print(\"odd numbers:\")\n",
    "fs__ = fft.rfftfreq(len(xs)+1, xs[1]-xs[0])\n",
    "fs_ = kernels1d.rfftfreq(len(xs)+1, xs[1]-xs[0])\n",
    "print('fmax = ', 1/(2*(xs[1]-xs[0])))\n",
    "print(fs__[1014:])\n",
    "print(fs_[1014:])"
   ]
  },
  {
   "cell_type": "code",
   "execution_count": null,
   "metadata": {},
   "outputs": [],
   "source": [
    "N = 2**14\n",
    "bw = 0.2\n",
    "R = 10\n",
    "dx = R/(bw*N)\n",
    "fs = kernels1d.rfftfreq(N, dx)\n",
    "print(fs.max(), dx)"
   ]
  },
  {
   "cell_type": "code",
   "execution_count": null,
   "metadata": {},
   "outputs": [],
   "source": [
    "kf = k.rfft(N, dx)\n",
    "k1f = k1.rfft(N, dx)\n",
    "print(\"FFT: \", norm(kf - k1f)/len(fs))\n",
    "f = figure()\n",
    "f.set_size_inches(12, 12)\n",
    "ax1 = f.add_subplot(2,2,1)\n",
    "ax1.plot(fs, k1f.real, label='numeric')\n",
    "ax1.plot(fs, kf.real, linestyle='--', label='explicit')\n",
    "ax1.legend(loc='best')\n",
    "ax1.set_title('Real fft')\n",
    "ax2 = f.add_subplot(2,2,2)\n",
    "ax2.plot(fs, k1f.imag, label='numeric')\n",
    "ax2.plot(fs, kf.imag, linestyle='--', label='explicit')\n",
    "ax2.legend(loc='best')\n",
    "ax2.set_title('Imag fft')\n",
    "\n",
    "ax3 = f.add_subplot(2,2,3)\n",
    "ax3.plot(fs, kf.real - k1f.real)\n",
    "ax3.set_title('Diff. Real fft')\n",
    "ax4 = f.add_subplot(2,2,4)\n",
    "ax4.plot(fs, kf.imag - k1f.imag)\n",
    "ax4.set_title('Diff. Imag fft')"
   ]
  },
  {
   "cell_type": "code",
   "execution_count": null,
   "metadata": {},
   "outputs": [],
   "source": [
    "kfx = k.rfft_xfx(N, dx)\n",
    "k1fx = k1.rfft_xfx(N, dx)\n",
    "print(\"FFT_xfx: \", norm(kfx-k1fx)/len(fs))\n",
    "f = figure()\n",
    "f.set_size_inches(12, 12)\n",
    "\n",
    "ax1 = f.add_subplot(2,2,1)\n",
    "ax1.plot(fs, k1fx.real, label='numeric')\n",
    "ax1.plot(fs, kfx.real, linestyle='--', label='explicit')\n",
    "ax1.legend(loc='best')\n",
    "ax2 = f.add_subplot(2,2,2)\n",
    "ax2.plot(fs, k1fx.imag, label='numeric')\n",
    "ax2.plot(fs, kfx.imag, linestyle='--', label='explicit')\n",
    "ax2.legend(loc='best')\n",
    "ax1.set_title('Real fft_xfx')\n",
    "ax2.set_title('Imag fft_xfx')\n",
    "\n",
    "ax3 = f.add_subplot(2,2,3)\n",
    "ax3.plot(fs, kfx.real - k1fx.real)\n",
    "#ax3.legend(loc='best')\n",
    "ax3.set_title('Diff. Real fft_xfx')\n",
    "ax4 = f.add_subplot(2,2,4)\n",
    "ax4.plot(fs, kfx.imag - k1fx.imag)\n",
    "#ax4.legend(loc='best')\n",
    "ax4.set_title('Diff. Imag fft_xfx')"
   ]
  },
  {
   "cell_type": "code",
   "execution_count": null,
   "metadata": {},
   "outputs": [],
   "source": [
    "ds = kernels1d.dctfreq(N, dx)\n",
    "kd = k.dct(N, dx)\n",
    "k1d = k1.dct(N, dx)\n",
    "print(\"DCT: \", norm(kd-k1d)/len(fs))\n",
    "f = figure()\n",
    "f.set_figheight(12)\n",
    "ax1 = f.add_subplot(2,1,1)\n",
    "ax1.plot(ds, k1d, label='numeric')\n",
    "ax1.plot(ds, kd, linestyle='--', label='explicit')\n",
    "ax1.legend(loc='best')\n",
    "ax1.set_title('DCT')\n",
    "ax2 = f.add_subplot(2,1,2)\n",
    "ax2.plot(ds, kd - k1d)\n",
    "ax2.set_title('Diff. DCT')"
   ]
  },
  {
   "cell_type": "code",
   "execution_count": null,
   "metadata": {},
   "outputs": [],
   "source": []
  }
 ],
 "metadata": {
  "kernelspec": {
   "display_name": "Python 3",
   "language": "python",
   "name": "python3"
  },
  "language_info": {
   "codemirror_mode": {
    "name": "ipython",
    "version": 3
   },
   "file_extension": ".py",
   "mimetype": "text/x-python",
   "name": "python",
   "nbconvert_exporter": "python",
   "pygments_lexer": "ipython3",
   "version": "3.6.9"
  }
 },
 "nbformat": 4,
 "nbformat_minor": 1
}
