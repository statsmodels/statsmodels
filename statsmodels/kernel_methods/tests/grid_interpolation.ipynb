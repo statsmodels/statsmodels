{
 "metadata": {
  "kernelspec": {
   "display_name": "Python 2",
   "language": "python",
   "name": "python2"
  },
  "language_info": {
   "codemirror_mode": {
    "name": "ipython",
    "version": 2
   },
   "file_extension": ".py",
   "mimetype": "text/x-python",
   "name": "python",
   "nbconvert_exporter": "python",
   "pygments_lexer": "ipython2",
   "version": "2.7.6"
  },
  "name": "",
  "signature": "sha256:dd4edf10683419bd12834768871b961387305f48637e1a3db8e8e90f3a105a46"
 },
 "nbformat": 3,
 "nbformat_minor": 0,
 "worksheets": [
  {
   "cells": [
    {
     "cell_type": "code",
     "collapsed": false,
     "input": [
      "%pylab inline\n",
      "from __future__ import print_function, division\n",
      "from statsmodels.kernel_methods.kde_utils import Grid, GridInterpolator\n",
      "from scipy import interpolate"
     ],
     "language": "python",
     "metadata": {},
     "outputs": []
    },
    {
     "cell_type": "heading",
     "level": 1,
     "metadata": {},
     "source": [
      "Testing 1D interpolation"
     ]
    },
    {
     "cell_type": "code",
     "collapsed": false,
     "input": [
      "ms = ogrid[2:2+2*pi:2**20*1j]\n",
      "gr = Grid(ms, dtype=float, bin_type='B')\n",
      "print(gr)\n",
      "vals = 2+cos(ms)"
     ],
     "language": "python",
     "metadata": {},
     "outputs": []
    },
    {
     "cell_type": "code",
     "collapsed": false,
     "input": [
      "interp = GridInterpolator(gr, vals)"
     ],
     "language": "python",
     "metadata": {},
     "outputs": []
    },
    {
     "cell_type": "code",
     "collapsed": false,
     "input": [
      "interp([3,4,5])"
     ],
     "language": "python",
     "metadata": {},
     "outputs": []
    },
    {
     "cell_type": "code",
     "collapsed": false,
     "input": [
      "xs = r_[1.8:2.1+2*pi:2**20*1j]\n",
      "ys = interp(xs)\n",
      "xs.min(), xs.max(), ys.min(), ys.max()"
     ],
     "language": "python",
     "metadata": {},
     "outputs": []
    },
    {
     "cell_type": "code",
     "collapsed": false,
     "input": [
      "plot(xs[::512], ys[::512], label='interpolated')\n",
      "plot(xs[::512], np.interp(xs[::512], gr.full(), vals), label='numpy', color='red', linewidth=2, linestyle='--')\n",
      "legend(loc='best')"
     ],
     "language": "python",
     "metadata": {},
     "outputs": []
    },
    {
     "cell_type": "code",
     "collapsed": false,
     "input": [
      "%timeit interp(xs)"
     ],
     "language": "python",
     "metadata": {},
     "outputs": []
    },
    {
     "cell_type": "code",
     "collapsed": false,
     "input": [
      "%timeit np.interp(xs, gr.full(), vals)"
     ],
     "language": "python",
     "metadata": {},
     "outputs": []
    },
    {
     "cell_type": "heading",
     "level": 3,
     "metadata": {},
     "source": [
      "Cyclic interpolation"
     ]
    },
    {
     "cell_type": "code",
     "collapsed": false,
     "input": [
      "gr_cyc = Grid(ms, dtype=float, bin_type='C')\n",
      "print(gr_cyc)"
     ],
     "language": "python",
     "metadata": {},
     "outputs": []
    },
    {
     "cell_type": "code",
     "collapsed": false,
     "input": [
      "xs = r_[2-pi:2+6*pi:2**20*1j]\n",
      "interp_cyc = GridInterpolator(gr_cyc, vals)"
     ],
     "language": "python",
     "metadata": {},
     "outputs": []
    },
    {
     "cell_type": "code",
     "collapsed": false,
     "input": [
      "ys_cyc = interp_cyc(xs)"
     ],
     "language": "python",
     "metadata": {},
     "outputs": []
    },
    {
     "cell_type": "code",
     "collapsed": false,
     "input": [
      "plot(xs[::512], ys_cyc[::512], label='interpolated')\n",
      "axvline(gr_cyc.bounds[0,0], color='r', linestyle='--')\n",
      "axvline(gr_cyc.bounds[0,1], color='r', linestyle='--')\n",
      "legend(loc='best')"
     ],
     "language": "python",
     "metadata": {},
     "outputs": []
    },
    {
     "cell_type": "code",
     "collapsed": false,
     "input": [
      "%timeit interp_cyc(xs)"
     ],
     "language": "python",
     "metadata": {},
     "outputs": []
    },
    {
     "cell_type": "heading",
     "level": 3,
     "metadata": {},
     "source": [
      "Reflective bounds"
     ]
    },
    {
     "cell_type": "code",
     "collapsed": false,
     "input": [
      "gr_ref = Grid(ms, dtype=float, bin_type='R')\n",
      "print(gr_ref)"
     ],
     "language": "python",
     "metadata": {},
     "outputs": []
    },
    {
     "cell_type": "code",
     "collapsed": false,
     "input": [
      "interp_ref = GridInterpolator(gr_ref, vals)"
     ],
     "language": "python",
     "metadata": {},
     "outputs": []
    },
    {
     "cell_type": "code",
     "collapsed": false,
     "input": [
      "ys_ref = interp_ref(xs)"
     ],
     "language": "python",
     "metadata": {},
     "outputs": []
    },
    {
     "cell_type": "code",
     "collapsed": false,
     "input": [
      "plot(xs[::512], ys_ref[::512], label='interpolated')\n",
      "axvline(gr_ref.bounds[0,0], color='r', linestyle='--')\n",
      "axvline(gr_ref.bounds[0,1], color='r', linestyle='--')\n",
      "legend(loc='best')"
     ],
     "language": "python",
     "metadata": {},
     "outputs": []
    },
    {
     "cell_type": "code",
     "collapsed": false,
     "input": [
      "%timeit interp_ref(xs)"
     ],
     "language": "python",
     "metadata": {},
     "outputs": []
    },
    {
     "cell_type": "heading",
     "level": 1,
     "metadata": {},
     "source": [
      "Testing 2D interpolation"
     ]
    },
    {
     "cell_type": "markdown",
     "metadata": {},
     "source": [
      "Set the next block to code to evaluate only this section:"
     ]
    },
    {
     "cell_type": "raw",
     "metadata": {},
     "source": [
      "%pylab inline\n",
      "from __future__ import print_function, division\n",
      "from statsmodels.kernel_methods.kde_utils import Grid, GridInterpolator\n",
      "from scipy import interpolate"
     ]
    },
    {
     "cell_type": "code",
     "collapsed": false,
     "input": [
      "ms = ogrid[2*pi/7:pi+2*pi/7:256j, pi*5/7:5/7*pi+pi:256j]\n",
      "gr = Grid.fromSparse(ms)\n",
      "npts = prod(gr.shape)\n",
      "xxs = gr.linear()\n",
      "gr, xxs.shape"
     ],
     "language": "python",
     "metadata": {},
     "outputs": []
    },
    {
     "cell_type": "code",
     "collapsed": false,
     "input": [
      "vals = cos(4*gr[0][:,None]) * sin(6*gr[1])"
     ],
     "language": "python",
     "metadata": {},
     "outputs": []
    },
    {
     "cell_type": "code",
     "collapsed": false,
     "input": [
      "interp2d = GridInterpolator(gr, vals)"
     ],
     "language": "python",
     "metadata": {},
     "outputs": []
    },
    {
     "cell_type": "code",
     "collapsed": false,
     "input": [
      "lin_grid = gr.full().reshape(npts, 2)\n",
      "lin_vals = vals.reshape(npts)\n",
      "interp_test = interpolate.LinearNDInterpolator(lin_grid, lin_vals)"
     ],
     "language": "python",
     "metadata": {},
     "outputs": []
    },
    {
     "cell_type": "code",
     "collapsed": false,
     "input": [
      "xs = concatenate([c_[2*pi/7 + pi*rand(1024), 5/7*pi+pi*rand(1024)], xxs], axis=0)\n",
      "expected = interp_test(xs)\n",
      "computed = interp2d(xs)"
     ],
     "language": "python",
     "metadata": {},
     "outputs": []
    },
    {
     "cell_type": "code",
     "collapsed": false,
     "input": [
      "sqrt(sum((computed - expected)**2))"
     ],
     "language": "python",
     "metadata": {},
     "outputs": []
    },
    {
     "cell_type": "code",
     "collapsed": false,
     "input": [
      "f = figure()\n",
      "ax1 = f.add_subplot(1,3,1)\n",
      "tripcolor(xs[:,0], xs[:,1], expected, shading='gouraud')\n",
      "ax2 = f.add_subplot(1,3,2)\n",
      "tripcolor(xs[:,0], xs[:,1], computed, shading='gouraud')\n",
      "ax3 = f.add_subplot(1,3,3)\n",
      "tripcolor(xxs[:,0], xxs[:,1], vals.reshape(npts), shading='gouraud')"
     ],
     "language": "python",
     "metadata": {},
     "outputs": []
    },
    {
     "cell_type": "heading",
     "level": 3,
     "metadata": {},
     "source": [
      "Cyclic Boundaries"
     ]
    },
    {
     "cell_type": "code",
     "collapsed": false,
     "input": [
      "gr_cyc = Grid.fromSparse(ms, bin_type='C')\n",
      "print(gr_cyc)\n",
      "interp2d_cyc = GridInterpolator(gr_cyc, vals)\n",
      "large_grid = Grid.fromSparse(ogrid[-1.5*pi:2*pi:1024j, -pi:3*pi:1024j])"
     ],
     "language": "python",
     "metadata": {},
     "outputs": []
    },
    {
     "cell_type": "code",
     "collapsed": false,
     "input": [
      "est_cyc = interp2d_cyc(large_grid.linear())\n",
      "est_cyc.shape = large_grid.shape"
     ],
     "language": "python",
     "metadata": {},
     "outputs": []
    },
    {
     "cell_type": "code",
     "collapsed": false,
     "input": [
      "f = figure()\n",
      "f.set_size_inches(8, 8)\n",
      "large_xxs = large_grid.full('C')\n",
      "pcolormesh(large_xxs[0], large_xxs[1], est_cyc, cmap=cm.jet, shading='gouraud')\n",
      "xlim(large_grid.bounds[0,0], large_grid.bounds[0,1])\n",
      "ylim(large_grid.bounds[1,0], large_grid.bounds[1,1])\n",
      "ax = gca()\n",
      "rx, ry = gr_cyc.bounds[0,0], gr_cyc.bounds[1,0]\n",
      "sx = gr_cyc.bounds[0,1] - gr_cyc.bounds[0,0]\n",
      "sy = gr_cyc.bounds[1,1] - gr_cyc.bounds[1,0]\n",
      "ax.add_patch(Rectangle((rx, ry), sx, sy, edgecolor='lightgrey', linewidth=2, facecolor='None'))"
     ],
     "language": "python",
     "metadata": {},
     "outputs": []
    },
    {
     "cell_type": "heading",
     "level": 3,
     "metadata": {},
     "source": [
      "Reflected Boundaries"
     ]
    },
    {
     "cell_type": "code",
     "collapsed": false,
     "input": [
      "gr_ref = Grid.fromSparse(ms, bin_type='R')\n",
      "print(gr_ref)\n",
      "interp2d_ref = GridInterpolator(gr_ref, vals)"
     ],
     "language": "python",
     "metadata": {},
     "outputs": []
    },
    {
     "cell_type": "code",
     "collapsed": false,
     "input": [
      "est_ref = interp2d_ref(large_grid.linear())\n",
      "est_ref.shape = large_grid.shape"
     ],
     "language": "python",
     "metadata": {},
     "outputs": []
    },
    {
     "cell_type": "code",
     "collapsed": false,
     "input": [
      "f = figure()\n",
      "f.set_size_inches(8, 8)\n",
      "large_xxs = large_grid.full('C')\n",
      "pcolormesh(large_xxs[0], large_xxs[1], est_ref, cmap=cm.jet, shading='gouraud')\n",
      "ax = gca()\n",
      "rx, ry = gr_ref.bounds[0,0], gr_ref.bounds[1,0]\n",
      "sx = gr_ref.bounds[0,1] - gr_ref.bounds[0,0]\n",
      "sy = gr_ref.bounds[1,1] - gr_ref.bounds[1,0]\n",
      "ax.add_patch(Rectangle((rx, ry), sx, sy, edgecolor='lightgrey', linewidth=2, facecolor='None'))\n",
      "xlim(large_grid.bounds[0,0], large_grid.bounds[0,1])\n",
      "ylim(large_grid.bounds[1,0], large_grid.bounds[1,1])"
     ],
     "language": "python",
     "metadata": {},
     "outputs": []
    },
    {
     "cell_type": "heading",
     "level": 3,
     "metadata": {},
     "source": [
      "And finally, mixed"
     ]
    },
    {
     "cell_type": "code",
     "collapsed": false,
     "input": [
      "gr_mix = Grid.fromSparse(ms, bin_type='CR')\n",
      "print(gr_mix)\n",
      "interp2d_mix = GridInterpolator(gr_mix, vals)"
     ],
     "language": "python",
     "metadata": {},
     "outputs": []
    },
    {
     "cell_type": "code",
     "collapsed": false,
     "input": [
      "est_mix = interp2d_mix(large_grid.linear())\n",
      "est_mix.shape = large_grid.shape"
     ],
     "language": "python",
     "metadata": {},
     "outputs": []
    },
    {
     "cell_type": "code",
     "collapsed": false,
     "input": [
      "f = figure()\n",
      "f.set_size_inches(8, 8)\n",
      "large_xxs = large_grid.full('C')\n",
      "pcolormesh(large_xxs[0], large_xxs[1], est_mix, cmap=cm.jet, shading='gouraud')\n",
      "ax = gca()\n",
      "rx, ry = gr_mix.bounds[0,0], gr_mix.bounds[1,0]\n",
      "sx = gr_mix.bounds[0,1] - gr_mix.bounds[0,0]\n",
      "sy = gr_mix.bounds[1,1] - gr_mix.bounds[1,0]\n",
      "ax.add_patch(Rectangle((rx, ry), sx, sy, edgecolor='lightgrey', linewidth=2, facecolor='None'))\n",
      "xlim(large_grid.bounds[0,0], large_grid.bounds[0,1])\n",
      "ylim(large_grid.bounds[1,0], large_grid.bounds[1,1])"
     ],
     "language": "python",
     "metadata": {},
     "outputs": []
    },
    {
     "cell_type": "heading",
     "level": 3,
     "metadata": {},
     "source": [
      "Second mix"
     ]
    },
    {
     "cell_type": "code",
     "collapsed": false,
     "input": [
      "gr_mix2 = Grid.fromSparse(ms, bin_type='BR')\n",
      "print(gr_mix2)\n",
      "interp2d_mix2 = GridInterpolator(gr_mix2, vals)"
     ],
     "language": "python",
     "metadata": {},
     "outputs": []
    },
    {
     "cell_type": "code",
     "collapsed": false,
     "input": [
      "est_mix2 = interp2d_mix2(large_grid.linear())\n",
      "est_mix2.shape = large_grid.shape"
     ],
     "language": "python",
     "metadata": {},
     "outputs": []
    },
    {
     "cell_type": "code",
     "collapsed": false,
     "input": [
      "f = figure()\n",
      "f.set_size_inches(8, 8)\n",
      "large_xxs = large_grid.full('C')\n",
      "pcolormesh(large_xxs[0], large_xxs[1], est_mix2, cmap=cm.jet, shading='gouraud')\n",
      "ax = gca()\n",
      "rx, ry = gr_mix2.bounds[0,0], gr_mix2.bounds[1,0]\n",
      "sx = gr_mix2.bounds[0,1] - gr_mix2.bounds[0,0]\n",
      "sy = gr_mix2.bounds[1,1] - gr_mix2.bounds[1,0]\n",
      "ax.add_patch(Rectangle((rx, ry), sx, sy, edgecolor='lightgrey', linewidth=2, facecolor='None'))\n",
      "xlim(large_grid.bounds[0,0], large_grid.bounds[0,1])\n",
      "ylim(large_grid.bounds[1,0], large_grid.bounds[1,1])"
     ],
     "language": "python",
     "metadata": {},
     "outputs": []
    },
    {
     "cell_type": "code",
     "collapsed": false,
     "input": [],
     "language": "python",
     "metadata": {},
     "outputs": []
    }
   ],
   "metadata": {}
  }
 ]
}