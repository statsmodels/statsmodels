{
 "cells": [
  {
   "cell_type": "code",
   "execution_count": null,
   "metadata": {},
   "outputs": [],
   "source": [
    "%pylab inline\n",
    "from statsmodels.kernel_methods.kde_utils import Grid, GridInterpolator\n",
    "from scipy import interpolate"
   ]
  },
  {
   "cell_type": "markdown",
   "metadata": {},
   "source": [
    "# Testing 1D interpolation"
   ]
  },
  {
   "cell_type": "code",
   "execution_count": null,
   "metadata": {},
   "outputs": [],
   "source": [
    "ms = ogrid[2:2+2*pi:2**20*1j]\n",
    "gr = Grid(ms, dtype=float, bin_type='B')\n",
    "print(gr)\n",
    "vals = 2+cos(ms)"
   ]
  },
  {
   "cell_type": "code",
   "execution_count": null,
   "metadata": {},
   "outputs": [],
   "source": [
    "interp = GridInterpolator(gr, vals)"
   ]
  },
  {
   "cell_type": "code",
   "execution_count": null,
   "metadata": {},
   "outputs": [],
   "source": [
    "interp([3,4,5])"
   ]
  },
  {
   "cell_type": "code",
   "execution_count": null,
   "metadata": {},
   "outputs": [],
   "source": [
    "xs = r_[1.8:2.1+2*pi:2**20*1j]\n",
    "ys = interp(xs)\n",
    "xs.min(), xs.max(), ys.min(), ys.max()"
   ]
  },
  {
   "cell_type": "code",
   "execution_count": null,
   "metadata": {},
   "outputs": [],
   "source": [
    "plot(xs[::512], ys[::512], label='interpolated')\n",
    "plot(xs[::512], np.interp(xs[::512], gr.full(), vals), label='numpy', color='red', linewidth=2, linestyle='--')\n",
    "legend(loc='best')"
   ]
  },
  {
   "cell_type": "code",
   "execution_count": null,
   "metadata": {},
   "outputs": [],
   "source": [
    "%timeit interp(xs)"
   ]
  },
  {
   "cell_type": "code",
   "execution_count": null,
   "metadata": {},
   "outputs": [],
   "source": [
    "%timeit np.interp(xs, gr.full(), vals)"
   ]
  },
  {
   "cell_type": "markdown",
   "metadata": {},
   "source": [
    "### Cyclic interpolation"
   ]
  },
  {
   "cell_type": "code",
   "execution_count": null,
   "metadata": {},
   "outputs": [],
   "source": [
    "gr_cyc = Grid(ms, dtype=float, bin_type='C')\n",
    "print(gr_cyc)"
   ]
  },
  {
   "cell_type": "code",
   "execution_count": null,
   "metadata": {},
   "outputs": [],
   "source": [
    "xs = r_[2-pi:2+6*pi:2**20*1j]\n",
    "interp_cyc = GridInterpolator(gr_cyc, vals)"
   ]
  },
  {
   "cell_type": "code",
   "execution_count": null,
   "metadata": {},
   "outputs": [],
   "source": [
    "ys_cyc = interp_cyc(xs)"
   ]
  },
  {
   "cell_type": "code",
   "execution_count": null,
   "metadata": {},
   "outputs": [],
   "source": [
    "plot(xs[::512], ys_cyc[::512], label='interpolated')\n",
    "axvline(gr_cyc.bounds[0,0], color='r', linestyle='--')\n",
    "axvline(gr_cyc.bounds[0,1], color='r', linestyle='--')\n",
    "legend(loc='best')"
   ]
  },
  {
   "cell_type": "code",
   "execution_count": null,
   "metadata": {},
   "outputs": [],
   "source": [
    "%timeit interp_cyc(xs)"
   ]
  },
  {
   "cell_type": "markdown",
   "metadata": {},
   "source": [
    "### Reflective bounds"
   ]
  },
  {
   "cell_type": "code",
   "execution_count": null,
   "metadata": {},
   "outputs": [],
   "source": [
    "gr_ref = Grid(ms, dtype=float, bin_type='R')\n",
    "print(gr_ref)"
   ]
  },
  {
   "cell_type": "code",
   "execution_count": null,
   "metadata": {},
   "outputs": [],
   "source": [
    "interp_ref = GridInterpolator(gr_ref, vals)"
   ]
  },
  {
   "cell_type": "code",
   "execution_count": null,
   "metadata": {},
   "outputs": [],
   "source": [
    "ys_ref = interp_ref(xs)"
   ]
  },
  {
   "cell_type": "code",
   "execution_count": null,
   "metadata": {},
   "outputs": [],
   "source": [
    "plot(xs[::512], ys_ref[::512], label='interpolated')\n",
    "axvline(gr_ref.bounds[0,0], color='r', linestyle='--')\n",
    "axvline(gr_ref.bounds[0,1], color='r', linestyle='--')\n",
    "legend(loc='best')"
   ]
  },
  {
   "cell_type": "code",
   "execution_count": null,
   "metadata": {},
   "outputs": [],
   "source": [
    "%timeit interp_ref(xs)"
   ]
  },
  {
   "cell_type": "markdown",
   "metadata": {},
   "source": [
    "# Testing 2D interpolation"
   ]
  },
  {
   "cell_type": "markdown",
   "metadata": {},
   "source": [
    "Set the next block to code to evaluate only this section:"
   ]
  },
  {
   "cell_type": "code",
   "execution_count": null,
   "metadata": {},
   "outputs": [],
   "source": [
    "%pylab inline\n",
    "from statsmodels.kernel_methods.kde_utils import Grid, GridInterpolator\n",
    "from scipy import interpolate"
   ]
  },
  {
   "cell_type": "code",
   "execution_count": null,
   "metadata": {},
   "outputs": [],
   "source": [
    "ms = ogrid[2*pi/7:pi+2*pi/7:256j, pi*5/7:5/7*pi+pi:256j]\n",
    "gr = Grid.fromSparse(ms)\n",
    "npts = prod(gr.shape)\n",
    "xxs = gr.linear()\n",
    "gr, xxs.shape"
   ]
  },
  {
   "cell_type": "code",
   "execution_count": null,
   "metadata": {},
   "outputs": [],
   "source": [
    "vals = cos(4*gr[0][:,None]) * sin(6*gr[1])"
   ]
  },
  {
   "cell_type": "code",
   "execution_count": null,
   "metadata": {},
   "outputs": [],
   "source": [
    "interp2d = GridInterpolator(gr, vals)"
   ]
  },
  {
   "cell_type": "code",
   "execution_count": null,
   "metadata": {},
   "outputs": [],
   "source": [
    "lin_grid = gr.full().reshape(npts, 2)\n",
    "lin_vals = vals.reshape(npts)\n",
    "interp_test = interpolate.LinearNDInterpolator(lin_grid, lin_vals)"
   ]
  },
  {
   "cell_type": "code",
   "execution_count": null,
   "metadata": {},
   "outputs": [],
   "source": [
    "xs = concatenate([c_[2*pi/7 + pi*rand(1024), 5/7*pi+pi*rand(1024)], xxs], axis=0)\n",
    "expected = interp_test(xs)\n",
    "computed = interp2d(xs)"
   ]
  },
  {
   "cell_type": "code",
   "execution_count": null,
   "metadata": {},
   "outputs": [],
   "source": [
    "sqrt(sum((computed - expected)**2))"
   ]
  },
  {
   "cell_type": "code",
   "execution_count": null,
   "metadata": {},
   "outputs": [],
   "source": [
    "f = figure()\n",
    "ax1 = f.add_subplot(1,3,1)\n",
    "tripcolor(xs[:,0], xs[:,1], expected, shading='gouraud')\n",
    "ax2 = f.add_subplot(1,3,2)\n",
    "tripcolor(xs[:,0], xs[:,1], computed, shading='gouraud')\n",
    "ax3 = f.add_subplot(1,3,3)\n",
    "tripcolor(xxs[:,0], xxs[:,1], vals.reshape(npts), shading='gouraud')"
   ]
  },
  {
   "cell_type": "markdown",
   "metadata": {},
   "source": [
    "### Cyclic Boundaries"
   ]
  },
  {
   "cell_type": "code",
   "execution_count": null,
   "metadata": {},
   "outputs": [],
   "source": [
    "gr_cyc = Grid.fromSparse(ms, bin_type='C')\n",
    "print(gr_cyc)\n",
    "interp2d_cyc = GridInterpolator(gr_cyc, vals)\n",
    "large_grid = Grid.fromSparse(ogrid[-1.5*pi:2*pi:1024j, -pi:3*pi:1024j])"
   ]
  },
  {
   "cell_type": "code",
   "execution_count": null,
   "metadata": {},
   "outputs": [],
   "source": [
    "est_cyc = interp2d_cyc(large_grid.linear())\n",
    "est_cyc.shape = large_grid.shape"
   ]
  },
  {
   "cell_type": "code",
   "execution_count": null,
   "metadata": {},
   "outputs": [],
   "source": [
    "f = figure()\n",
    "f.set_size_inches(8, 8)\n",
    "large_xxs = large_grid.full('C')\n",
    "pcolormesh(large_xxs[0], large_xxs[1], est_cyc, cmap=cm.jet, shading='gouraud')\n",
    "xlim(large_grid.bounds[0,0], large_grid.bounds[0,1])\n",
    "ylim(large_grid.bounds[1,0], large_grid.bounds[1,1])\n",
    "ax = gca()\n",
    "rx, ry = gr_cyc.bounds[0,0], gr_cyc.bounds[1,0]\n",
    "sx = gr_cyc.bounds[0,1] - gr_cyc.bounds[0,0]\n",
    "sy = gr_cyc.bounds[1,1] - gr_cyc.bounds[1,0]\n",
    "ax.add_patch(Rectangle((rx, ry), sx, sy, edgecolor='lightgrey', linewidth=2, facecolor='None'))"
   ]
  },
  {
   "cell_type": "markdown",
   "metadata": {},
   "source": [
    "### Reflected Boundaries"
   ]
  },
  {
   "cell_type": "code",
   "execution_count": null,
   "metadata": {},
   "outputs": [],
   "source": [
    "gr_ref = Grid.fromSparse(ms, bin_type='R')\n",
    "print(gr_ref)\n",
    "interp2d_ref = GridInterpolator(gr_ref, vals)"
   ]
  },
  {
   "cell_type": "code",
   "execution_count": null,
   "metadata": {},
   "outputs": [],
   "source": [
    "est_ref = interp2d_ref(large_grid.linear())\n",
    "est_ref.shape = large_grid.shape"
   ]
  },
  {
   "cell_type": "code",
   "execution_count": null,
   "metadata": {},
   "outputs": [],
   "source": [
    "f = figure()\n",
    "f.set_size_inches(8, 8)\n",
    "large_xxs = large_grid.full('C')\n",
    "pcolormesh(large_xxs[0], large_xxs[1], est_ref, cmap=cm.jet, shading='gouraud')\n",
    "ax = gca()\n",
    "rx, ry = gr_ref.bounds[0,0], gr_ref.bounds[1,0]\n",
    "sx = gr_ref.bounds[0,1] - gr_ref.bounds[0,0]\n",
    "sy = gr_ref.bounds[1,1] - gr_ref.bounds[1,0]\n",
    "ax.add_patch(Rectangle((rx, ry), sx, sy, edgecolor='lightgrey', linewidth=2, facecolor='None'))\n",
    "xlim(large_grid.bounds[0,0], large_grid.bounds[0,1])\n",
    "ylim(large_grid.bounds[1,0], large_grid.bounds[1,1])"
   ]
  },
  {
   "cell_type": "markdown",
   "metadata": {},
   "source": [
    "### And finally, mixed"
   ]
  },
  {
   "cell_type": "code",
   "execution_count": null,
   "metadata": {},
   "outputs": [],
   "source": [
    "gr_mix = Grid.fromSparse(ms, bin_type='CR')\n",
    "print(gr_mix)\n",
    "interp2d_mix = GridInterpolator(gr_mix, vals)"
   ]
  },
  {
   "cell_type": "code",
   "execution_count": null,
   "metadata": {},
   "outputs": [],
   "source": [
    "est_mix = interp2d_mix(large_grid.linear())\n",
    "est_mix.shape = large_grid.shape"
   ]
  },
  {
   "cell_type": "code",
   "execution_count": null,
   "metadata": {},
   "outputs": [],
   "source": [
    "f = figure()\n",
    "f.set_size_inches(8, 8)\n",
    "large_xxs = large_grid.full('C')\n",
    "pcolormesh(large_xxs[0], large_xxs[1], est_mix, cmap=cm.jet, shading='gouraud')\n",
    "ax = gca()\n",
    "rx, ry = gr_mix.bounds[0,0], gr_mix.bounds[1,0]\n",
    "sx = gr_mix.bounds[0,1] - gr_mix.bounds[0,0]\n",
    "sy = gr_mix.bounds[1,1] - gr_mix.bounds[1,0]\n",
    "ax.add_patch(Rectangle((rx, ry), sx, sy, edgecolor='lightgrey', linewidth=2, facecolor='None'))\n",
    "xlim(large_grid.bounds[0,0], large_grid.bounds[0,1])\n",
    "ylim(large_grid.bounds[1,0], large_grid.bounds[1,1])"
   ]
  },
  {
   "cell_type": "markdown",
   "metadata": {},
   "source": [
    "### Second mix"
   ]
  },
  {
   "cell_type": "code",
   "execution_count": null,
   "metadata": {},
   "outputs": [],
   "source": [
    "gr_mix2 = Grid.fromSparse(ms, bin_type='BR')\n",
    "print(gr_mix2)\n",
    "interp2d_mix2 = GridInterpolator(gr_mix2, vals)"
   ]
  },
  {
   "cell_type": "code",
   "execution_count": null,
   "metadata": {},
   "outputs": [],
   "source": [
    "est_mix2 = interp2d_mix2(large_grid.linear())\n",
    "est_mix2.shape = large_grid.shape"
   ]
  },
  {
   "cell_type": "code",
   "execution_count": null,
   "metadata": {},
   "outputs": [],
   "source": [
    "f = figure()\n",
    "f.set_size_inches(8, 8)\n",
    "large_xxs = large_grid.full('C')\n",
    "pcolormesh(large_xxs[0], large_xxs[1], est_mix2, cmap=cm.jet, shading='gouraud')\n",
    "ax = gca()\n",
    "rx, ry = gr_mix2.bounds[0,0], gr_mix2.bounds[1,0]\n",
    "sx = gr_mix2.bounds[0,1] - gr_mix2.bounds[0,0]\n",
    "sy = gr_mix2.bounds[1,1] - gr_mix2.bounds[1,0]\n",
    "ax.add_patch(Rectangle((rx, ry), sx, sy, edgecolor='lightgrey', linewidth=2, facecolor='None'))\n",
    "xlim(large_grid.bounds[0,0], large_grid.bounds[0,1])\n",
    "ylim(large_grid.bounds[1,0], large_grid.bounds[1,1])"
   ]
  },
  {
   "cell_type": "code",
   "execution_count": null,
   "metadata": {},
   "outputs": [],
   "source": []
  }
 ],
 "metadata": {
  "kernelspec": {
   "display_name": "Python 3",
   "language": "python",
   "name": "python3"
  },
  "language_info": {
   "codemirror_mode": {
    "name": "ipython",
    "version": 3
   },
   "file_extension": ".py",
   "mimetype": "text/x-python",
   "name": "python",
   "nbconvert_exporter": "python",
   "pygments_lexer": "ipython3",
   "version": "3.6.9"
  }
 },
 "nbformat": 4,
 "nbformat_minor": 1
}
