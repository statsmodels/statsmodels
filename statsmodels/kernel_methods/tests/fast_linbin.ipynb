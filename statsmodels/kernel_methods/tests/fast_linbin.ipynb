{
 "metadata": {
  "kernelspec": {
   "display_name": "Python 2",
   "language": "python",
   "name": "python2"
  },
  "language_info": {
   "codemirror_mode": {
    "name": "ipython",
    "version": 2
   },
   "file_extension": ".py",
   "mimetype": "text/x-python",
   "name": "python",
   "nbconvert_exporter": "python",
   "pygments_lexer": "ipython2",
   "version": "2.7.6"
  },
  "name": "",
  "signature": "sha256:40403cf88b921d16c01e7256df4a1a078f060a9cb740da1574fb8bd09f605077"
 },
 "nbformat": 3,
 "nbformat_minor": 0,
 "worksheets": [
  {
   "cells": [
    {
     "cell_type": "heading",
     "level": 1,
     "metadata": {},
     "source": [
      "1D LinBin"
     ]
    },
    {
     "cell_type": "code",
     "collapsed": false,
     "input": [
      "from __future__ import division, print_function\n",
      "%pylab inline\n",
      "from statsmodels.kernel_methods import _fast_linbin, kernels\n",
      "from statsmodels.kernel_methods.kde_utils import Grid\n",
      "from scipy import stats"
     ],
     "language": "python",
     "metadata": {},
     "outputs": []
    },
    {
     "cell_type": "code",
     "collapsed": false,
     "input": [
      "N=1e6\n",
      "nbins = 128\n",
      "dist = stats.norm(0, 1)\n",
      "pts = dist.rvs(N)\n",
      "#ws = 3*rand(N)\n",
      "ws = 1.\n",
      "total_weight = N\n",
      "low = np.floor(pts.min())\n",
      "up = np.ceil(pts.max())\n",
      "print(low, up)\n",
      "pts.shape"
     ],
     "language": "python",
     "metadata": {},
     "outputs": []
    },
    {
     "cell_type": "code",
     "collapsed": false,
     "input": [
      "mesh, bins = _fast_linbin.fast_linbin(pts, r_[low, up], nbins, weights=ws, bin_type='C')\n",
      "print(bins.shape)\n",
      "normed_bins = bins / (total_weight * mesh.bin_sizes()[0])\n",
      "print(\"Sum: \", sum(bins), \" -- total_weight: \", total_weight)"
     ],
     "language": "python",
     "metadata": {},
     "outputs": []
    },
    {
     "cell_type": "code",
     "collapsed": false,
     "input": [
      "H, edges = np.histogram(pts, nbins, range=(low, up), normed=True)\n",
      "h = (edges[1:] + edges[:-1])/2"
     ],
     "language": "python",
     "metadata": {},
     "outputs": []
    },
    {
     "cell_type": "code",
     "collapsed": false,
     "input": [
      "f_mesh = mesh.full()\n",
      "expected_linbin = dist.pdf(f_mesh)\n",
      "err_linbin = (normed_bins - expected_linbin)\n",
      "print(expected_linbin.shape)\n",
      "\n",
      "expected_hist = dist.pdf(h)\n",
      "err_H = (H - expected_hist)\n",
      "print(expected_hist.shape)"
     ],
     "language": "python",
     "metadata": {},
     "outputs": []
    },
    {
     "cell_type": "code",
     "collapsed": false,
     "input": [
      "f = figure()\n",
      "f.set_size_inches(20,10)\n",
      "ax1 = f.add_subplot(1,2,1)\n",
      "plot(f_mesh, normed_bins, label='linbin', linestyle='-', drawstyle='steps-mid')\n",
      "plot(h, H, label='histogram', linestyle='-', drawstyle='steps-mid')\n",
      "plot(f_mesh, expected_linbin, label='expected', color='red', linestyle='--', linewidth=2)\n",
      "xlim(low, up)\n",
      "legend(loc='best')\n",
      "title('Binning')\n",
      "\n",
      "ax2 = f.add_subplot(1,2,2)\n",
      "err_linbins = normed_bins - expected_linbin\n",
      "plot(f_mesh, err_linbins, label='linbin')\n",
      "err_H = H - expected_hist\n",
      "plot(h, err_H, label='histogram')\n",
      "xlim(low, up)\n",
      "legend(loc='best')\n",
      "title('Binning Error')\n"
     ],
     "language": "python",
     "metadata": {},
     "outputs": []
    },
    {
     "cell_type": "heading",
     "level": 3,
     "metadata": {},
     "source": [
      "Evaluation"
     ]
    },
    {
     "cell_type": "code",
     "collapsed": false,
     "input": [
      "print(\"Error linbin = \", sqrt(sum((err_linbin)**2)))\n",
      "print(\"Error hist = \", sqrt(sum((err_H)**2)))"
     ],
     "language": "python",
     "metadata": {},
     "outputs": []
    },
    {
     "cell_type": "code",
     "collapsed": false,
     "input": [
      "ppts = dist.rvs(1e6)\n",
      "print('Fast linbin')\n",
      "print('-----------')\n",
      "%timeit _fast_linbin.fast_linbin(ppts, [low, up], 2**16, weights=ws)\n",
      "print('\\nHistogram')\n",
      "print('---------')\n",
      "%timeit np.histogram(ppts, 2**16, range=(low, up))"
     ],
     "language": "python",
     "metadata": {},
     "outputs": []
    },
    {
     "cell_type": "heading",
     "level": 3,
     "metadata": {},
     "source": [
      "Cyclic and Reflexive binning"
     ]
    },
    {
     "cell_type": "code",
     "collapsed": false,
     "input": [
      "ref_mesh, ref_bins = _fast_linbin.fast_linbin(pts, [low, 0], nbins, weights=ws, bin_type='R')\n",
      "dx = ref_mesh.start_interval[0]\n",
      "ref_bins /= total_weight*dx\n",
      "print('Sum ref: ', dx*sum(ref_bins))\n",
      "ref_bins.max(), ref_bins.argmax(), ref_bins.shape"
     ],
     "language": "python",
     "metadata": {},
     "outputs": []
    },
    {
     "cell_type": "code",
     "collapsed": false,
     "input": [
      "cyc_mesh, cyc_bins = _fast_linbin.fast_linbin(pts, [low, 0], nbins, weights=ws, bin_type='C')\n",
      "cyc_bins /= total_weight*dx\n",
      "print('Sum cyc: ', dx*sum(cyc_bins))"
     ],
     "language": "python",
     "metadata": {},
     "outputs": []
    },
    {
     "cell_type": "code",
     "collapsed": false,
     "input": [
      "f = figure()\n",
      "plot(ref_mesh.full(), ref_bins, label='reflective', linestyle='-', drawstyle='steps-mid')\n",
      "plot(cyc_mesh.full(), cyc_bins, label='cyclic', linestyle='-', drawstyle='steps-mid')\n",
      "xlim(low, 0)\n",
      "legend(loc='best')\n",
      "title('Binning')"
     ],
     "language": "python",
     "metadata": {},
     "outputs": []
    },
    {
     "cell_type": "code",
     "collapsed": false,
     "input": [
      "ref_mesh, ref_bins = _fast_linbin.fast_linbin(pts, [0, up], nbins, weights=ws, bin_type='R')\n",
      "dx = ref_mesh.start_interval[0]\n",
      "ref_bins /= total_weight*dx\n",
      "print('Sum ref: ', dx*sum(ref_bins))\n",
      "ref_bins.max(), ref_bins.argmax(), ref_bins.shape"
     ],
     "language": "python",
     "metadata": {},
     "outputs": []
    },
    {
     "cell_type": "code",
     "collapsed": false,
     "input": [
      "cyc_mesh, cyc_bins = _fast_linbin.fast_linbin(pts, [0, up], nbins, weights=ws, bin_type='C')\n",
      "cyc_bins /= total_weight*dx\n",
      "print('Sum cyc: ', dx*sum(cyc_bins))"
     ],
     "language": "python",
     "metadata": {},
     "outputs": []
    },
    {
     "cell_type": "code",
     "collapsed": false,
     "input": [
      "f = figure()\n",
      "plot(ref_mesh.full(), ref_bins, label='reflective', linestyle='-', drawstyle='steps-mid')\n",
      "plot(cyc_mesh.full(), cyc_bins, label='cyclic', linestyle='-', drawstyle='steps-mid')\n",
      "xlim(0, up)\n",
      "legend(loc='best')\n",
      "title('Binning')"
     ],
     "language": "python",
     "metadata": {},
     "outputs": []
    },
    {
     "cell_type": "heading",
     "level": 1,
     "metadata": {},
     "source": [
      "2D LinBin"
     ]
    },
    {
     "cell_type": "code",
     "collapsed": false,
     "input": [
      "from __future__ import division, print_function\n",
      "%pylab inline\n",
      "from statsmodels.kernel_methods import _fast_linbin, kernels\n",
      "from statsmodels.kernel_methods.kde_utils import Grid\n",
      "from scipy import stats"
     ],
     "language": "python",
     "metadata": {},
     "outputs": []
    },
    {
     "cell_type": "code",
     "collapsed": false,
     "input": [
      "N=1e7\n",
      "dist_x = stats.norm(0, 1)\n",
      "dist_y = stats.norm(0, 2)\n",
      "pts = c_[dist_x.rvs(N), dist_y.rvs(N)]\n",
      "#ws = 3*rand(N)\n",
      "ws = 1.\n",
      "total_weight = N\n",
      "low = np.floor(pts.min(axis=0))\n",
      "up = np.ceil(pts.max(axis=0))\n",
      "print(low, up)\n",
      "pts.shape"
     ],
     "language": "python",
     "metadata": {},
     "outputs": []
    },
    {
     "cell_type": "code",
     "collapsed": false,
     "input": [
      "mesh, bins = _fast_linbin.fast_linbin_nd(pts, c_[low, up], [128,256], weights=ws, bin_types='C')\n",
      "print('Shape: ', mesh.shape)\n",
      "print('Bounds: ', mesh.bounds)\n",
      "print('Start Interval: ', mesh.start_interval)\n",
      "print(mesh[0,:5], mesh[1,:5])"
     ],
     "language": "python",
     "metadata": {},
     "outputs": []
    },
    {
     "cell_type": "code",
     "collapsed": false,
     "input": [
      "mesh2 = mesh.full('C')\n",
      "print(mesh2.shape, bins.shape)\n",
      "dm = mesh.start_interval\n",
      "print(dm)\n",
      "da = mesh.start_volume\n",
      "normed_bins = bins / (total_weight*da)"
     ],
     "language": "python",
     "metadata": {},
     "outputs": []
    },
    {
     "cell_type": "code",
     "collapsed": false,
     "input": [
      "sum(bins), total_weight"
     ],
     "language": "python",
     "metadata": {},
     "outputs": []
    },
    {
     "cell_type": "code",
     "collapsed": false,
     "input": [
      "hws = ws if ws is 1. else None\n",
      "H, xedges, yedges = histogram2d(pts[:,0], pts[:,1], normed=True, weights=hws, bins=[128,256], range=c_[low, up])\n",
      "xh = (xedges[1:] + xedges[:-1])/2\n",
      "yh = (yedges[1:] + yedges[:-1])/2"
     ],
     "language": "python",
     "metadata": {},
     "outputs": []
    },
    {
     "cell_type": "code",
     "collapsed": false,
     "input": [
      "expected_linbin = dist_x.pdf(mesh2[0]) * dist_y.pdf(mesh2[1][:])\n",
      "err_linbin = (normed_bins - expected_linbin)\n",
      "print(expected_linbin.shape)\n",
      "\n",
      "expected_hist = dist_x.pdf(xh) * dist_y.pdf(yh)[:,None]\n",
      "err_H = (H.T - expected_hist)\n",
      "print(expected_hist.shape)"
     ],
     "language": "python",
     "metadata": {},
     "outputs": []
    },
    {
     "cell_type": "code",
     "collapsed": false,
     "input": [
      "f = figure()\n",
      "f.set_size_inches(10,16)\n",
      "ax1 = f.add_subplot(2,2,1)\n",
      "pcolormesh(mesh2[0], mesh2[1], normed_bins, cmap=cm.jet, shading='flat')\n",
      "axis('equal')\n",
      "colorbar()\n",
      "xlim(low[0], up[0])\n",
      "ylim(low[1], up[1])\n",
      "title('Linear binning')\n",
      "\n",
      "ax2 = f.add_subplot(2,2,2)\n",
      "pcolormesh(xh, yh, H.T, cmap=cm.jet, shading='flat')\n",
      "axis('equal')\n",
      "xlim(low[0], up[0])\n",
      "ylim(low[1], up[1])\n",
      "colorbar()\n",
      "title(\"Numpy's Histogram\")\n",
      "\n",
      "ax1 = f.add_subplot(2,2,3)\n",
      "pcolormesh(mesh2[0], mesh2[1], err_linbin, cmap=cm.jet, shading='flat')\n",
      "axis('equal')\n",
      "colorbar()\n",
      "xlim(low[0], up[0])\n",
      "ylim(low[1], up[1])\n",
      "title('Error Linear binning')\n",
      "\n",
      "ax2 = f.add_subplot(2,2,4)\n",
      "xh = (xedges[1:] + xedges[:-1])/2\n",
      "yh = (yedges[1:] + yedges[:-1])/2\n",
      "pcolormesh(xh, yh, err_H, cmap=cm.jet, shading='flat')\n",
      "axis('equal')\n",
      "xlim(low[0], up[0])\n",
      "ylim(low[1], up[1])\n",
      "colorbar()\n",
      "title(\"Error Numpy's Histogram\")\n"
     ],
     "language": "python",
     "metadata": {},
     "outputs": []
    },
    {
     "cell_type": "code",
     "collapsed": false,
     "input": [
      "# Force using the generic nd version\n",
      "%timeit _fast_linbin._fast_bin_nd(_fast_linbin._cy_fast_linbin.fast_linbin_nd, pts, c_[low, up], [512, 512], ws, 'B', None)"
     ],
     "language": "python",
     "metadata": {},
     "outputs": []
    },
    {
     "cell_type": "code",
     "collapsed": false,
     "input": [
      "%timeit _fast_linbin.fast_linbin_2d(pts, c_[low, up], [512, 512], weights=ws)"
     ],
     "language": "python",
     "metadata": {},
     "outputs": []
    },
    {
     "cell_type": "code",
     "collapsed": false,
     "input": [
      "%timeit _fast_linbin.fast_bin_nd(pts, c_[low, up], [512, 512], weights=ws)"
     ],
     "language": "python",
     "metadata": {},
     "outputs": []
    },
    {
     "cell_type": "code",
     "collapsed": false,
     "input": [
      "%timeit H, xedges, yedges = histogram2d(pts[:,0], pts[:,1], weights=hws, normed=True, bins=[512, 512], range=[[low[0], up[0]], [low[1], up[1]]])"
     ],
     "language": "python",
     "metadata": {},
     "outputs": []
    },
    {
     "cell_type": "heading",
     "level": 3,
     "metadata": {},
     "source": [
      "Evaluation of the binning"
     ]
    },
    {
     "cell_type": "markdown",
     "metadata": {},
     "source": [
      "And we can see the linear binning is a better approximation of the density:"
     ]
    },
    {
     "cell_type": "code",
     "collapsed": false,
     "input": [
      "print(\"Error linbin = \", sqrt(sum((err_linbin)**2)))\n",
      "print(\"Error hist = \", sqrt(sum((err_H)**2)))"
     ],
     "language": "python",
     "metadata": {},
     "outputs": []
    },
    {
     "cell_type": "code",
     "collapsed": false,
     "input": [
      "try:\n",
      "    bins, mesh = _fast_linbin.fast_linbin_nd(pts.T, c_[low, up], 128, weights=ws)\n",
      "    assert False, \"There should have been an error\"\n",
      "except ValueError as err:\n",
      "    print(\"Expected ValueError: \", err)"
     ],
     "language": "python",
     "metadata": {},
     "outputs": []
    },
    {
     "cell_type": "heading",
     "level": 3,
     "metadata": {},
     "source": [
      "Test Bounded Bins"
     ]
    },
    {
     "cell_type": "code",
     "collapsed": false,
     "input": [
      "%time ref_mesh, ref_bins = _fast_linbin.fast_linbin_nd(pts, c_[low, [0,0]], [512, 512], weights=ws, bin_types='R')\n",
      "da = prod(ref_mesh.start_interval)\n",
      "ref_bins /= total_weight*da\n",
      "print(\"Sum ref: \", sum(ref_bins)*da)"
     ],
     "language": "python",
     "metadata": {},
     "outputs": []
    },
    {
     "cell_type": "code",
     "collapsed": false,
     "input": [
      "%time cyc_mesh, cyc_bins = _fast_linbin.fast_linbin_nd(pts, c_[low, [0,0]], [512, 512], weights=ws, bin_types='C')\n",
      "da = prod(cyc_mesh.start_interval)\n",
      "cyc_bins /= total_weight*da\n",
      "cyc_mesh = cyc_mesh.full('C')\n",
      "print(\"Sum cyc: \", sum(cyc_bins)*da)"
     ],
     "language": "python",
     "metadata": {},
     "outputs": []
    },
    {
     "cell_type": "code",
     "collapsed": false,
     "input": [
      "f = figure()\n",
      "f.set_size_inches(10,8)\n",
      "ax1 = f.add_subplot(1,2,1)\n",
      "pcolormesh(ref_mesh[0], ref_mesh[1], ref_bins, cmap=cm.jet, shading='flat')\n",
      "axis('equal')\n",
      "colorbar()\n",
      "xlim(low[0], 0)\n",
      "ylim(low[1], 0)\n",
      "title('Reflective Linear binning')\n",
      "\n",
      "ax2 = f.add_subplot(1,2,2)\n",
      "pcolormesh(cyc_mesh[0], cyc_mesh[1], cyc_bins, cmap=cm.jet, shading='flat')\n",
      "axis('equal')\n",
      "colorbar()\n",
      "xlim(low[0], 0)\n",
      "ylim(low[1], 0)\n",
      "title(\"Cyclic Linear binning\")"
     ],
     "language": "python",
     "metadata": {},
     "outputs": []
    },
    {
     "cell_type": "code",
     "collapsed": false,
     "input": [
      "%time ref_mesh, ref_bins = _fast_linbin.fast_linbin_nd(pts, c_[[0,0], up], [512, 512], weights=ws, bin_types='R')\n",
      "da = ref_mesh.start_volume\n",
      "ref_bins /= total_weight*da\n",
      "print(\"Sum ref: \", sum(ref_bins)*da)"
     ],
     "language": "python",
     "metadata": {},
     "outputs": []
    },
    {
     "cell_type": "code",
     "collapsed": false,
     "input": [
      "%time cyc_mesh, cyc_bins = _fast_linbin.fast_linbin_nd(pts, c_[[0,0], up], [512, 512], weights=ws, bin_types='C')\n",
      "da = cyc_mesh.start_volume\n",
      "cyc_bins /= total_weight*da\n",
      "cyc_mesh = cyc_mesh.full('C')\n",
      "print(\"Sum cyc: \", sum(cyc_bins)*da)"
     ],
     "language": "python",
     "metadata": {},
     "outputs": []
    },
    {
     "cell_type": "code",
     "collapsed": false,
     "input": [
      "f = figure()\n",
      "f.set_size_inches(10,8)\n",
      "ax1 = f.add_subplot(1,2,1)\n",
      "pcolormesh(ref_mesh[0], ref_mesh[1], ref_bins, cmap=cm.jet, shading='flat')\n",
      "axis('equal')\n",
      "colorbar()\n",
      "xlim(0, up[0])\n",
      "ylim(0, up[1])\n",
      "title('Reflective Linear binning')\n",
      "\n",
      "ax2 = f.add_subplot(1,2,2)\n",
      "pcolormesh(cyc_mesh[0], cyc_mesh[1], cyc_bins, cmap=cm.jet, shading='flat')\n",
      "axis('equal')\n",
      "colorbar()\n",
      "xlim(0, up[0])\n",
      "ylim(0, up[1])\n",
      "title(\"Cyclic Linear binning\")"
     ],
     "language": "python",
     "metadata": {},
     "outputs": []
    },
    {
     "cell_type": "heading",
     "level": 1,
     "metadata": {},
     "source": [
      "3D LinBin"
     ]
    },
    {
     "cell_type": "code",
     "collapsed": false,
     "input": [
      "from __future__ import division, print_function\n",
      "%pylab inline\n",
      "from statsmodels.kernel_methods import _fast_linbin, kernels\n",
      "from statsmodels.kernel_methods.kde_utils import Grid\n",
      "from scipy import stats"
     ],
     "language": "python",
     "metadata": {},
     "outputs": []
    },
    {
     "cell_type": "code",
     "collapsed": false,
     "input": [
      "N=1e6\n",
      "dist_x = stats.norm(0, 1)\n",
      "dist_y = stats.norm(0, 2)\n",
      "dist_z = stats.norm(0, 3)\n",
      "pts = c_[dist_x.rvs(N), dist_y.rvs(N), dist_z.rvs(N)]\n",
      "#ws = 3*rand(N)\n",
      "ws = 1.\n",
      "total_weight = N\n",
      "low = np.floor(pts.min(axis=0))\n",
      "up = np.ceil(pts.max(axis=0))\n",
      "print(low, up)\n",
      "pts.shape"
     ],
     "language": "python",
     "metadata": {},
     "outputs": []
    },
    {
     "cell_type": "code",
     "collapsed": false,
     "input": [
      "# Force using the generic version\n",
      "%timeit _fast_linbin._fast_bin_nd(_fast_linbin._cy_fast_linbin.fast_linbin_nd, pts, c_[low, up], [512, 512, 512], ws, 'B', None)"
     ],
     "language": "python",
     "metadata": {},
     "outputs": []
    },
    {
     "cell_type": "code",
     "collapsed": false,
     "input": [
      "%timeit _fast_linbin.fast_linbin_3d(pts, c_[low, up], [512, 512, 512], weights=ws)"
     ],
     "language": "python",
     "metadata": {},
     "outputs": []
    },
    {
     "cell_type": "code",
     "collapsed": false,
     "input": [
      "vnd = _fast_linbin._fast_bin_nd(_fast_linbin._cy_fast_linbin.fast_linbin_nd, pts, c_[low, up], [256,256,256], ws, 'B', None)\n",
      "v3d = _fast_linbin.fast_linbin_3d(pts, c_[low, up], [256,256,256], weights=ws)\n",
      "sum((vnd[1] - v3d[1])**2)"
     ],
     "language": "python",
     "metadata": {},
     "outputs": []
    },
    {
     "cell_type": "code",
     "collapsed": false,
     "input": [],
     "language": "python",
     "metadata": {},
     "outputs": []
    }
   ],
   "metadata": {}
  }
 ]
}