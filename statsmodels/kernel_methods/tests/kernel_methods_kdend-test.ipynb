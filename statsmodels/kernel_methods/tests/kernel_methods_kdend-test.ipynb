{
 "metadata": {
  "kernelspec": {
   "display_name": "Python 3",
   "language": "python",
   "name": "python3"
  },
  "language_info": {
   "codemirror_mode": {
    "name": "ipython",
    "version": 3
   },
   "file_extension": ".py",
   "mimetype": "text/x-python",
   "name": "python",
   "nbconvert_exporter": "python",
   "pygments_lexer": "ipython3",
   "version": "3.4.0"
  },
  "name": "",
  "signature": "sha256:8241efb6793268035d8bf91a406dc9194dfc993ff371775b4e57fe9d3b226eec"
 },
 "nbformat": 3,
 "nbformat_minor": 0,
 "worksheets": [
  {
   "cells": [
    {
     "cell_type": "heading",
     "level": 1,
     "metadata": {},
     "source": [
      "Multi-dimensional KDE"
     ]
    },
    {
     "cell_type": "code",
     "collapsed": false,
     "input": [
      "from __future__ import print_function, division\n",
      "%pylab inline\n",
      "import statsmodels.api as sm\n",
      "from statsmodels.kernel_methods import fast_linbin\n",
      "import statsmodels.sandbox.distributions.mv_normal as mvd"
     ],
     "language": "python",
     "metadata": {},
     "outputs": []
    },
    {
     "cell_type": "heading",
     "level": 2,
     "metadata": {},
     "source": [
      "2D Gaussian mixture model"
     ]
    },
    {
     "cell_type": "code",
     "collapsed": false,
     "input": [
      "def rotation(theta):\n",
      "    return matrix([[cos(theta), -sin(theta)],[sin(theta), cos(theta)]])\n",
      "r1 = rotation(1.5)\n",
      "r2 = rotation(-1)\n",
      "C1 = r1 * diag([.4,2]) * r1.T\n",
      "C2 = r2 * diag([.4,2]) * r2.T\n",
      "d1 = mvd.MVNormal([1, 1.5], C1**2)\n",
      "d2 = mvd.MVNormal([0, -1.5], C2**2)\n",
      "def dist(x):\n",
      "    return (d1.pdf(x) + d2.pdf(x))/2\n",
      "obs = vstack([d1.rvs(3000), d2.rvs(3000)])\n",
      "bounds = [[-6, 8], [-6, 3]]\n",
      "mesh, bins = fast_linbin.fast_linbin_nd(obs, bounds, [512, 256])"
     ],
     "language": "python",
     "metadata": {},
     "outputs": []
    },
    {
     "cell_type": "code",
     "collapsed": false,
     "input": [
      "fig = figure(figsize=(12,8))\n",
      "X, Y = mesh.full('C')\n",
      "pcolormesh(X, Y, dist(mesh.linear()).reshape(mesh.shape))\n",
      "gca().set_axis_bgcolor('black')\n",
      "axis('equal')\n",
      "title('Real PDF')"
     ],
     "language": "python",
     "metadata": {},
     "outputs": []
    },
    {
     "cell_type": "heading",
     "level": 2,
     "metadata": {},
     "source": [
      "Scotts bandwidth estimation"
     ]
    },
    {
     "cell_type": "code",
     "collapsed": false,
     "input": [
      "k = sm.kernel_methods.KDE(obs, method=sm.kernel_methods.kde_methods.Cyclic)\n",
      "k.bandwidth = sm.kernel_methods.bandwidths.scotts_full\n",
      "est = k.fit()\n",
      "xs, ys = est.grid(512)\n",
      "display(xs)\n",
      "est.bandwidth"
     ],
     "language": "python",
     "metadata": {},
     "outputs": []
    },
    {
     "cell_type": "code",
     "collapsed": false,
     "input": [
      "fig = figure(figsize=(12,8))\n",
      "X, Y = xs.full('C')\n",
      "pcolormesh(X, Y, ys)\n",
      "gca().set_axis_bgcolor('black')\n",
      "axis('equal')\n",
      "title('Estimated PDF')\n",
      "xlim(*bounds[0])\n",
      "ylim(*bounds[1])\n",
      "colorbar()"
     ],
     "language": "python",
     "metadata": {},
     "outputs": []
    },
    {
     "cell_type": "markdown",
     "metadata": {},
     "source": [
      "We can see the bandwidth is clearly over-estimated. Next, we will be using cross-validation."
     ]
    },
    {
     "cell_type": "code",
     "collapsed": false,
     "input": [
      "sxs = sm.kernel_methods.Grid.fromBounds(xs.bounds, shape=128)\n",
      "sys = est(sxs.linear()).reshape(sxs.shape)\n",
      "interp = sm.kernel_methods.kde_utils.GridInterpolator(xs, ys)\n",
      "oys = interp(sxs.linear()).reshape(sxs.shape)"
     ],
     "language": "python",
     "metadata": {},
     "outputs": []
    },
    {
     "cell_type": "code",
     "collapsed": false,
     "input": [
      "fig = figure(figsize=(24,8))\n",
      "ax = fig.add_subplot(1,2,1)\n",
      "X, Y = sxs.full('C')\n",
      "m = ax.pcolormesh(X, Y, sys)\n",
      "gca().set_axis_bgcolor('black')\n",
      "axis('equal')\n",
      "title('Grid-Estimated PDF')\n",
      "colorbar(m, ax=ax)\n",
      "ax.set_xlim(*bounds[0])\n",
      "ax.set_ylim(*bounds[1])\n",
      "\n",
      "\n",
      "ax = fig.add_subplot(1,2,2)\n",
      "diff = sys - oys\n",
      "dmax = abs(diff).max()\n",
      "m = ax.pcolormesh(X, Y, diff, vmin=-dmax, vmax=dmax, cmap=cm.coolwarm)\n",
      "gca().set_axis_bgcolor(cm.coolwarm(.5))\n",
      "axis('equal')\n",
      "title('Difference grid-direct')\n",
      "colorbar(m, ax=ax)\n",
      "ax.set_xlim(*bounds[0])\n",
      "ax.set_ylim(*bounds[1])\n"
     ],
     "language": "python",
     "metadata": {},
     "outputs": []
    },
    {
     "cell_type": "code",
     "collapsed": false,
     "input": [
      "abs(diff).max()"
     ],
     "language": "python",
     "metadata": {},
     "outputs": []
    },
    {
     "cell_type": "heading",
     "level": 2,
     "metadata": {},
     "source": [
      "Log-likelihood cross-validation"
     ]
    },
    {
     "cell_type": "code",
     "collapsed": false,
     "input": [
      "k1 = k.copy()\n",
      "k1.bandwidth = sm.kernel_methods.bandwidths.crossvalidation(use_grid=True, grid_size=256, folding=5, initial_method=est.bandwidth)\n",
      "est1 = k1.fit()"
     ],
     "language": "python",
     "metadata": {},
     "outputs": []
    },
    {
     "cell_type": "code",
     "collapsed": false,
     "input": [
      "xs, ys = est1.grid(256)\n",
      "est1.bandwidth"
     ],
     "language": "python",
     "metadata": {},
     "outputs": []
    },
    {
     "cell_type": "code",
     "collapsed": false,
     "input": [
      "fig = figure(figsize=(24, 8))\n",
      "ax = fig.add_subplot(1,2,1)\n",
      "X, Y = xs.full('C')\n",
      "ax.pcolormesh(X, Y, ys)\n",
      "ax.set_axis_bgcolor('black')\n",
      "axis('equal')\n",
      "ax.set_title('Estimated PDF')\n",
      "\n",
      "ax = fig.add_subplot(1,2,2)\n",
      "X, Y = xs.full('C')\n",
      "ax.pcolormesh(X, Y, dist(xs.linear()).reshape(xs.shape))\n",
      "ax.set_axis_bgcolor('black')\n",
      "axis('equal')\n",
      "ax.set_title('Real PDF')"
     ],
     "language": "python",
     "metadata": {},
     "outputs": []
    },
    {
     "cell_type": "code",
     "collapsed": false,
     "input": [],
     "language": "python",
     "metadata": {},
     "outputs": []
    }
   ],
   "metadata": {}
  }
 ]
}