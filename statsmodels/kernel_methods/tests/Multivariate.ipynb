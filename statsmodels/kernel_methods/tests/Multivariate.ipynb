{
 "cells": [
  {
   "cell_type": "code",
   "execution_count": null,
   "metadata": {},
   "outputs": [],
   "source": [
    "%pylab inline\n",
    "from statsmodels.kernel_methods import kde, _fast_linbin, kde_methods, bandwidths\n",
    "from scipy import stats"
   ]
  },
  {
   "cell_type": "code",
   "execution_count": null,
   "metadata": {},
   "outputs": [],
   "source": [
    "d1 = stats.lognorm(1)\n",
    "d2 = stats.norm(loc=2, scale=0.3)\n",
    "d3 = stats.binom(10, .4)"
   ]
  },
  {
   "cell_type": "code",
   "execution_count": null,
   "metadata": {},
   "outputs": [],
   "source": [
    "N = 1e4\n",
    "data = c_[d1.rvs(N), d2.rvs(N), d3.rvs(N)]\n",
    "data = data[data[:,0] < 10]\n",
    "data[:10]"
   ]
  },
  {
   "cell_type": "code",
   "execution_count": null,
   "metadata": {},
   "outputs": [],
   "source": [
    "data.max(axis=0)"
   ]
  },
  {
   "cell_type": "code",
   "execution_count": null,
   "metadata": {},
   "outputs": [],
   "source": [
    "k = kde.KDE(data, axis_type='CCU')\n",
    "k.method.methods[0] = kde_methods.TransformKDE1D(kde_methods.LogTransform)\n",
    "k.lower = [0, -inf, 0]\n",
    "est = k.fit()\n",
    "est.bandwidth, est.total_weights"
   ]
  },
  {
   "cell_type": "code",
   "execution_count": null,
   "metadata": {},
   "outputs": [],
   "source": [
    "est.pdf([[1,2,3],[4,3,2]])"
   ]
  },
  {
   "cell_type": "code",
   "execution_count": null,
   "metadata": {},
   "outputs": [],
   "source": [
    "%%time\n",
    "mesh, grid = est.grid(256)\n",
    "mesh, grid.shape"
   ]
  },
  {
   "cell_type": "code",
   "execution_count": null,
   "metadata": {},
   "outputs": [],
   "source": [
    "mesh2, grid2 = _fast_linbin.fast_linbin_nd(est.exog, [[0,10],[0,4],[0,10]], [256,128,11], bin_types='BBD')\n",
    "grid2 /= mesh2.integrate(grid2)\n",
    "mesh2, grid2.shape"
   ]
  },
  {
   "cell_type": "code",
   "execution_count": null,
   "metadata": {},
   "outputs": [],
   "source": [
    "f = figure()\n",
    "cmax = grid.max()\n",
    "f.set_size_inches(32,12)\n",
    "ax1 = f.add_subplot(3,2,1)\n",
    "pcolor(mesh.edges[0], mesh.edges[1], grid[...,0].T, cmap=cm.jet, shading='flat')\n",
    "colorbar()\n",
    "xlim(0, 5)\n",
    "ylim(*mesh.bounds[1])\n",
    "clim(0, cmax)\n",
    "title('Density for discrete = 0')\n",
    "ax1 = f.add_subplot(3,2,3)\n",
    "pcolor(mesh.edges[0], mesh.edges[1], grid[...,3].T, cmap=cm.jet, shading='flat')\n",
    "colorbar()\n",
    "xlim(0, 5)\n",
    "ylim(*mesh.bounds[1])\n",
    "clim(0, cmax)\n",
    "title('Density for discrete = 3')\n",
    "ax1 = f.add_subplot(3,2,5)\n",
    "pcolor(mesh.edges[0], mesh.edges[1], grid[...,6].T, cmap=cm.jet, shading='flat')\n",
    "colorbar()\n",
    "xlim(0, 5)\n",
    "ylim(*mesh.bounds[1])\n",
    "clim(0, cmax)\n",
    "title('Density for discrete = 6')\n",
    "\n",
    "ax1 = f.add_subplot(3,2,2)\n",
    "pcolor(mesh2.edges[0], mesh2.edges[1], grid2[...,0].T, cmap=cm.jet, shading='flat')\n",
    "colorbar()\n",
    "xlim(0, 5)\n",
    "ylim(*mesh2.bounds[1])\n",
    "clim(0, cmax)\n",
    "title('Histogram for discrete = 0')\n",
    "ax1 = f.add_subplot(3,2,4)\n",
    "pcolormesh(mesh2.edges[0], mesh2.edges[1], grid2[...,3].T, cmap=cm.jet, shading='flat')\n",
    "colorbar()\n",
    "xlim(0, 5)\n",
    "ylim(*mesh2.bounds[1])\n",
    "clim(0, cmax)\n",
    "title('Histogram for discrete = 3')\n",
    "ax1 = f.add_subplot(3,2,6)\n",
    "pcolormesh(mesh2.edges[0], mesh2.edges[1], grid2[...,6].T, cmap=cm.jet, shading='flat')\n",
    "colorbar()\n",
    "xlim(0, 5)\n",
    "ylim(*mesh2.bounds[1])\n",
    "clim(0, cmax)\n",
    "title('Histogram for discrete = 6')\n"
   ]
  },
  {
   "cell_type": "code",
   "execution_count": null,
   "metadata": {},
   "outputs": [],
   "source": [
    "k.bandwidth = bandwidths.lsq_crossvalidation(imse_args=dict(use_grid=True, grid_size=256, folding=10))"
   ]
  },
  {
   "cell_type": "code",
   "execution_count": null,
   "metadata": {},
   "outputs": [],
   "source": [
    "%%time\n",
    "est1 = k.fit()"
   ]
  },
  {
   "cell_type": "markdown",
   "metadata": {},
   "source": [
    "We expect the default to be close to the optimum, as the distributions are normal!"
   ]
  },
  {
   "cell_type": "code",
   "execution_count": null,
   "metadata": {},
   "outputs": [],
   "source": [
    "est1.bandwidth"
   ]
  },
  {
   "cell_type": "code",
   "execution_count": null,
   "metadata": {},
   "outputs": [],
   "source": [
    "%%time\n",
    "mesh1, grid1 = est1.grid(256)\n",
    "mesh1, grid1.shape"
   ]
  },
  {
   "cell_type": "code",
   "execution_count": null,
   "metadata": {},
   "outputs": [],
   "source": [
    "f = figure()\n",
    "cmax = grid1.max()\n",
    "f.set_size_inches(32,12)\n",
    "ax1 = f.add_subplot(3,2,1)\n",
    "pcolor(mesh1.edges[0], mesh1.edges[1], grid1[...,0].T, cmap=cm.jet, shading='flat')\n",
    "colorbar()\n",
    "xlim(0, 5)\n",
    "ylim(*mesh1.bounds[1])\n",
    "clim(0, cmax)\n",
    "title('Density for discrete = 0')\n",
    "ax1 = f.add_subplot(3,2,3)\n",
    "pcolor(mesh1.edges[0], mesh1.edges[1], grid1[...,3].T, cmap=cm.jet, shading='flat')\n",
    "colorbar()\n",
    "xlim(0, 5)\n",
    "ylim(*mesh1.bounds[1])\n",
    "clim(0, cmax)\n",
    "title('Density for discrete = 3')\n",
    "ax1 = f.add_subplot(3,2,5)\n",
    "pcolor(mesh1.edges[0], mesh1.edges[1], grid1[...,6].T, cmap=cm.jet, shading='flat')\n",
    "colorbar()\n",
    "xlim(0, 5)\n",
    "ylim(*mesh1.bounds[1])\n",
    "clim(0, cmax)\n",
    "title('Density for discrete = 6')\n",
    "\n",
    "ax1 = f.add_subplot(3,2,2)\n",
    "pcolor(mesh2.edges[0], mesh2.edges[1], grid2[...,0].T, cmap=cm.jet, shading='flat')\n",
    "colorbar()\n",
    "xlim(0, 5)\n",
    "ylim(*mesh2.bounds[1])\n",
    "clim(0, cmax)\n",
    "title('Histogram for discrete = 0')\n",
    "ax1 = f.add_subplot(3,2,4)\n",
    "pcolormesh(mesh2.edges[0], mesh2.edges[1], grid2[...,3].T, cmap=cm.jet, shading='flat')\n",
    "colorbar()\n",
    "xlim(0, 5)\n",
    "ylim(*mesh2.bounds[1])\n",
    "clim(0, cmax)\n",
    "title('Histogram for discrete = 3')\n",
    "ax1 = f.add_subplot(3,2,6)\n",
    "pcolormesh(mesh2.edges[0], mesh2.edges[1], grid2[...,6].T, cmap=cm.jet, shading='flat')\n",
    "colorbar()\n",
    "xlim(0, 5)\n",
    "ylim(*mesh2.bounds[1])\n",
    "clim(0, cmax)\n",
    "title('Histogram for discrete = 6')\n"
   ]
  },
  {
   "cell_type": "code",
   "execution_count": null,
   "metadata": {},
   "outputs": [],
   "source": []
  }
 ],
 "metadata": {
  "kernelspec": {
   "display_name": "Python 3",
   "language": "python",
   "name": "python3"
  },
  "language_info": {
   "codemirror_mode": {
    "name": "ipython",
    "version": 2
   },
   "file_extension": ".py",
   "mimetype": "text/x-python",
   "name": "python",
   "nbconvert_exporter": "python",
   "pygments_lexer": "ipython2",
   "version": "2.7.6"
  }
 },
 "nbformat": 4,
 "nbformat_minor": 1
}
