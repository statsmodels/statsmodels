{
 "metadata": {
  "kernelspec": {
   "display_name": "Python 2",
   "language": "python",
   "name": "python2"
  },
  "language_info": {
   "codemirror_mode": {
    "name": "ipython",
    "version": 2
   },
   "file_extension": ".py",
   "mimetype": "text/x-python",
   "name": "python",
   "nbconvert_exporter": "python",
   "pygments_lexer": "ipython2",
   "version": "2.7.6"
  },
  "name": "",
  "signature": "sha256:6f658a122ec808baeed2bd4384ff2c744d5ff7613c07b127586de723e75f4595"
 },
 "nbformat": 3,
 "nbformat_minor": 0,
 "worksheets": [
  {
   "cells": [
    {
     "cell_type": "code",
     "collapsed": false,
     "input": [
      "from __future__ import division, print_function\n",
      "%pylab inline\n",
      "from statsmodels.kernel_methods import kernels\n",
      "from statsmodels.kernel_methods.kde_utils import numpy_trans, Grid"
     ],
     "language": "python",
     "metadata": {},
     "outputs": []
    },
    {
     "cell_type": "code",
     "collapsed": false,
     "input": [
      "class Ker(kernels.KernelnD):\n",
      "    def __init__(self, ndim=2):\n",
      "        kernels.KernelnD.__init__(self, ndim)\n",
      "        self._pdf = kernels.normal(ndim)\n",
      "        \n",
      "    def for_ndim(self, n):\n",
      "        if n == self.ndim:\n",
      "            return self\n",
      "        return Ker(n)\n",
      "    \n",
      "    def pdf(self, z, out=None):\n",
      "        return self._pdf.pdf(z, out)\n",
      "    \n",
      "    __call__ = pdf"
     ],
     "language": "python",
     "metadata": {},
     "outputs": []
    },
    {
     "cell_type": "code",
     "collapsed": false,
     "input": [
      "xs = mgrid[-5:5:256j,-5:5:256j]\n",
      "grid = Grid.fromArrays(xs)\n",
      "P = (1., 1.)\n",
      "k = kernels.normal(2)\n",
      "k1 = Ker(2)\n",
      "print(P)"
     ],
     "language": "python",
     "metadata": {},
     "outputs": []
    },
    {
     "cell_type": "markdown",
     "metadata": {},
     "source": [
      "$$  A_k =  \\sum_{m=0}^{n-1} a_m \\exp\\left\\{-2\\pi i{mk \\over n}\\right\\}\n",
      "   \\qquad k = 0,\\ldots,n-1. $$"
     ]
    },
    {
     "cell_type": "code",
     "collapsed": false,
     "input": [
      "f = figure()\n",
      "f.set_size_inches(12, 9)\n",
      "ys = k.pdf(grid.linear()).reshape(grid.shape)\n",
      "display(ys.shape)\n",
      "pcolormesh(xs[0], xs[1], ys, cmap=cm.jet, shading='gouraud')\n",
      "axis('equal')\n",
      "xlim(-5, 5)\n",
      "ylim(-5, 5)\n",
      "colorbar()"
     ],
     "language": "python",
     "metadata": {},
     "outputs": []
    },
    {
     "cell_type": "heading",
     "level": 2,
     "metadata": {},
     "source": [
      "Testing FFT"
     ]
    },
    {
     "cell_type": "code",
     "collapsed": false,
     "input": [
      "dx = (1./(2*P[0]), 1./(2*P[1]))\n",
      "Ns = [256, 256]\n",
      "fs = Grid.fromArrays(kernels.rfftnfreq(Ns, dx)).full('C')\n",
      "f1 = k.rfft(Ns, dx)\n",
      "print(f1.min(), f1.max())\n",
      "print(tuple(f.max() for f in fs))"
     ],
     "language": "python",
     "metadata": {},
     "outputs": []
    },
    {
     "cell_type": "code",
     "collapsed": false,
     "input": [
      "f2 = k1.rfft(Ns, dx)"
     ],
     "language": "python",
     "metadata": {},
     "outputs": []
    },
    {
     "cell_type": "code",
     "collapsed": false,
     "input": [
      "print('f1: ', f1.shape)\n",
      "print('f2: ', f2.shape)"
     ],
     "language": "python",
     "metadata": {},
     "outputs": []
    },
    {
     "cell_type": "code",
     "collapsed": false,
     "input": [
      "M = f1.shape[0]//2\n",
      "f = figure()\n",
      "f.set_size_inches(24, 12)\n",
      "ax1 = f.add_subplot(2,2,1)\n",
      "vmin = 0\n",
      "vmax = 1\n",
      "mm1 = pcolormesh(fs[0,:M], fs[1,:M], f2[:M].real, cmap=cm.jet, shading='gouraud', vmin=vmin, vmax=vmax)\n",
      "mm2 = pcolormesh(fs[0,M:], fs[1,M:], f2[M:].real, cmap=cm.jet, shading='gouraud', vmin=vmin, vmax=vmax)\n",
      "axis('equal')\n",
      "xlim(-P[0], P[0])\n",
      "ylim(0,P[1])\n",
      "colorbar()\n",
      "title('Real FFT')\n",
      "\n",
      "ax2 = f.add_subplot(2,2,2)\n",
      "vmin = f2.imag.min()\n",
      "vmax = f2.imag.max()\n",
      "mm1 = pcolormesh(fs[0,:M], fs[1,:M], f2[:M].imag, cmap=cm.jet, shading='gouraud', vmin=vmin, vmax=vmax)\n",
      "mm2 = pcolormesh(fs[0,M:], fs[1,M:], f2[M:].imag, cmap=cm.jet, shading='gouraud', vmin=vmin, vmax=vmax)\n",
      "axis('equal')\n",
      "title('Imag FFT')\n",
      "xlim(-P[0], P[0])\n",
      "ylim(0,P[1])\n",
      "colorbar()\n",
      "\n",
      "ax3 = f.add_subplot(2,2,3)\n",
      "df = f2.real - f1\n",
      "vmin = df.min()\n",
      "vmax = df.max()\n",
      "mm1 = pcolormesh(fs[0,:M], fs[1,:M], df[:M], cmap=cm.jet, shading='gouraud', vmin=vmin, vmax=vmax)\n",
      "mm2 = pcolormesh(fs[0,M:], fs[1,M:], df[M:], cmap=cm.jet, shading='gouraud', vmin=vmin, vmax=vmax)\n",
      "axis('equal')\n",
      "xlim(-P[0], P[0])\n",
      "ylim(0,P[1])\n",
      "colorbar()\n",
      "title('Real FFT diff')\n",
      "\n",
      "ax3 = f.add_subplot(2,2,4)\n",
      "vmin = 0\n",
      "vmax = 1\n",
      "mm1 = pcolormesh(fs[0,:M], fs[1,:M], f1[:M], cmap=cm.jet, shading='gouraud', vmin=vmin, vmax=vmax)\n",
      "mm2 = pcolormesh(fs[0,M:], fs[1,M:], f1[M:], cmap=cm.jet, shading='gouraud', vmin=vmin, vmax=vmax)\n",
      "axis('equal')\n",
      "xlim(-P[0], P[0])\n",
      "ylim(0,P[1])\n",
      "colorbar()\n",
      "title('Exact FFT')\n"
     ],
     "language": "python",
     "metadata": {},
     "outputs": []
    },
    {
     "cell_type": "code",
     "collapsed": false,
     "input": [],
     "language": "python",
     "metadata": {},
     "outputs": []
    }
   ],
   "metadata": {}
  }
 ]
}