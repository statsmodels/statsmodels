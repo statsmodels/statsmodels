{
 "cells": [
  {
   "cell_type": "code",
   "execution_count": null,
   "metadata": {},
   "outputs": [],
   "source": [
    "%pylab inline\n",
    "from statsmodels.kernel_methods import kernelsnd, kernels_utils\n",
    "from statsmodels.kernel_methods.kde_utils import numpy_trans, Grid"
   ]
  },
  {
   "cell_type": "code",
   "execution_count": null,
   "metadata": {},
   "outputs": [],
   "source": [
    "class Ker(kernelsnd.KernelnD):\n",
    "    def __init__(self, ndim=2):\n",
    "        kernelsnd.KernelnD.__init__(self, ndim)\n",
    "        self._pdf = kernelsnd.Gaussian(ndim)\n",
    "        \n",
    "    def for_ndim(self, n):\n",
    "        if n == self.ndim:\n",
    "            return self\n",
    "        return Ker(n)\n",
    "    \n",
    "    def pdf(self, z, out=None):\n",
    "        return self._pdf.pdf(z, out)\n",
    "    \n",
    "    __call__ = pdf"
   ]
  },
  {
   "cell_type": "code",
   "execution_count": null,
   "metadata": {},
   "outputs": [],
   "source": [
    "xs = mgrid[-5:5:256j,-5:5:256j]\n",
    "grid = Grid.fromArrays(xs)\n",
    "P = (1., 1.)\n",
    "k = kernelsnd.Gaussian(2)\n",
    "k1 = Ker(2)\n",
    "print(P)"
   ]
  },
  {
   "cell_type": "markdown",
   "metadata": {},
   "source": [
    "$$  A_k =  \\sum_{m=0}^{n-1} a_m \\exp\\left\\{-2\\pi i{mk \\over n}\\right\\}\n",
    "   \\qquad k = 0,\\ldots,n-1. $$"
   ]
  },
  {
   "cell_type": "code",
   "execution_count": null,
   "metadata": {},
   "outputs": [],
   "source": [
    "f = figure()\n",
    "f.set_size_inches(12, 9)\n",
    "ys = k.pdf(grid.linear()).reshape(grid.shape)\n",
    "display(ys.shape)\n",
    "pcolormesh(xs[0], xs[1], ys, cmap=cm.jet, shading='gouraud')\n",
    "axis('equal')\n",
    "xlim(-5, 5)\n",
    "ylim(-5, 5)\n",
    "colorbar()"
   ]
  },
  {
   "cell_type": "markdown",
   "metadata": {},
   "source": [
    "## Testing FFT"
   ]
  },
  {
   "cell_type": "code",
   "execution_count": null,
   "metadata": {},
   "outputs": [],
   "source": [
    "dx = (1./(2*P[0]), 1./(2*P[1]))\n",
    "Ns = [256, 256]\n",
    "fs = Grid.fromArrays(kernels_utils.rfftnfreq(Ns, dx)).full('C')\n",
    "f1 = k.rfft(Ns, dx)\n",
    "print(f1.min(), f1.max())\n",
    "print(tuple(f.max() for f in fs))"
   ]
  },
  {
   "cell_type": "code",
   "execution_count": null,
   "metadata": {},
   "outputs": [],
   "source": [
    "f2 = k1.rfft(Ns, dx)"
   ]
  },
  {
   "cell_type": "code",
   "execution_count": null,
   "metadata": {},
   "outputs": [],
   "source": [
    "print('f1: ', f1.shape)\n",
    "print('f2: ', f2.shape)"
   ]
  },
  {
   "cell_type": "code",
   "execution_count": null,
   "metadata": {},
   "outputs": [],
   "source": [
    "M = f1.shape[0]//2\n",
    "f = figure()\n",
    "f.set_size_inches(24, 12)\n",
    "ax1 = f.add_subplot(2,2,1)\n",
    "vmin = 0\n",
    "vmax = 1\n",
    "mm1 = pcolormesh(fs[0,:M], fs[1,:M], f2[:M].real, cmap=cm.jet, shading='gouraud', vmin=vmin, vmax=vmax)\n",
    "mm2 = pcolormesh(fs[0,M:], fs[1,M:], f2[M:].real, cmap=cm.jet, shading='gouraud', vmin=vmin, vmax=vmax)\n",
    "axis('equal')\n",
    "xlim(-P[0], P[0])\n",
    "ylim(0,P[1])\n",
    "colorbar()\n",
    "title('Real FFT')\n",
    "\n",
    "ax2 = f.add_subplot(2,2,2)\n",
    "vmin = f2.imag.min()\n",
    "vmax = f2.imag.max()\n",
    "mm1 = pcolormesh(fs[0,:M], fs[1,:M], f2[:M].imag, cmap=cm.jet, shading='gouraud', vmin=vmin, vmax=vmax)\n",
    "mm2 = pcolormesh(fs[0,M:], fs[1,M:], f2[M:].imag, cmap=cm.jet, shading='gouraud', vmin=vmin, vmax=vmax)\n",
    "axis('equal')\n",
    "title('Imag FFT')\n",
    "xlim(-P[0], P[0])\n",
    "ylim(0,P[1])\n",
    "colorbar()\n",
    "\n",
    "ax3 = f.add_subplot(2,2,3)\n",
    "df = f2.real - f1\n",
    "vmin = df.min()\n",
    "vmax = df.max()\n",
    "mm1 = pcolormesh(fs[0,:M], fs[1,:M], df[:M], cmap=cm.jet, shading='gouraud', vmin=vmin, vmax=vmax)\n",
    "mm2 = pcolormesh(fs[0,M:], fs[1,M:], df[M:], cmap=cm.jet, shading='gouraud', vmin=vmin, vmax=vmax)\n",
    "axis('equal')\n",
    "xlim(-P[0], P[0])\n",
    "ylim(0,P[1])\n",
    "colorbar()\n",
    "title('Real FFT diff')\n",
    "\n",
    "ax3 = f.add_subplot(2,2,4)\n",
    "vmin = 0\n",
    "vmax = 1\n",
    "mm1 = pcolormesh(fs[0,:M], fs[1,:M], f1[:M], cmap=cm.jet, shading='gouraud', vmin=vmin, vmax=vmax)\n",
    "mm2 = pcolormesh(fs[0,M:], fs[1,M:], f1[M:], cmap=cm.jet, shading='gouraud', vmin=vmin, vmax=vmax)\n",
    "axis('equal')\n",
    "xlim(-P[0], P[0])\n",
    "ylim(0,P[1])\n",
    "colorbar()\n",
    "title('Exact FFT')\n"
   ]
  },
  {
   "cell_type": "code",
   "execution_count": null,
   "metadata": {},
   "outputs": [],
   "source": []
  }
 ],
 "metadata": {
  "kernelspec": {
   "display_name": "Python 3",
   "language": "python",
   "name": "python3"
  },
  "language_info": {
   "codemirror_mode": {
    "name": "ipython",
    "version": 3
   },
   "file_extension": ".py",
   "mimetype": "text/x-python",
   "name": "python",
   "nbconvert_exporter": "python",
   "pygments_lexer": "ipython3",
   "version": "3.6.9"
  }
 },
 "nbformat": 4,
 "nbformat_minor": 1
}
