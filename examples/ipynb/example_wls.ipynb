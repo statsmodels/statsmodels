{
 "metadata": {
  "name": "example_wls"
 },
 "nbformat": 3,
 "nbformat_minor": 0,
 "worksheets": [
  {
   "cells": [
    {
     "cell_type": "markdown",
     "metadata": {},
     "source": [
      "# Weighted Least Squares"
     ]
    },
    {
     "cell_type": "code",
     "collapsed": false,
     "input": [
      "import numpy as np\n",
      "from scipy import stats\n",
      "import statsmodels.api as sm\n",
      "import matplotlib.pyplot as plt\n",
      "from statsmodels.sandbox.regression.predstd import wls_prediction_std\n",
      "from statsmodels.iolib.table import (SimpleTable, default_txt_fmt)\n",
      "np.random.seed(1024)"
     ],
     "language": "python",
     "metadata": {},
     "outputs": [],
     "prompt_number": 1
    },
    {
     "cell_type": "markdown",
     "metadata": {},
     "source": [
      "## WLS Estimation\n",
      "\n",
      "### Artificial data: Heteroscedasticity 2 groups \n",
      "\n",
      "Model assumptions:\n",
      "\n",
      " * Misspecificaion: true model is quadratic, estimate only linear\n",
      " * Independent noise/error term\n",
      " * Two groups for error variance, low and high variance groups"
     ]
    },
    {
     "cell_type": "code",
     "collapsed": false,
     "input": [
      "nsample = 50\n",
      "x = np.linspace(0, 20, nsample)\n",
      "X = np.c_[x, (x - 5)**2, np.ones(nsample)]\n",
      "beta = [0.5, -0.01, 5.]\n",
      "sig = 0.5\n",
      "w = np.ones(nsample)\n",
      "w[nsample * 6/10:] = 3\n",
      "y_true = np.dot(X, beta)\n",
      "e = np.random.normal(size=nsample)\n",
      "y = y_true + sig * w * e \n",
      "X = X[:,[0,2]]"
     ],
     "language": "python",
     "metadata": {},
     "outputs": [],
     "prompt_number": 2
    },
    {
     "cell_type": "markdown",
     "metadata": {},
     "source": [
      "### WLS knowing the true variance ratio of heteroscedasticity"
     ]
    },
    {
     "cell_type": "code",
     "collapsed": false,
     "input": [
      "mod_wls = sm.WLS(y, X, weights=1./w)\n",
      "res_wls = mod_wls.fit()\n",
      "print res_wls.summary()"
     ],
     "language": "python",
     "metadata": {},
     "outputs": [
      {
       "output_type": "stream",
       "stream": "stdout",
       "text": [
        "                            WLS Regression Results                            \n",
        "==============================================================================\n",
        "Dep. Variable:                      y   R-squared:                       0.847\n",
        "Model:                            WLS   Adj. R-squared:                  0.844\n",
        "Method:                 Least Squares   F-statistic:                     265.9\n",
        "Date:                Sun, 26 Aug 2012   Prob (F-statistic):           3.32e-21\n",
        "Time:                        20:53:31   Log-Likelihood:                -46.062\n",
        "No. Observations:                  50   AIC:                             96.12\n",
        "Df Residuals:                      48   BIC:                             99.95\n",
        "Df Model:                           1                                         \n",
        "==============================================================================\n",
        "                 coef    std err          t      P>|t|      [95.0% Conf. Int.]\n",
        "------------------------------------------------------------------------------\n",
        "x1             0.4379      0.020     22.088      0.000         0.398     0.478\n",
        "const          5.2726      0.185     28.488      0.000         4.900     5.645\n",
        "==============================================================================\n",
        "Omnibus:                        5.040   Durbin-Watson:                   2.242\n",
        "Prob(Omnibus):                  0.080   Jarque-Bera (JB):                6.431\n",
        "Skew:                           0.024   Prob(JB):                       0.0401\n",
        "Kurtosis:                       4.756   Cond. No.                         17.0\n",
        "==============================================================================\n"
       ]
      }
     ],
     "prompt_number": 3
    },
    {
     "cell_type": "markdown",
     "metadata": {},
     "source": [
      "## OLS vs. WLS\n",
      "\n",
      "Estimate an OLS model for comparison: "
     ]
    },
    {
     "cell_type": "code",
     "collapsed": false,
     "input": [
      "res_ols = sm.OLS(y, X).fit()\n",
      "print res_ols.params\n",
      "print res_wls.params"
     ],
     "language": "python",
     "metadata": {},
     "outputs": [
      {
       "output_type": "stream",
       "stream": "stdout",
       "text": [
        "[ 0.43486879  5.24256099]\n",
        "[ 0.43794441  5.27260714]\n"
       ]
      }
     ],
     "prompt_number": 4
    },
    {
     "cell_type": "markdown",
     "metadata": {},
     "source": [
      "Compare the WLS standard errors to  heteroscedasticity corrected OLS standard errors:"
     ]
    },
    {
     "cell_type": "code",
     "collapsed": false,
     "input": [
      "se = np.vstack([[res_wls.bse], [res_ols.bse], [res_ols.HC0_se], [res_ols.HC1_se], [res_ols.HC2_se], [res_ols.HC3_se]])\n",
      "se = np.round(se,4)\n",
      "colnames = ['x1', 'const']\n",
      "rownames = ['WLS', 'OLS', 'OLS_HC0', 'OLS_HC1', 'OLS_HC3', 'OLS_HC3']\n",
      "tabl = SimpleTable(se, colnames, rownames, txt_fmt=default_txt_fmt)\n",
      "print tabl"
     ],
     "language": "python",
     "metadata": {},
     "outputs": [
      {
       "output_type": "stream",
       "stream": "stdout",
       "text": [
        "=====================\n",
        "          x1   const \n",
        "---------------------\n",
        "WLS     0.0198 0.1851\n",
        "OLS     0.0233 0.2707\n",
        "OLS_HC0 0.0281 0.194 \n",
        "OLS_HC1 0.0287 0.198 \n",
        "OLS_HC3 0.029  0.2003\n",
        "OLS_HC3  0.03  0.207 \n",
        "---------------------\n"
       ]
      }
     ],
     "prompt_number": 5
    },
    {
     "cell_type": "markdown",
     "metadata": {},
     "source": [
      "Calculate OLS prediction interval:"
     ]
    },
    {
     "cell_type": "code",
     "collapsed": false,
     "input": [
      "covb = res_ols.cov_params()\n",
      "prediction_var = res_ols.mse_resid + (X * np.dot(covb,X.T).T).sum(1)\n",
      "prediction_std = np.sqrt(prediction_var)\n",
      "tppf = stats.t.ppf(0.975, res_ols.df_resid)"
     ],
     "language": "python",
     "metadata": {},
     "outputs": [],
     "prompt_number": 6
    },
    {
     "cell_type": "markdown",
     "metadata": {},
     "source": [
      "Draw a plot to compare predicted values in WLS and OLS:"
     ]
    },
    {
     "cell_type": "code",
     "collapsed": false,
     "input": [
      "prstd, iv_l, iv_u = wls_prediction_std(res_wls)\n",
      "plt.figure()\n",
      "plt.plot(x, y, 'o', x, y_true, 'b-')\n",
      "plt.plot(x, res_ols.fittedvalues, 'r--')\n",
      "plt.plot(x, res_ols.fittedvalues + tppf * prediction_std, 'r--')\n",
      "plt.plot(x, res_ols.fittedvalues - tppf * prediction_std, 'r--')\n",
      "plt.plot(x, res_wls.fittedvalues, 'g--.')\n",
      "plt.plot(x, iv_u, 'g--')\n",
      "plt.plot(x, iv_l, 'g--')\n",
      "plt.title('blue: true, red: OLS, green: WLS')"
     ],
     "language": "python",
     "metadata": {},
     "outputs": [
      {
       "output_type": "pyout",
       "prompt_number": 7,
       "text": [
        "<matplotlib.text.Text at 0x4b23b90>"
       ]
      },
      {
       "output_type": "display_data",
       "png": "[encoded data removed]"
      }
     ],
     "prompt_number": 7
    },
    {
     "cell_type": "markdown",
     "metadata": {},
     "source": [
      "## Feasible Weighted Least Squares (2-stage FWLS)"
     ]
    },
    {
     "cell_type": "code",
     "collapsed": false,
     "input": [
      "resid1 = res_ols.resid[w==1.]\n",
      "var1 = resid1.var(ddof=int(res_ols.df_model)+1)\n",
      "resid2 = res_ols.resid[w!=1.]\n",
      "var2 = resid2.var(ddof=int(res_ols.df_model)+1)\n",
      "w_est = w.copy()\n",
      "w_est[w!=1.] = np.sqrt(var2) / np.sqrt(var1)\n",
      "res_fwls = sm.WLS(y, X, 1./w_est).fit()\n",
      "print res_fwls.summary()"
     ],
     "language": "python",
     "metadata": {},
     "outputs": [
      {
       "output_type": "stream",
       "stream": "stdout",
       "text": [
        "                            WLS Regression Results                            \n",
        "==============================================================================\n",
        "Dep. Variable:                      y   R-squared:                       0.876\n",
        "Model:                            WLS   Adj. R-squared:                  0.873\n",
        "Method:                 Least Squares   F-statistic:                     338.3\n",
        "Date:                Sun, 26 Aug 2012   Prob (F-statistic):           2.25e-23\n",
        "Time:                        20:53:32   Log-Likelihood:                -43.178\n",
        "No. Observations:                  50   AIC:                             90.36\n",
        "Df Residuals:                      48   BIC:                             94.18\n",
        "Df Model:                           1                                         \n",
        "==============================================================================\n",
        "                 coef    std err          t      P>|t|      [95.0% Conf. Int.]\n",
        "------------------------------------------------------------------------------\n",
        "x1             0.4390      0.019     22.520      0.000         0.400     0.478\n",
        "const          5.2710      0.177     29.828      0.000         4.916     5.626\n",
        "==============================================================================\n",
        "Omnibus:                        4.076   Durbin-Watson:                   2.251\n",
        "Prob(Omnibus):                  0.130   Jarque-Bera (JB):                4.336\n",
        "Skew:                           0.003   Prob(JB):                        0.114\n",
        "Kurtosis:                       4.443   Cond. No.                         16.5\n",
        "==============================================================================\n"
       ]
      }
     ],
     "prompt_number": 8
    }
   ],
   "metadata": {}
  }
 ]
}