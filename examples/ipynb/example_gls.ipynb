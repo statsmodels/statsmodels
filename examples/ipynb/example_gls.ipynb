{
 "metadata": {
  "name": "example_gls"
 },
 "nbformat": 3,
 "nbformat_minor": 0,
 "worksheets": [
  {
   "cells": [
    {
     "cell_type": "markdown",
     "metadata": {},
     "source": [
      "# Generalized Least Squares"
     ]
    },
    {
     "cell_type": "code",
     "collapsed": false,
     "input": [
      "import statsmodels.api as sm\n",
      "import numpy as np\n",
      "from statsmodels.iolib.table import (SimpleTable, default_txt_fmt)"
     ],
     "language": "python",
     "metadata": {},
     "outputs": [],
     "prompt_number": 25
    },
    {
     "cell_type": "markdown",
     "metadata": {},
     "source": [
      "The Longley dataset is a time series dataset: "
     ]
    },
    {
     "cell_type": "code",
     "collapsed": false,
     "input": [
      "data = sm.datasets.longley.load()\n",
      "data.exog = sm.add_constant(data.exog)\n",
      "print data.exog[:5]"
     ],
     "language": "python",
     "metadata": {},
     "outputs": [
      {
       "output_type": "stream",
       "stream": "stdout",
       "text": [
        "[[     83.   234289.     2356.     1590.   107608.     1947.        1. ]\n",
        " [     88.5  259426.     2325.     1456.   108632.     1948.        1. ]\n",
        " [     88.2  258054.     3682.     1616.   109773.     1949.        1. ]\n",
        " [     89.5  284599.     3351.     1650.   110929.     1950.        1. ]\n",
        " [     96.2  328975.     2099.     3099.   112075.     1951.        1. ]]\n"
       ]
      }
     ],
     "prompt_number": 26
    },
    {
     "cell_type": "markdown",
     "metadata": {},
     "source": [
      "\n",
      " Let's assume that the data is heteroskedastic and that we know\n",
      " the nature of the heteroskedasticity.  We can then define\n",
      " `sigma` and use it to give us a GLS model\n",
      "\n",
      " First we will obtain the residuals from an OLS fit"
     ]
    },
    {
     "cell_type": "code",
     "collapsed": false,
     "input": [
      "ols_resid = sm.OLS(data.endog, data.exog).fit().resid"
     ],
     "language": "python",
     "metadata": {},
     "outputs": [],
     "prompt_number": 27
    },
    {
     "cell_type": "markdown",
     "metadata": {},
     "source": [
      "Assume that the error terms follow an AR(1) process with a trend:\n",
      "\n",
      " `resid[i] = beta_0 + rho*resid[i-1] + e[i]`\n",
      "\n",
      "where `e ~ N(0,some_sigma**2)`\n",
      " \n",
      "and that rho is simply the correlation of the residual a consistent estimator for rho is to regress the residuals on the lagged residuals"
     ]
    },
    {
     "cell_type": "code",
     "collapsed": false,
     "input": [
      "resid_fit = sm.OLS(ols_resid[1:], sm.add_constant(ols_resid[:-1])).fit()\n",
      "print resid_fit.tvalues[0]\n",
      "print resid_fit.pvalues[0]"
     ],
     "language": "python",
     "metadata": {},
     "outputs": [
      {
       "output_type": "stream",
       "stream": "stdout",
       "text": [
        "-1.43902298398\n",
        "0.173784447887\n"
       ]
      }
     ],
     "prompt_number": 28
    },
    {
     "cell_type": "markdown",
     "metadata": {},
     "source": [
      " While we don't have strong evidence that the errors follow an AR(1)\n",
      " process we continue"
     ]
    },
    {
     "cell_type": "code",
     "collapsed": false,
     "input": [
      "rho = resid_fit.params[0]"
     ],
     "language": "python",
     "metadata": {},
     "outputs": [],
     "prompt_number": 29
    },
    {
     "cell_type": "markdown",
     "metadata": {},
     "source": [
      "As we know, an AR(1) process means that near-neighbors have a stronger\n",
      " relation so we can give this structure by using a toeplitz matrix"
     ]
    },
    {
     "cell_type": "code",
     "collapsed": false,
     "input": [
      "from scipy.linalg import toeplitz\n",
      "\n",
      "toeplitz(range(5))"
     ],
     "language": "python",
     "metadata": {},
     "outputs": [
      {
       "output_type": "pyout",
       "prompt_number": 30,
       "text": [
        "array([[0, 1, 2, 3, 4],\n",
        "       [1, 0, 1, 2, 3],\n",
        "       [2, 1, 0, 1, 2],\n",
        "       [3, 2, 1, 0, 1],\n",
        "       [4, 3, 2, 1, 0]])"
       ]
      }
     ],
     "prompt_number": 30
    },
    {
     "cell_type": "code",
     "collapsed": false,
     "input": [
      "order = toeplitz(range(len(ols_resid)))"
     ],
     "language": "python",
     "metadata": {},
     "outputs": [],
     "prompt_number": 31
    },
    {
     "cell_type": "markdown",
     "metadata": {},
     "source": [
      "so that our error covariance structure is actually rho**order\n",
      " which defines an autocorrelation structure"
     ]
    },
    {
     "cell_type": "code",
     "collapsed": false,
     "input": [
      "sigma = rho**order\n",
      "gls_model = sm.GLS(data.endog, data.exog, sigma=sigma)\n",
      "gls_results = gls_model.fit()"
     ],
     "language": "python",
     "metadata": {},
     "outputs": [],
     "prompt_number": 32
    },
    {
     "cell_type": "markdown",
     "metadata": {},
     "source": [
      "Of course, the exact rho in this instance is not known so it it might make more sense to use feasible gls, which currently only has experimental support. \n",
      "\n",
      "We can use the GLSAR model with one lag, to get to a similar result:"
     ]
    },
    {
     "cell_type": "code",
     "collapsed": false,
     "input": [
      "glsar_model = sm.GLSAR(data.endog, data.exog, 1)\n",
      "glsar_results = glsar_model.iterative_fit(1)\n",
      "print glsar_results.summary()"
     ],
     "language": "python",
     "metadata": {},
     "outputs": [
      {
       "output_type": "stream",
       "stream": "stdout",
       "text": [
        "                           GLSAR Regression Results                           \n",
        "==============================================================================\n",
        "Dep. Variable:                      y   R-squared:                       0.996\n",
        "Model:                          GLSAR   Adj. R-squared:                  0.992\n",
        "Method:                 Least Squares   F-statistic:                     295.2\n",
        "Date:                Sun, 26 Aug 2012   Prob (F-statistic):           6.09e-09\n",
        "Time:                        21:06:34   Log-Likelihood:                -102.04\n",
        "No. Observations:                  15   AIC:                             218.1\n",
        "Df Residuals:                       8   BIC:                             223.0\n",
        "Df Model:                           6                                         \n",
        "==============================================================================\n",
        "                 coef    std err          t      P>|t|      [95.0% Conf. Int.]\n",
        "------------------------------------------------------------------------------\n",
        "x1            34.5568     84.734      0.408      0.694      -160.840   229.953\n",
        "x2            -0.0343      0.033     -1.047      0.326        -0.110     0.041\n",
        "x3            -1.9621      0.481     -4.083      0.004        -3.070    -0.854\n",
        "x4            -1.0020      0.211     -4.740      0.001        -1.489    -0.515\n",
        "x5            -0.0978      0.225     -0.435      0.675        -0.616     0.421\n",
        "x6          1823.1829    445.829      4.089      0.003       795.100  2851.266\n",
        "const      -3.468e+06   8.72e+05     -3.979      0.004     -5.48e+06 -1.46e+06\n",
        "==============================================================================\n",
        "Omnibus:                        1.960   Durbin-Watson:                   2.554\n",
        "Prob(Omnibus):                  0.375   Jarque-Bera (JB):                1.423\n",
        "Skew:                           0.713   Prob(JB):                        0.491\n",
        "Kurtosis:                       2.508   Cond. No.                     4.80e+09\n",
        "==============================================================================\n",
        "\n",
        "The condition number is large, 4.8e+09. This might indicate that there are\n",
        "strong multicollinearity or other numerical problems.\n"
       ]
      }
     ],
     "prompt_number": 33
    },
    {
     "cell_type": "markdown",
     "metadata": {},
     "source": [
      "Comparing gls and glsar results, we see that there are some small\n",
      " differences in the parameter estimates and the resulting standard\n",
      " errors of the parameter estimate. This might be do to the numerical\n",
      " differences in the algorithm, e.g. the treatment of initial conditions,\n",
      " because of the small number of observations in the longley dataset."
     ]
    },
    {
     "cell_type": "code",
     "collapsed": false,
     "input": [
      "print gls_results.params\n",
      "print glsar_results.params\n",
      "print gls_results.bse\n",
      "print glsar_results.bse"
     ],
     "language": "python",
     "metadata": {},
     "outputs": [
      {
       "output_type": "stream",
       "stream": "stdout",
       "text": [
        "[     -12.76564544       -0.03800132       -2.18694871       -1.15177649\n",
        "       -0.06805356     1993.95292851 -3797854.90154282]\n",
        "[      34.55678462       -0.03434101       -1.96214395       -1.00197296\n",
        "       -0.0978046      1823.1828867  -3467960.63253551]\n",
        "[     69.43080733       0.02624768       0.38239315       0.16525269\n",
        "       0.17642833     342.63462757  670688.69930737]\n",
        "[     84.73371452       0.03280324       0.48054486       0.21138387\n",
        "       0.22477437     445.82874779  871584.05169558]\n"
       ]
      }
     ],
     "prompt_number": 34
    }
   ],
   "metadata": {}
  }
 ]
}