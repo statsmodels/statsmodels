{
 "metadata": {
  "name": "example_formulas"
 },
 "nbformat": 3,
 "nbformat_minor": 0,
 "worksheets": [
  {
   "cells": [
    {
     "cell_type": "markdown",
     "metadata": {},
     "source": [
      "# Fitting models using R-style formulas\n",
      "\n",
      "Since version 0.5.0, ``statsmodels`` allows users to fit statistical models using R-style formulas. Internally, ``statsmodels`` uses the [patsy](http://patsy.readthedocs.org/) package to convert formulas and data to the matrices that are used in model fitting. The formula framework is quite powerful; this tutorial only scratches the surface. A full description of the formula language can be found in the ``patsy`` docs: \n",
      "\n",
      "* [Patsy formula language description](http://patsy.readthedocs.org/)\n",
      "\n",
      "## Loading modules and functions"
     ]
    },
    {
     "cell_type": "code",
     "collapsed": false,
     "input": [
      "import statsmodels.formula.api as sm\n",
      "import numpy as np\n",
      "import pandas"
     ],
     "language": "python",
     "metadata": {},
     "outputs": []
    },
    {
     "cell_type": "markdown",
     "metadata": {},
     "source": [
      "Notice that we called ``statsmodels.formula.api`` instead of the usual ``statsmodels.api``. The ``formula.api`` hosts many of the same functions found in ``api`` (e.g. OLS, GLM), but it also holds lower case counterparts for most of these models. In general, lower case models accept ``formula`` and ``df`` arguments, whereas upper case ones take ``endog`` and ``exog`` design matrices. ``formula`` accepts a string which describes the model in terms of a ``patsy`` formula. ``df`` takes a [pandas](http://pandas.pydata.org/) data frame. \n",
      "\n",
      "``dir(sm)`` will print a list of available models. \n",
      "\n",
      "Formula-compatible models have the following generic call signature: ``(formula, data, subset=None, *args, **kwargs)``"
     ]
    },
    {
     "cell_type": "markdown",
     "metadata": {},
     "source": [
      "\n",
      "## OLS regression using formulas\n",
      "\n",
      "To begin, we fit the linear model described on the [Getting Started](gettingstarted.html) page. Download the data, subset columns, and list-wise delete to remove missing observations:"
     ]
    },
    {
     "cell_type": "code",
     "collapsed": false,
     "input": [
      "url = \"http://vincentarelbundock.github.com/Rdatasets/csv/HistData/Guerry.csv\"\n",
      "df = pandas.read_csv(url)\n",
      "df = df[['Lottery', 'Literacy', 'Wealth', 'Region']].dropna()\n",
      "df.head()"
     ],
     "language": "python",
     "metadata": {},
     "outputs": []
    },
    {
     "cell_type": "markdown",
     "metadata": {},
     "source": [
      "Fit the model:"
     ]
    },
    {
     "cell_type": "code",
     "collapsed": false,
     "input": [
      "mod = sm.ols(formula='Lottery ~ Literacy + Wealth + Region', data=df)\n",
      "res = mod.fit()\n",
      "print res.summary()"
     ],
     "language": "python",
     "metadata": {},
     "outputs": []
    },
    {
     "cell_type": "markdown",
     "metadata": {},
     "source": [
      "## Categorical variables\n",
      "\n",
      "Looking at the summary printed above, notice that ``patsy`` determined that elements of *Region* were text strings, so it treated *Region* as a categorical variable. `patsy`'s default is also to include an intercept, so we automatically dropped one of the *Region* categories.\n",
      "\n",
      "If *Region* had been an integer variable that we wanted to treat explicitly as categorical, we could have done so by using the ``C()`` operator: "
     ]
    },
    {
     "cell_type": "code",
     "collapsed": false,
     "input": [
      "res = sm.ols(formula='Lottery ~ Literacy + Wealth + C(Region)', data=df).fit()\n",
      "print res.params"
     ],
     "language": "python",
     "metadata": {},
     "outputs": []
    },
    {
     "cell_type": "markdown",
     "metadata": {},
     "source": [
      "Examples more advanced features `patsy`'s categorical variables function can be found here: [Patsy: Contrast Coding Systems for categorical variables](contrasts.html)"
     ]
    },
    {
     "cell_type": "markdown",
     "metadata": {},
     "source": [
      "## Operators\n",
      "\n",
      "We have already seen that \"~\" separates the left-hand side of the model from the right-hand side, and that \"+\" adds new columns to the design matrix. \n",
      "\n",
      "### Removing variables\n",
      "\n",
      "The \"-\" sign can be used to remove columns/variables. For instance, we can remove the intercept from a model by: "
     ]
    },
    {
     "cell_type": "code",
     "collapsed": false,
     "input": [
      "res = sm.ols(formula='Lottery ~ Literacy + Wealth + C(Region) -1 ', data=df).fit()\n",
      "print res.params"
     ],
     "language": "python",
     "metadata": {},
     "outputs": []
    },
    {
     "cell_type": "markdown",
     "metadata": {},
     "source": [
      "### Multiplicative interactions\n",
      "\n",
      "\":\" adds a new column to the design matrix with the product of the other two columns. \"*\" will also include the individual columns that were multiplied together:"
     ]
    },
    {
     "cell_type": "code",
     "collapsed": false,
     "input": [
      "res1 = sm.ols(formula='Lottery ~ Literacy : Wealth - 1', data=df).fit()\n",
      "res2 = sm.ols(formula='Lottery ~ Literacy * Wealth - 1', data=df).fit()\n",
      "print res1.params, '\\n'\n",
      "print res2.params"
     ],
     "language": "python",
     "metadata": {},
     "outputs": []
    },
    {
     "cell_type": "markdown",
     "metadata": {},
     "source": [
      "Many other things are possible with operators. Please consult the [patsy docs](https://patsy.readthedocs.org/en/latest/formulas.html) to learn more."
     ]
    },
    {
     "cell_type": "markdown",
     "metadata": {},
     "source": [
      "## Functions\n",
      "\n",
      "You can apply vectorized functions to the variables in your model: "
     ]
    },
    {
     "cell_type": "code",
     "collapsed": false,
     "input": [
      "res = sm.ols(formula='Lottery ~ np.log(Literacy)', data=df).fit()\n",
      "print res.params"
     ],
     "language": "python",
     "metadata": {},
     "outputs": []
    },
    {
     "cell_type": "markdown",
     "metadata": {},
     "source": [
      "Define a custom function:"
     ]
    },
    {
     "cell_type": "code",
     "collapsed": false,
     "input": [
      "def log_plus_1(x):\n",
      "    return np.log(x) + 1.\n",
      "res = sm.ols(formula='Lottery ~ log_plus_1(Literacy)', data=df).fit()\n",
      "print res.params"
     ],
     "language": "python",
     "metadata": {},
     "outputs": []
    },
    {
     "cell_type": "markdown",
     "metadata": {},
     "source": [
      "## Using formulas with models that do not (yet) support them\n",
      "\n",
      "Even if a given `statsmodels` function does not support formulas, you can still use `patsy`'s formula language to produce design matrices. Those matrices \n",
      "can then be fed to the fitting function as `endog` and `exog` arguments. \n",
      "\n",
      "To generate ``numpy`` arrays: "
     ]
    },
    {
     "cell_type": "code",
     "collapsed": false,
     "input": [
      "import patsy\n",
      "f = 'Lottery ~ Literacy * Wealth'\n",
      "y,X = patsy.dmatrices(f, df, return_type='dataframe')\n",
      "print y[:5]\n",
      "print X[:5]"
     ],
     "language": "python",
     "metadata": {},
     "outputs": []
    },
    {
     "cell_type": "markdown",
     "metadata": {},
     "source": [
      "To generate pandas data frames: "
     ]
    },
    {
     "cell_type": "code",
     "collapsed": false,
     "input": [
      "f = 'Lottery ~ Literacy * Wealth'\n",
      "y,X = patsy.dmatrices(f, df, return_type='dataframe')\n",
      "print y[:5]\n",
      "print X[:5]"
     ],
     "language": "python",
     "metadata": {},
     "outputs": []
    },
    {
     "cell_type": "code",
     "collapsed": false,
     "input": [
      "print sm.OLS(y, X).fit().summary()"
     ],
     "language": "python",
     "metadata": {},
     "outputs": []
    }
   ],
   "metadata": {}
  }
 ]
}