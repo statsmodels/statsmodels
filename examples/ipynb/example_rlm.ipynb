{
 "metadata": {
  "name": "example_rlm"
 },
 "nbformat": 3,
 "nbformat_minor": 0,
 "worksheets": [
  {
   "cells": [
    {
     "cell_type": "markdown",
     "metadata": {},
     "source": [
      "# Robust Linear Models"
     ]
    },
    {
     "cell_type": "code",
     "collapsed": false,
     "input": [
      "import numpy as np\n",
      "import statsmodels.api as sm\n",
      "import matplotlib.pyplot as plt\n",
      "from statsmodels.sandbox.regression.predstd import wls_prediction_std"
     ],
     "language": "python",
     "metadata": {},
     "outputs": [],
     "prompt_number": 1
    },
    {
     "cell_type": "markdown",
     "metadata": {},
     "source": [
      "## Estimation\n",
      "\n",
      "Load data:"
     ]
    },
    {
     "cell_type": "code",
     "collapsed": false,
     "input": [
      "data = sm.datasets.stackloss.load()\n",
      "data.exog = sm.add_constant(data.exog)"
     ],
     "language": "python",
     "metadata": {},
     "outputs": [
      {
       "output_type": "stream",
       "stream": "stderr",
       "text": [
        "/usr/local/lib/python2.7/dist-packages/statsmodels-0.5.0-py2.7-linux-x86_64.egg/statsmodels/tools/tools.py:306: FutureWarning: The default of `prepend` will be changed to True in 0.5.0, use explicit prepend\n",
        "  FutureWarning)\n"
       ]
      }
     ],
     "prompt_number": 2
    },
    {
     "cell_type": "markdown",
     "metadata": {},
     "source": [
      "Huber's T norm with the (default) median absolute deviation scaling"
     ]
    },
    {
     "cell_type": "code",
     "collapsed": false,
     "input": [
      "huber_t = sm.RLM(data.endog, data.exog, M=sm.robust.norms.HuberT())\n",
      "hub_results = huber_t.fit()\n",
      "print hub_results.params\n",
      "print hub_results.bse\n",
      "print hub_results.summary(yname='y',\n",
      "            xname=['var_%d' % i for i in range(len(hub_results.params))])"
     ],
     "language": "python",
     "metadata": {},
     "outputs": [
      {
       "output_type": "stream",
       "stream": "stdout",
       "text": [
        "[  0.82938433   0.92606597  -0.12784672 -41.02649835]\n",
        "[ 0.11100521  0.30293016  0.12864961  9.79189854]\n",
        "                    Robust linear Model Regression Results                    \n",
        "==============================================================================\n",
        "Dep. Variable:                      y   No. Observations:                   21\n",
        "Model:                            RLM   Df Residuals:                       17\n",
        "Method:                          IRLS   Df Model:                            3\n",
        "Norm:                          HuberT                                         \n",
        "Scale Est.:                       mad                                         \n",
        "Cov Type:                          H1                                         \n",
        "Date:                Sun, 26 Aug 2012                                         \n",
        "Time:                        20:53:18                                         \n",
        "No. Iterations:                    19                                         \n",
        "==============================================================================\n",
        "                 coef    std err          z      P>|z|      [95.0% Conf. Int.]\n",
        "------------------------------------------------------------------------------\n",
        "var_0          0.8294      0.111      7.472      0.000         0.612     1.047\n",
        "var_1          0.9261      0.303      3.057      0.002         0.332     1.520\n",
        "var_2         -0.1278      0.129     -0.994      0.320        -0.380     0.124\n",
        "var_3        -41.0265      9.792     -4.190      0.000       -60.218   -21.835\n",
        "==============================================================================\n",
        "\n",
        "If the model instance has been used for another fit with different fit\n",
        "parameters, then the fit options might not be the correct ones anymore .\n"
       ]
      }
     ],
     "prompt_number": 3
    },
    {
     "cell_type": "markdown",
     "metadata": {},
     "source": [
      "Huber's T norm with 'H2' covariance matrix"
     ]
    },
    {
     "cell_type": "code",
     "collapsed": false,
     "input": [
      "hub_results2 = huber_t.fit(cov=\"H2\")\n",
      "print hub_results2.params\n",
      "print hub_results2.bse"
     ],
     "language": "python",
     "metadata": {},
     "outputs": [
      {
       "output_type": "stream",
       "stream": "stdout",
       "text": [
        "[  0.82938433   0.92606597  -0.12784672 -41.02649835]\n",
        "[ 0.11945975  0.32235497  0.11796313  9.08950419]\n"
       ]
      }
     ],
     "prompt_number": 4
    },
    {
     "cell_type": "markdown",
     "metadata": {},
     "source": [
      "Andrew's Wave norm with Huber's Proposal 2 scaling and 'H3' covariance matrix"
     ]
    },
    {
     "cell_type": "code",
     "collapsed": false,
     "input": [
      "andrew_mod = sm.RLM(data.endog, data.exog, M=sm.robust.norms.AndrewWave())\n",
      "andrew_results = andrew_mod.fit(scale_est=sm.robust.scale.HuberScale(), cov=\"H3\")\n",
      "print 'Parameters: ', andrew_results.params"
     ],
     "language": "python",
     "metadata": {},
     "outputs": [
      {
       "output_type": "stream",
       "stream": "stdout",
       "text": [
        "Parameters:  [  0.79276138   1.04857556  -0.13360865 -40.8817957 ]\n"
       ]
      }
     ],
     "prompt_number": 5
    },
    {
     "cell_type": "markdown",
     "metadata": {},
     "source": [
      "See ``help(sm.RLM.fit)`` for more options and ``module sm.robust.scale`` for scale options\n",
      "\n",
      "## Comparing OLS and RLM\n",
      "\n",
      "Artificial data with outliers:"
     ]
    },
    {
     "cell_type": "code",
     "collapsed": false,
     "input": [
      "nsample = 50\n",
      "x1 = np.linspace(0, 20, nsample)\n",
      "X = np.c_[x1, (x1-5)**2, np.ones(nsample)]\n",
      "sig = 0.3   # smaller error variance makes OLS<->RLM contrast bigger\n",
      "beta = [0.5, -0.0, 5.]\n",
      "y_true2 = np.dot(X, beta)\n",
      "y2 = y_true2 + sig*1. * np.random.normal(size=nsample)\n",
      "y2[[39,41,43,45,48]] -= 5   # add some outliers (10% of nsample)"
     ],
     "language": "python",
     "metadata": {},
     "outputs": [],
     "prompt_number": 6
    },
    {
     "cell_type": "markdown",
     "metadata": {},
     "source": [
      "### Example 1: quadratic function with linear truth\n",
      "\n",
      "Note that the quadratic term in OLS regression will capture outlier effects. "
     ]
    },
    {
     "cell_type": "code",
     "collapsed": false,
     "input": [
      "res = sm.OLS(y2, X).fit()\n",
      "print res.params\n",
      "print res.bse\n",
      "print res.predict"
     ],
     "language": "python",
     "metadata": {},
     "outputs": [
      {
       "output_type": "stream",
       "stream": "stdout",
       "text": [
        "[ 0.50766471 -0.01131198  5.11348768]\n",
        "[ 0.07237524  0.00640409  0.4687925 ]\n",
        "<bound method OLSResults.predict of <statsmodels.regression.linear_model.OLSResults object at 0x3faa3d0>>\n"
       ]
      }
     ],
     "prompt_number": 7
    },
    {
     "cell_type": "markdown",
     "metadata": {},
     "source": [
      "Estimate RLM:"
     ]
    },
    {
     "cell_type": "code",
     "collapsed": false,
     "input": [
      "resrlm = sm.RLM(y2, X).fit()\n",
      "print resrlm.params\n",
      "print resrlm.bse"
     ],
     "language": "python",
     "metadata": {},
     "outputs": [
      {
       "output_type": "stream",
       "stream": "stdout",
       "text": [
        "[ 0.4924469  -0.00039857  5.03562372]\n",
        "[ 0.02310792  0.00204469  0.14967575]\n"
       ]
      }
     ],
     "prompt_number": 8
    },
    {
     "cell_type": "markdown",
     "metadata": {},
     "source": [
      "Draw a plot to compare OLS estimates to the robust estimates:"
     ]
    },
    {
     "cell_type": "code",
     "collapsed": false,
     "input": [
      "plt.figure()\n",
      "plt.plot(x1, y2, 'o', x1, y_true2, 'b-')\n",
      "prstd, iv_l, iv_u = wls_prediction_std(res)\n",
      "plt.plot(x1, res.fittedvalues, 'r-')\n",
      "plt.plot(x1, iv_u, 'r--')\n",
      "plt.plot(x1, iv_l, 'r--')\n",
      "plt.plot(x1, resrlm.fittedvalues, 'g.-')\n",
      "plt.title('blue: true,   red: OLS,   green: RLM')"
     ],
     "language": "python",
     "metadata": {},
     "outputs": [
      {
       "output_type": "pyout",
       "prompt_number": 9,
       "text": [
        "<matplotlib.text.Text at 0x411b610>"
       ]
      },
      {
       "output_type": "display_data",
       "png": "[encoded data removed]"
      }
     ],
     "prompt_number": 9
    },
    {
     "cell_type": "markdown",
     "metadata": {},
     "source": [
      "### Example 2: linear function with linear truth\n",
      "\n",
      "Fit a new OLS model using only the linear term and the constant:"
     ]
    },
    {
     "cell_type": "code",
     "collapsed": false,
     "input": [
      "X2 = X[:,[0,2]] \n",
      "res2 = sm.OLS(y2, X2).fit()\n",
      "print res2.params\n",
      "print res2.bse"
     ],
     "language": "python",
     "metadata": {},
     "outputs": [
      {
       "output_type": "stream",
       "stream": "stdout",
       "text": [
        "[ 0.39454489  5.56942984]\n",
        "[ 0.03445508  0.39987768]\n"
       ]
      }
     ],
     "prompt_number": 10
    },
    {
     "cell_type": "markdown",
     "metadata": {},
     "source": [
      "Estimate RLM:"
     ]
    },
    {
     "cell_type": "code",
     "collapsed": false,
     "input": [
      "resrlm2 = sm.RLM(y2, X2).fit()\n",
      "print resrlm2.params\n",
      "print resrlm2.bse"
     ],
     "language": "python",
     "metadata": {},
     "outputs": [
      {
       "output_type": "stream",
       "stream": "stdout",
       "text": [
        "[ 0.48916835  5.047392  ]\n",
        "[ 0.01019951  0.11837314]\n"
       ]
      }
     ],
     "prompt_number": 11
    },
    {
     "cell_type": "markdown",
     "metadata": {},
     "source": [
      "Draw a plot to compare OLS estimates to the robust estimates:"
     ]
    },
    {
     "cell_type": "code",
     "collapsed": false,
     "input": [
      "prstd, iv_l, iv_u = wls_prediction_std(res2)\n",
      "plt.figure()\n",
      "plt.plot(x1, y2, 'o', x1, y_true2, 'b-')\n",
      "plt.plot(x1, res2.fittedvalues, 'r-')\n",
      "plt.plot(x1, iv_u, 'r--')\n",
      "plt.plot(x1, iv_l, 'r--')\n",
      "plt.plot(x1, resrlm2.fittedvalues, 'g.-')\n",
      "plt.title('blue: true,   red: OLS,   green: RLM')"
     ],
     "language": "python",
     "metadata": {},
     "outputs": [
      {
       "output_type": "pyout",
       "prompt_number": 12,
       "text": [
        "<matplotlib.text.Text at 0x4158dd0>"
       ]
      },
      {
       "output_type": "display_data",
       "png": "[encoded data removed]"
      }
     ],
     "prompt_number": 12
    }
   ],
   "metadata": {}
  }
 ]
}