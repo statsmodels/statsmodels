{
 "metadata": {
  "name": "example_predict"
 },
 "nbformat": 3,
 "nbformat_minor": 0,
 "worksheets": [
  {
   "cells": [
    {
     "cell_type": "markdown",
     "metadata": {},
     "source": [
      "# Out of sample prediction"
     ]
    },
    {
     "cell_type": "code",
     "collapsed": false,
     "input": [
      "import numpy as np\n",
      "import statsmodels.api as sm"
     ],
     "language": "python",
     "metadata": {},
     "outputs": [],
     "prompt_number": 1
    },
    {
     "cell_type": "markdown",
     "metadata": {},
     "source": [
      "## Artificial data"
     ]
    },
    {
     "cell_type": "code",
     "collapsed": false,
     "input": [
      "nsample = 50\n",
      "sig = 0.25\n",
      "x1 = np.linspace(0, 20, nsample)\n",
      "X = np.c_[x1, np.sin(x1), (x1-5)**2, np.ones(nsample)]\n",
      "beta = [0.5, 0.5, -0.02, 5.]\n",
      "y_true = np.dot(X, beta)\n",
      "y = y_true + sig * np.random.normal(size=nsample)"
     ],
     "language": "python",
     "metadata": {},
     "outputs": [],
     "prompt_number": 2
    },
    {
     "cell_type": "markdown",
     "metadata": {},
     "source": [
      "## Estimation "
     ]
    },
    {
     "cell_type": "code",
     "collapsed": false,
     "input": [
      "olsmod = sm.OLS(y, X)\n",
      "olsres = olsmod.fit()\n",
      "print olsres.summary()"
     ],
     "language": "python",
     "metadata": {},
     "outputs": [
      {
       "output_type": "stream",
       "stream": "stdout",
       "text": [
        "                            OLS Regression Results                            \n",
        "==============================================================================\n",
        "Dep. Variable:                      y   R-squared:                       0.987\n",
        "Model:                            OLS   Adj. R-squared:                  0.986\n",
        "Method:                 Least Squares   F-statistic:                     1135.\n",
        "Date:                Sun, 26 Aug 2012   Prob (F-statistic):           4.03e-43\n",
        "Time:                        20:53:07   Log-Likelihood:                 5.3984\n",
        "No. Observations:                  50   AIC:                            -2.797\n",
        "Df Residuals:                      46   BIC:                             4.851\n",
        "Df Model:                           3                                         \n",
        "==============================================================================\n",
        "                 coef    std err          t      P>|t|      [95.0% Conf. Int.]\n",
        "------------------------------------------------------------------------------\n",
        "x1             0.5167      0.012     43.406      0.000         0.493     0.541\n",
        "x2             0.4541      0.047      9.705      0.000         0.360     0.548\n",
        "x3            -0.0215      0.001    -20.550      0.000        -0.024    -0.019\n",
        "const          4.8695      0.077     63.089      0.000         4.714     5.025\n",
        "==============================================================================\n",
        "Omnibus:                        1.333   Durbin-Watson:                   2.195\n",
        "Prob(Omnibus):                  0.514   Jarque-Bera (JB):                1.220\n",
        "Skew:                           0.231   Prob(JB):                        0.543\n",
        "Kurtosis:                       2.390   Cond. No.                         221.\n",
        "==============================================================================\n"
       ]
      }
     ],
     "prompt_number": 3
    },
    {
     "cell_type": "markdown",
     "metadata": {},
     "source": [
      "## In-sample prediction"
     ]
    },
    {
     "cell_type": "code",
     "collapsed": false,
     "input": [
      "ypred = olsres.predict(X)\n",
      "print ypred"
     ],
     "language": "python",
     "metadata": {},
     "outputs": [
      {
       "output_type": "stream",
       "stream": "stdout",
       "text": [
        "[  4.33259464   4.80783601   5.24630515   5.62325195   5.92285846\n",
        "   6.1408378    6.28513842   6.3746382    6.43604293   6.49949852\n",
        "   6.5936382    6.74087813   6.95373448   7.23276706   7.56648738\n",
        "   7.93324611   8.30479007   8.65090411   8.94437538   9.16546434\n",
        "   9.30514787   9.36660181   9.3646791    9.32346955   9.27234192\n",
        "   9.24111872   9.25517645   9.33127633   9.47481046   9.67891594\n",
        "   9.9256024   10.18870775  10.4381966   10.64509493  10.78625047\n",
        "  10.84813654  10.82907443  10.73950927  10.60029383  10.43926257\n",
        "  10.28665841  10.17016402  10.11035353  10.11731232  10.18898002\n",
        "  10.31148898  10.46144275  10.60975997  10.72645244  10.78555203]\n"
       ]
      }
     ],
     "prompt_number": 4
    },
    {
     "cell_type": "markdown",
     "metadata": {},
     "source": [
      "## Create a new sample of explanatory variables Xnew, predict and plot"
     ]
    },
    {
     "cell_type": "code",
     "collapsed": false,
     "input": [
      "x1n = np.linspace(20.5,25, 10)\n",
      "Xnew = np.c_[x1n, np.sin(x1n), (x1n-5)**2, np.ones(10)]\n",
      "ynewpred =  olsres.predict(Xnew) # predict out of sample\n",
      "print ypred"
     ],
     "language": "python",
     "metadata": {},
     "outputs": [
      {
       "output_type": "stream",
       "stream": "stdout",
       "text": [
        "[  4.33259464   4.80783601   5.24630515   5.62325195   5.92285846\n",
        "   6.1408378    6.28513842   6.3746382    6.43604293   6.49949852\n",
        "   6.5936382    6.74087813   6.95373448   7.23276706   7.56648738\n",
        "   7.93324611   8.30479007   8.65090411   8.94437538   9.16546434\n",
        "   9.30514787   9.36660181   9.3646791    9.32346955   9.27234192\n",
        "   9.24111872   9.25517645   9.33127633   9.47481046   9.67891594\n",
        "   9.9256024   10.18870775  10.4381966   10.64509493  10.78625047\n",
        "  10.84813654  10.82907443  10.73950927  10.60029383  10.43926257\n",
        "  10.28665841  10.17016402  10.11035353  10.11731232  10.18898002\n",
        "  10.31148898  10.46144275  10.60975997  10.72645244  10.78555203]\n"
       ]
      }
     ],
     "prompt_number": 5
    },
    {
     "cell_type": "markdown",
     "metadata": {},
     "source": [
      "## Plot comparison"
     ]
    },
    {
     "cell_type": "code",
     "collapsed": false,
     "input": [
      "import matplotlib.pyplot as plt\n",
      "plt.figure()\n",
      "plt.plot(x1, y, 'o', x1, y_true, 'b-')\n",
      "plt.plot(np.hstack((x1, x1n)), np.hstack((ypred, ynewpred)),'r')\n",
      "plt.title('OLS prediction, blue: true and data, fitted/predicted values:red')"
     ],
     "language": "python",
     "metadata": {},
     "outputs": [
      {
       "output_type": "pyout",
       "prompt_number": 6,
       "text": [
        "<matplotlib.text.Text at 0x48a6b10>"
       ]
      },
      {
       "output_type": "display_data",
       "png": "[encoded data removed]"
      }
     ],
     "prompt_number": 6
    }
   ],
   "metadata": {}
  }
 ]
}