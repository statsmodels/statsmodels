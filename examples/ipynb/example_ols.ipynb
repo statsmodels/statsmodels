{
 "metadata": {
  "name": "example_ols"
 },
 "nbformat": 3,
 "nbformat_minor": 0,
 "worksheets": [
  {
   "cells": [
    {
     "cell_type": "markdown",
     "metadata": {},
     "source": [
      "# Ordinary least squares"
     ]
    },
    {
     "cell_type": "code",
     "collapsed": false,
     "input": [
      "import numpy as np\n",
      "import statsmodels.api as sm\n",
      "import matplotlib\n",
      "import matplotlib.pyplot as plt\n",
      "from statsmodels.sandbox.regression.predstd import wls_prediction_std\n",
      "np.random.seed(9876789)"
     ],
     "language": "python",
     "metadata": {},
     "outputs": []
    },
    {
     "cell_type": "markdown",
     "metadata": {},
     "source": [
      "## OLS estimation\n",
      "\n",
      "Artificial data:"
     ]
    },
    {
     "cell_type": "code",
     "collapsed": false,
     "input": [
      "nsample = 100\n",
      "x = np.linspace(0, 10, 100)\n",
      "X = np.column_stack((x, x**2))\n",
      "beta = np.array([1, 0.1, 10])\n",
      "e = np.random.normal(size=nsample)"
     ],
     "language": "python",
     "metadata": {},
     "outputs": []
    },
    {
     "cell_type": "markdown",
     "metadata": {},
     "source": [
      "Our model needs an intercept so we add a column of 1s:"
     ]
    },
    {
     "cell_type": "code",
     "collapsed": false,
     "input": [
      "X = sm.add_constant(X, prepend=False)\n",
      "y = np.dot(X, beta) + e"
     ],
     "language": "python",
     "metadata": {},
     "outputs": []
    },
    {
     "cell_type": "markdown",
     "metadata": {},
     "source": [
      "Inspect data:"
     ]
    },
    {
     "cell_type": "code",
     "collapsed": false,
     "input": [
      "X = sm.add_constant(X, prepend=False)\n",
      "y = np.dot(X, beta) + e"
     ],
     "language": "python",
     "metadata": {},
     "outputs": []
    },
    {
     "cell_type": "markdown",
     "metadata": {},
     "source": [
      "Fit and summary:"
     ]
    },
    {
     "cell_type": "code",
     "collapsed": false,
     "input": [
      "model = sm.OLS(y, X)\n",
      "results = model.fit()\n",
      "print results.summary()"
     ],
     "language": "python",
     "metadata": {},
     "outputs": []
    },
    {
     "cell_type": "markdown",
     "metadata": {},
     "source": [
      "Quantities of interest can be extracted directly from the fitted model. Type ``dir(results)`` for a full list. Here are some examples:  "
     ]
    },
    {
     "cell_type": "code",
     "collapsed": false,
     "input": [
      "print 'Parameters: ', results.params\n",
      "print 'R2: ', results.rsquared"
     ],
     "language": "python",
     "metadata": {},
     "outputs": []
    },
    {
     "cell_type": "markdown",
     "metadata": {},
     "source": [
      "## OLS non-linear curve but linear in parameters\n",
      "\n",
      "We simulate artificial data with a non-linear relationship between x and y:"
     ]
    },
    {
     "cell_type": "code",
     "collapsed": false,
     "input": [
      "nsample = 50\n",
      "sig = 0.5\n",
      "x = np.linspace(0, 20, nsample)\n",
      "X = np.c_[x, np.sin(x), (x-5)**2, np.ones(nsample)]\n",
      "beta = [0.5, 0.5, -0.02, 5.]\n",
      "y_true = np.dot(X, beta)\n",
      "y = y_true + sig * np.random.normal(size=nsample)"
     ],
     "language": "python",
     "metadata": {},
     "outputs": []
    },
    {
     "cell_type": "markdown",
     "metadata": {},
     "source": [
      "Fit and summary:"
     ]
    },
    {
     "cell_type": "code",
     "collapsed": false,
     "input": [
      "res = sm.OLS(y, X).fit()\n",
      "print res.summary()"
     ],
     "language": "python",
     "metadata": {},
     "outputs": []
    },
    {
     "cell_type": "markdown",
     "metadata": {},
     "source": [
      "Extract other quantities of interest:"
     ]
    },
    {
     "cell_type": "code",
     "collapsed": false,
     "input": [
      "print 'Parameters: ', res.params\n",
      "print 'Standard errors: ', res.bse\n",
      "print 'Predicted values: ', res.predict()"
     ],
     "language": "python",
     "metadata": {},
     "outputs": []
    },
    {
     "cell_type": "markdown",
     "metadata": {},
     "source": [
      "Draw a plot to compare the true relationship to OLS predictions. Confidence intervals around the predictions are built using the ``wls_prediction_std`` command."
     ]
    },
    {
     "cell_type": "code",
     "collapsed": false,
     "input": [
      "plt.figure()\n",
      "plt.plot(x, y, 'o', x, y_true, 'b-')\n",
      "prstd, iv_l, iv_u = wls_prediction_std(res)\n",
      "plt.plot(x, res.fittedvalues, 'r--.')\n",
      "plt.plot(x, iv_u, 'r--')\n",
      "plt.plot(x, iv_l, 'r--')\n",
      "plt.title('blue: true,   red: OLS')"
     ],
     "language": "python",
     "metadata": {},
     "outputs": []
    },
    {
     "cell_type": "markdown",
     "metadata": {},
     "source": [
      "## OLS with dummy variables\n",
      "\n",
      "We generate some artificial data. There are 3 groups which will be modelled using dummy variables. Group 0 is the omitted/benchmark category."
     ]
    },
    {
     "cell_type": "code",
     "collapsed": false,
     "input": [
      "nsample = 50\n",
      "groups = np.zeros(nsample, int)\n",
      "groups[20:40] = 1\n",
      "groups[40:] = 2\n",
      "dummy = (groups[:,None] == np.unique(groups)).astype(float)\n",
      "x = np.linspace(0, 20, nsample)\n",
      "X = np.c_[x, dummy[:,1:], np.ones(nsample)]\n",
      "beta = [1., 3, -3, 10]\n",
      "y_true = np.dot(X, beta)\n",
      "e = np.random.normal(size=nsample)\n",
      "y = y_true + e"
     ],
     "language": "python",
     "metadata": {},
     "outputs": []
    },
    {
     "cell_type": "markdown",
     "metadata": {},
     "source": [
      "Inspect the data:"
     ]
    },
    {
     "cell_type": "code",
     "collapsed": false,
     "input": [
      "print X[:5,:]\n",
      "print y[:5]\n",
      "print groups\n",
      "print dummy[:5,:]"
     ],
     "language": "python",
     "metadata": {},
     "outputs": []
    },
    {
     "cell_type": "markdown",
     "metadata": {},
     "source": [
      "Fit and summary:"
     ]
    },
    {
     "cell_type": "code",
     "collapsed": false,
     "input": [
      "res2 = sm.OLS(y, X).fit()\n",
      "print res.summary()"
     ],
     "language": "python",
     "metadata": {},
     "outputs": []
    },
    {
     "cell_type": "markdown",
     "metadata": {},
     "source": [
      "Draw a plot to compare the true relationship to OLS predictions:"
     ]
    },
    {
     "cell_type": "code",
     "collapsed": false,
     "input": [
      "prstd, iv_l, iv_u = wls_prediction_std(res2)\n",
      "plt.figure()\n",
      "plt.plot(x, y, 'o', x, y_true, 'b-')\n",
      "plt.plot(x, res2.fittedvalues, 'r--.')\n",
      "plt.plot(x, iv_u, 'r--')\n",
      "plt.plot(x, iv_l, 'r--')\n",
      "plt.title('blue: true,   red: OLS')"
     ],
     "language": "python",
     "metadata": {},
     "outputs": []
    },
    {
     "cell_type": "markdown",
     "metadata": {},
     "source": [
      "## Joint hypothesis test\n",
      "\n",
      "### F test\n",
      "\n",
      "We want to test the hypothesis that both coefficients on the dummy variables are equal to zero, that is, $R \\times \\beta = 0$. An F test leads us to strongly reject the null hypothesis of identical constant in the 3 groups:"
     ]
    },
    {
     "cell_type": "code",
     "collapsed": false,
     "input": [
      "R = [[0, 1, 0, 0], [0, 0, 1, 0]]\n",
      "print np.array(R)\n",
      "print res2.f_test(R)"
     ],
     "language": "python",
     "metadata": {},
     "outputs": []
    },
    {
     "cell_type": "markdown",
     "metadata": {},
     "source": [
      "### Small group effects\n",
      "\n",
      "If we generate artificial data with smaller group effects, the T test can no longer reject the Null hypothesis: "
     ]
    },
    {
     "cell_type": "code",
     "collapsed": false,
     "input": [
      "beta = [1., 0.3, -0.0, 10]\n",
      "y_true = np.dot(X, beta)\n",
      "y = y_true + np.random.normal(size=nsample)\n",
      "res3 = sm.OLS(y, X).fit()\n",
      "print res3.f_test(R)"
     ],
     "language": "python",
     "metadata": {},
     "outputs": []
    },
    {
     "cell_type": "markdown",
     "metadata": {},
     "source": [
      "### Multicollinearity\n",
      "\n",
      "The Longley dataset is well known to have high multicollinearity, that is, the exogenous predictors are highly correlated. This is problematic because it can affect the stability of our coefficient estimates as we make minor changes to model specification. "
     ]
    },
    {
     "cell_type": "code",
     "collapsed": false,
     "input": [
      "from statsmodels.datasets.longley import load\n",
      "y = load().endog\n",
      "X = load().exog\n",
      "X = sm.tools.add_constant(X, prepend=False)"
     ],
     "language": "python",
     "metadata": {},
     "outputs": []
    },
    {
     "cell_type": "markdown",
     "metadata": {},
     "source": [
      "Fit and summary:"
     ]
    },
    {
     "cell_type": "code",
     "collapsed": false,
     "input": [
      "ols_model = sm.OLS(y, X)\n",
      "ols_results = ols_model.fit()\n",
      "print ols_results.summary()"
     ],
     "language": "python",
     "metadata": {},
     "outputs": []
    },
    {
     "cell_type": "markdown",
     "metadata": {},
     "source": [
      "#### Condition number\n",
      "\n",
      "One way to assess multicollinearity is to compute the condition number. Values over 20 are worrisome (see Greene 4.9). The first step is to normalize the independent variables to have unit length: "
     ]
    },
    {
     "cell_type": "code",
     "collapsed": false,
     "input": [
      "norm_x = np.ones_like(X)\n",
      "for i in range(int(ols_model.df_model)):\n",
      "    norm_x[:,i] = X[:,i]/np.linalg.norm(X[:,i])\n",
      "norm_xtx = np.dot(norm_x.T,norm_x)"
     ],
     "language": "python",
     "metadata": {},
     "outputs": []
    },
    {
     "cell_type": "markdown",
     "metadata": {},
     "source": [
      "Then, we take the square root of the ratio of the biggest to the smallest eigen values. "
     ]
    },
    {
     "cell_type": "code",
     "collapsed": false,
     "input": [
      "eigs = np.linalg.eigvals(norm_xtx)\n",
      "condition_number = np.sqrt(eigs.max() / eigs.min())\n",
      "print condition_number"
     ],
     "language": "python",
     "metadata": {},
     "outputs": []
    },
    {
     "cell_type": "markdown",
     "metadata": {},
     "source": [
      "#### Dropping an observation\n",
      "\n",
      "Greene also points out that dropping a single observation can have a dramatic effect on the coefficient estimates: "
     ]
    },
    {
     "cell_type": "code",
     "collapsed": false,
     "input": [
      "ols_results2 = sm.OLS(y[:-1], X[:-1,:]).fit()\n",
      "print \"Percentage change %4.2f%%\\n\"*7 % tuple([i for i in ols_results.params/ols_results2.params*100 - 100])"
     ],
     "language": "python",
     "metadata": {},
     "outputs": []
    }
   ],
   "metadata": {}
  }
 ]
}
