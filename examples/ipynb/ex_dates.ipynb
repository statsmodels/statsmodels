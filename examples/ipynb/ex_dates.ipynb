{
 "metadata": {
  "name": "ex_dates"
 },
 "nbformat": 3,
 "nbformat_minor": 0,
 "worksheets": [
  {
   "cells": [
    {
     "cell_type": "markdown",
     "metadata": {},
     "source": [
      "# Using dates with timeseries models"
     ]
    },
    {
     "cell_type": "code",
     "collapsed": false,
     "input": [
      "import statsmodels.api as sm\n",
      "import numpy as np\n",
      "import pandas"
     ],
     "language": "python",
     "metadata": {},
     "outputs": []
    },
    {
     "cell_type": "markdown",
     "metadata": {},
     "source": [
      "## Getting started"
     ]
    },
    {
     "cell_type": "code",
     "collapsed": false,
     "input": [
      "data = sm.datasets.sunspots.load()"
     ],
     "language": "python",
     "metadata": {},
     "outputs": []
    },
    {
     "cell_type": "markdown",
     "metadata": {},
     "source": [
      "Right now an annual date series must be datetimes at the end of the year."
     ]
    },
    {
     "cell_type": "code",
     "collapsed": false,
     "input": [
      "from datetime import datetime\n",
      "dates = sm.tsa.datetools.dates_from_range('1700', length=len(data.endog))"
     ],
     "language": "python",
     "metadata": {},
     "outputs": []
    },
    {
     "cell_type": "markdown",
     "metadata": {},
     "source": [
      "## Using Pandas\n",
      "\n",
      "Make a pandas TimeSeries or DataFrame"
     ]
    },
    {
     "cell_type": "code",
     "collapsed": false,
     "input": [
      "endog = pandas.TimeSeries(data.endog, index=dates)"
     ],
     "language": "python",
     "metadata": {},
     "outputs": []
    },
    {
     "cell_type": "markdown",
     "metadata": {},
     "source": [
      "Instantiate the model"
     ]
    },
    {
     "cell_type": "code",
     "collapsed": false,
     "input": [
      "ar_model = sm.tsa.AR(endog, freq='A')\n",
      "pandas_ar_res = ar_model.fit(maxlag=9, method='mle', disp=-1)"
     ],
     "language": "python",
     "metadata": {},
     "outputs": []
    },
    {
     "cell_type": "markdown",
     "metadata": {},
     "source": [
      "Out-of-sample prediction"
     ]
    },
    {
     "cell_type": "code",
     "collapsed": false,
     "input": [
      "pred = pandas_ar_res.predict(start='2005', end='2015')\n",
      "print pred"
     ],
     "language": "python",
     "metadata": {},
     "outputs": []
    },
    {
     "cell_type": "markdown",
     "metadata": {},
     "source": [
      "## Using explicit dates"
     ]
    },
    {
     "cell_type": "code",
     "collapsed": false,
     "input": [
      "ar_model = sm.tsa.AR(data.endog, dates=dates, freq='A')\n",
      "ar_res = ar_model.fit(maxlag=9, method='mle', disp=-1)\n",
      "pred = ar_res.predict(start='2005', end='2015')\n",
      "print pred"
     ],
     "language": "python",
     "metadata": {},
     "outputs": []
    },
    {
     "cell_type": "markdown",
     "metadata": {},
     "source": [
      "This just returns a regular array, but since the model has date information attached, you can get the prediction dates in a roundabout way."
     ]
    },
    {
     "cell_type": "code",
     "collapsed": false,
     "input": [
      "print ar_res.data.predict_dates"
     ],
     "language": "python",
     "metadata": {},
     "outputs": []
    },
    {
     "cell_type": "markdown",
     "metadata": {},
     "source": [
      "Note: This attribute only exists if predict has been called. It holds the dates associated with the last call to predict."
     ]
    }
   ],
   "metadata": {}
  }
 ]
}
