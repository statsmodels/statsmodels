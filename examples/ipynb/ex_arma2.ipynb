{
 "metadata": {
  "name": "ex_arma2"
 },
 "nbformat": 3,
 "nbformat_minor": 0,
 "worksheets": [
  {
   "cells": [
    {
     "cell_type": "markdown",
     "metadata": {},
     "source": [
      "# Autoregressive Moving Average (ARMA) Model"
     ]
    },
    {
     "cell_type": "code",
     "collapsed": false,
     "input": [
      "import numpy as np\n",
      "import statsmodels.api as sm\n",
      "from statsmodels.tsa.arima_process import arma_generate_sample\n",
      "np.random.seed(12345)"
     ],
     "language": "python",
     "metadata": {},
     "outputs": []
    },
    {
     "cell_type": "markdown",
     "metadata": {},
     "source": [
      "Generate some data from an ARMA process:"
     ]
    },
    {
     "cell_type": "code",
     "collapsed": false,
     "input": [
      "arparams = np.array([.75, -.25])\n",
      "maparams = np.array([.65, .35])"
     ],
     "language": "python",
     "metadata": {},
     "outputs": []
    },
    {
     "cell_type": "markdown",
     "metadata": {},
     "source": [
      "The conventions of the arma_generate function require that we specify a 1 for the zero-lag of the AR and MA parameters and that the AR parameters be negated."
     ]
    },
    {
     "cell_type": "code",
     "collapsed": false,
     "input": [
      "arparams = np.r_[1, -arparams]\n",
      "maparam = np.r_[1, maparams]\n",
      "nobs = 250\n",
      "y = arma_generate_sample(arparams, maparams, nobs)"
     ],
     "language": "python",
     "metadata": {},
     "outputs": []
    },
    {
     "cell_type": "markdown",
     "metadata": {},
     "source": [
      " Now, optionally, we can add some dates information. For this example, we'll use a pandas time series."
     ]
    },
    {
     "cell_type": "code",
     "collapsed": false,
     "input": [
      "import pandas\n",
      "dates = sm.tsa.datetools.dates_from_range('1980m1', length=nobs)\n",
      "y = pandas.TimeSeries(y, index=dates)\n",
      "arma_mod = sm.tsa.ARMA(y, order=(2,2))\n",
      "arma_res = arma_mod.fit(trend='nc', disp=-1)"
     ],
     "language": "python",
     "metadata": {},
     "outputs": []
    }
   ],
   "metadata": {}
  }
 ]
}
