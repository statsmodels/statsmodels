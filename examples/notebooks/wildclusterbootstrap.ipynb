{
 "cells": [
  {
   "attachments": {},
   "cell_type": "markdown",
   "metadata": {},
   "source": [
    "## Wild Cluster Bootstrap\n",
    "\n",
    "This notebook illustrates using wild cluster bootstrapping in OLS in `statsmodels`"
   ]
  },
  {
   "cell_type": "code",
   "execution_count": 1,
   "metadata": {},
   "outputs": [],
   "source": [
    "%load_ext autoreload"
   ]
  },
  {
   "cell_type": "code",
   "execution_count": 2,
   "metadata": {},
   "outputs": [],
   "source": [
    "%autoreload 2\n",
    "import statsmodels.api as sm\n",
    "import numpy as np\n",
    "import pandas as pd"
   ]
  },
  {
   "cell_type": "code",
   "execution_count": 7,
   "metadata": {},
   "outputs": [
    {
     "name": "stdout",
     "output_type": "stream",
     "text": [
      "                                  OLS Regression Results                                 \n",
      "=========================================================================================\n",
      "Dep. Variable:                  outcome   R-squared (uncentered):                   0.737\n",
      "Model:                              OLS   Adj. R-squared (uncentered):              0.735\n",
      "Method:                   Least Squares   F-statistic:                              278.0\n",
      "Date:                  Thu, 15 Dec 2022   Prob (F-statistic):                   2.58e-279\n",
      "Time:                          15:23:14   Log-Likelihood:                         -1769.6\n",
      "No. Observations:                  1000   AIC:                                      3559.\n",
      "Df Residuals:                       990   BIC:                                      3608.\n",
      "Df Model:                            10                                                  \n",
      "Covariance Type:   wildclusterbootstrap                                                  \n",
      "==============================================================================\n",
      "                 coef    std err          t      P>|t|      [0.025      0.975]\n",
      "------------------------------------------------------------------------------\n",
      "col_0         -0.0457        nan     -0.916      0.424         nan         nan\n",
      "col_1         -1.1441        nan    -23.471      0.000         nan         nan\n",
      "col_2          0.3851        nan     14.491      0.002         nan         nan\n",
      "col_3         -0.6970        nan    -12.623      0.002         nan         nan\n",
      "col_4         -0.5754        nan    -19.986      0.002         nan         nan\n",
      "col_5          0.0367        nan      1.493      0.191         nan         nan\n",
      "col_6          0.2766        nan      7.231      0.000         nan         nan\n",
      "col_7         -1.1516        nan    -41.373      0.002         nan         nan\n",
      "col_8          0.5564        nan     17.311      0.002         nan         nan\n",
      "col_9         -1.2981        nan    -37.320      0.000         nan         nan\n",
      "==============================================================================\n",
      "Omnibus:                        0.445   Durbin-Watson:                   0.955\n",
      "Prob(Omnibus):                  0.800   Jarque-Bera (JB):                0.327\n",
      "Skew:                          -0.007   Prob(JB):                        0.849\n",
      "Kurtosis:                       3.087   Cond. No.                         1.18\n",
      "==============================================================================\n",
      "\n",
      "Notes:\n",
      "[1] R² is computed without centering (uncentered) since the model does not contain a constant.\n",
      "[2] Wild Cluster Bootstrap assuming 11 bootstrap_type and rademacher weight type.\n"
     ]
    },
    {
     "name": "stderr",
     "output_type": "stream",
     "text": [
      "/Users/lordflaron/Documents/wildboottest/wildboottest/wildboottest.py:521: UserWarning: 2^G < the number of boot iterations, setting full_enumeration to True.\n",
      "  warnings.warn(\"2^G < the number of boot iterations, setting full_enumeration to True.\")\n"
     ]
    }
   ],
   "source": [
    "np.random.seed(12312312)\n",
    "N = 1000\n",
    "k = 10\n",
    "G= 10\n",
    "X = np.random.normal(0, 1, N * k).reshape((N,k))\n",
    "beta = np.random.normal(0,1,k)\n",
    "beta[0] = 0.005\n",
    "u = np.random.normal(0,1,N)\n",
    "Y = 1 + X @ beta + u\n",
    "cluster = np.random.choice(list(range(0,G)), N)\n",
    "\n",
    "X_df = pd.DataFrame(data=X, columns = [f\"col_{i}\" for i in range(k)])\n",
    "\n",
    "Y_df = pd.DataFrame(data=Y, columns = ['outcome'])\n",
    "\n",
    "model = sm.OLS(Y_df, X_df)\n",
    "\n",
    "print(model.fit(cov_type='wildclusterbootstrap',\n",
    "            cov_kwds = {'cluster' : cluster,\n",
    "                        'B' : 9999,\n",
    "                        'weights_type' : 'rademacher',\n",
    "                        'impose_null' : True, \n",
    "                        'bootstrap_type' : '11', \n",
    "                        'use_correction' : False,\n",
    "                        'use_cluster_correction' : False,\n",
    "                        'seed' : None}).summary())"
   ]
  },
  {
   "cell_type": "code",
   "execution_count": 15,
   "metadata": {},
   "outputs": [
    {
     "ename": "KeyError",
     "evalue": "'cluster, B, weights_type, impose_null, bootstrap_type, seed in cov_params must be specified.'",
     "output_type": "error",
     "traceback": [
      "\u001b[0;31m---------------------------------------------------------------------------\u001b[0m",
      "\u001b[0;31mKeyError\u001b[0m                                  Traceback (most recent call last)",
      "Cell \u001b[0;32mIn[15], line 1\u001b[0m\n\u001b[0;32m----> 1\u001b[0m model\u001b[39m.\u001b[39;49mfit()\u001b[39m.\u001b[39;49mget_robustcov_results(\u001b[39m'\u001b[39;49m\u001b[39mwildclusterbootstrap\u001b[39;49m\u001b[39m'\u001b[39;49m)\n",
      "File \u001b[0;32m~/Documents/dev/statsmodels/statsmodels/regression/linear_model.py:2665\u001b[0m, in \u001b[0;36mRegressionResults.get_robustcov_results\u001b[0;34m(self, cov_type, use_t, **kwargs)\u001b[0m\n\u001b[1;32m   2662\u001b[0m required_cov_params \u001b[39m=\u001b[39m [\u001b[39m'\u001b[39m\u001b[39mcluster\u001b[39m\u001b[39m'\u001b[39m, \u001b[39m'\u001b[39m\u001b[39mB\u001b[39m\u001b[39m'\u001b[39m, \u001b[39m'\u001b[39m\u001b[39mweights_type\u001b[39m\u001b[39m'\u001b[39m, \u001b[39m'\u001b[39m\u001b[39mimpose_null\u001b[39m\u001b[39m'\u001b[39m, \u001b[39m'\u001b[39m\u001b[39mbootstrap_type\u001b[39m\u001b[39m'\u001b[39m, \u001b[39m'\u001b[39m\u001b[39mseed\u001b[39m\u001b[39m'\u001b[39m]\n\u001b[1;32m   2664\u001b[0m \u001b[39mif\u001b[39;00m \u001b[39mnot\u001b[39;00m \u001b[39mall\u001b[39m(i \u001b[39min\u001b[39;00m kwargs \u001b[39mfor\u001b[39;00m i \u001b[39min\u001b[39;00m required_cov_params):\n\u001b[0;32m-> 2665\u001b[0m     \u001b[39mraise\u001b[39;00m \u001b[39mKeyError\u001b[39;00m(\u001b[39mf\u001b[39m\u001b[39m\"\u001b[39m\u001b[39m{\u001b[39;00m\u001b[39m'\u001b[39m\u001b[39m, \u001b[39m\u001b[39m'\u001b[39m\u001b[39m.\u001b[39mjoin(required_cov_params)\u001b[39m}\u001b[39;00m\u001b[39m in cov_params must be specified.\u001b[39m\u001b[39m\"\u001b[39m)\n\u001b[1;32m   2667\u001b[0m cluster \u001b[39m=\u001b[39m kwargs[\u001b[39m'\u001b[39m\u001b[39mcluster\u001b[39m\u001b[39m'\u001b[39m]\n\u001b[1;32m   2668\u001b[0m B \u001b[39m=\u001b[39m kwargs[\u001b[39m'\u001b[39m\u001b[39mB\u001b[39m\u001b[39m'\u001b[39m]\n",
      "\u001b[0;31mKeyError\u001b[0m: 'cluster, B, weights_type, impose_null, bootstrap_type, seed in cov_params must be specified.'"
     ]
    }
   ],
   "source": [
    "model.fit().get_robustcov_results('wildclusterbootstrap',\n",
    "                                  'cluster' : cluster,\n",
    "                        'B' : 9999,\n",
    "                        'weights_type' : 'rademacher',\n",
    "                        'impose_null' : True, \n",
    "                        'bootstrap_type' : '11', \n",
    "                        'use_correction' : False,\n",
    "                        'use_cluster_correction' : False,\n",
    "                        'seed' : None)"
   ]
  }
 ],
 "metadata": {
  "kernelspec": {
   "display_name": ".venv",
   "language": "python",
   "name": "python3"
  },
  "language_info": {
   "codemirror_mode": {
    "name": "ipython",
    "version": 3
   },
   "file_extension": ".py",
   "mimetype": "text/x-python",
   "name": "python",
   "nbconvert_exporter": "python",
   "pygments_lexer": "ipython3",
   "version": "3.9.12"
  },
  "orig_nbformat": 4,
  "vscode": {
   "interpreter": {
    "hash": "1390d2bf969ce9dc08c7652477b6c87791f5aa516dc7134db895cc440f46e0f9"
   }
  }
 },
 "nbformat": 4,
 "nbformat_minor": 2
}
