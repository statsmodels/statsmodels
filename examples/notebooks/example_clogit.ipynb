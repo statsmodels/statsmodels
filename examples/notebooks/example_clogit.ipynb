{
 "metadata": {
  "name": "Discrete Choice Models - Conditional Model"
 },
 "name": "Discrete Choice Models - Conditional Model",
 "nbformat": 2,
 "worksheets": [
  {
   "cells": [
    {
     "cell_type": "markdown",
     "source": "Load a few modules and functions\n========="
    },
    {
     "cell_type": "code",
     "collapsed": false,
     "input": "from discrete.dcm_clogit import CLogit, CLogitResults",
     "language": "python",
     "outputs": [],
     "prompt_number": 1
    },
    {
     "cell_type": "code",
     "collapsed": true,
     "input": "import pandas as pd\nfrom patsy import dmatrices\nfrom collections import OrderedDict",
     "language": "python",
     "outputs": [],
     "prompt_number": 2
    },
    {
     "cell_type": "markdown",
     "source": "Load data\n======"
    },
    {
     "cell_type": "code",
     "collapsed": false,
     "input": "url = \"http://vincentarelbundock.github.io/Rdatasets/csv/Ecdat/ModeChoice.csv\"\nfile_ = \"ModeChoice.csv\"\nimport os\nif not os.path.exists(file_):\n    import urllib\n    urllib.urlretrieve(url, \"ModeChoice.csv\")\ndf = pd.read_csv(file_)\ndf.describe()",
     "language": "python",
     "outputs": [
      {
       "html": "<div style=\"max-height:1000px;max-width:1500px;overflow:auto;\">\n<table border=\"1\" class=\"dataframe\">\n  <thead>\n    <tr style=\"text-align: right;\">\n      <th></th>\n      <th>Unnamed: 0</th>\n      <th>mode</th>\n      <th>ttme</th>\n      <th>invc</th>\n      <th>invt</th>\n      <th>gc</th>\n      <th>hinc</th>\n      <th>psize</th>\n    </tr>\n  </thead>\n  <tbody>\n    <tr>\n      <th>count</th>\n      <td> 840.000000</td>\n      <td> 840.000000</td>\n      <td> 840.000000</td>\n      <td> 840.000000</td>\n      <td>  840.000000</td>\n      <td> 840.000000</td>\n      <td> 840.000000</td>\n      <td> 840.000000</td>\n    </tr>\n    <tr>\n      <th>mean</th>\n      <td> 420.500000</td>\n      <td>   0.250000</td>\n      <td>  34.589286</td>\n      <td>  47.760714</td>\n      <td>  486.165476</td>\n      <td> 110.879762</td>\n      <td>  34.547619</td>\n      <td>   1.742857</td>\n    </tr>\n    <tr>\n      <th>std</th>\n      <td> 242.631408</td>\n      <td>   0.433271</td>\n      <td>  24.948608</td>\n      <td>  32.371004</td>\n      <td>  301.439107</td>\n      <td>  47.978353</td>\n      <td>  19.676044</td>\n      <td>   1.010350</td>\n    </tr>\n    <tr>\n      <th>min</th>\n      <td>   1.000000</td>\n      <td>   0.000000</td>\n      <td>   0.000000</td>\n      <td>   2.000000</td>\n      <td>   63.000000</td>\n      <td>  30.000000</td>\n      <td>   2.000000</td>\n      <td>   1.000000</td>\n    </tr>\n    <tr>\n      <th>25%</th>\n      <td> 210.750000</td>\n      <td>   0.000000</td>\n      <td>   0.750000</td>\n      <td>  23.000000</td>\n      <td>  234.000000</td>\n      <td>  71.000000</td>\n      <td>  20.000000</td>\n      <td>   1.000000</td>\n    </tr>\n    <tr>\n      <th>50%</th>\n      <td> 420.500000</td>\n      <td>   0.000000</td>\n      <td>  35.000000</td>\n      <td>  39.000000</td>\n      <td>  397.000000</td>\n      <td> 101.500000</td>\n      <td>  34.500000</td>\n      <td>   1.000000</td>\n    </tr>\n    <tr>\n      <th>75%</th>\n      <td> 630.250000</td>\n      <td>   0.250000</td>\n      <td>  53.000000</td>\n      <td>  66.250000</td>\n      <td>  795.500000</td>\n      <td> 144.000000</td>\n      <td>  50.000000</td>\n      <td>   2.000000</td>\n    </tr>\n    <tr>\n      <th>max</th>\n      <td> 840.000000</td>\n      <td>   1.000000</td>\n      <td>  99.000000</td>\n      <td> 180.000000</td>\n      <td> 1440.000000</td>\n      <td> 269.000000</td>\n      <td>  72.000000</td>\n      <td>   6.000000</td>\n    </tr>\n  </tbody>\n</table>\n</div>",
       "output_type": "pyout",
       "prompt_number": 3,
       "text": "       Unnamed: 0        mode        ttme        invc         invt          gc        hinc       psize\ncount  840.000000  840.000000  840.000000  840.000000   840.000000  840.000000  840.000000  840.000000\nmean   420.500000    0.250000   34.589286   47.760714   486.165476  110.879762   34.547619    1.742857\nstd    242.631408    0.433271   24.948608   32.371004   301.439107   47.978353   19.676044    1.010350\nmin      1.000000    0.000000    0.000000    2.000000    63.000000   30.000000    2.000000    1.000000\n25%    210.750000    0.000000    0.750000   23.000000   234.000000   71.000000   20.000000    1.000000\n50%    420.500000    0.000000   35.000000   39.000000   397.000000  101.500000   34.500000    1.000000\n75%    630.250000    0.250000   53.000000   66.250000   795.500000  144.000000   50.000000    2.000000\nmax    840.000000    1.000000   99.000000  180.000000  1440.000000  269.000000   72.000000    6.000000"
      }
     ],
     "prompt_number": 3
    },
    {
     "cell_type": "markdown",
     "source": "Use patsy\u2018s formula language to produce design matrices to be pased to the fitting function as endog and exog arguments."
    },
    {
     "cell_type": "code",
     "collapsed": true,
     "input": "f = 'mode  ~ ttme+invc+invt+gc+hinc+psize'\ny, X = dmatrices(f, df, return_type='dataframe')",
     "language": "python",
     "outputs": [],
     "prompt_number": 4
    },
    {
     "cell_type": "code",
     "collapsed": false,
     "input": "print y.head() # endog\nprint X.head() # exog",
     "language": "python",
     "outputs": [
      {
       "output_type": "stream",
       "stream": "stdout",
       "text": "   mode\n0     0\n1     0\n2     0\n3     1\n4     0\n   Intercept  ttme  invc  invt  gc  hinc  psize\n0          1    69    59   100  70    35      1\n1          1    34    31   372  71    35      1\n2          1    35    25   417  70    35      1\n3          1     0    10   180  30    35      1\n4          1    64    58    68  68    30      2"
      }
     ],
     "prompt_number": 5
    },
    {
     "cell_type": "markdown",
     "source": "Set up model\n======\n\nUi j = \u03b1air + \u03b1train + \u03b1bus + \u03b1car + \u03b2G * gcij+ \u03b2T * ttmeij + \u03b3H * hinc + \u03b5ij\n\nNote that this example is the same as Greene, Econometric Analysis (5th Edition - 2003: Page 729):  \n21.7.8. Application: Conditional Logit Model for Travel Mode Choice"
    },
    {
     "cell_type": "markdown",
     "source": "Utilities\n------\n\n* four alternative-specific constants (\u03b1air, \u03b1train, \u03b1bus, \u03b1car) \u03b1car dropped for identification\n\n* two alternative specific variables (gc, ttme) with a generic coefficient (\u03b2G, \u03b2T)\n\n* one alternative specific variable (hinc) with an alternative specific coefficient (\u03b3H)"
    },
    {
     "cell_type": "code",
     "collapsed": true,
     "input": "# Names of the variables for the utility function for each alternative\n# variables with common coefficients have to be first in each array\n\nV = OrderedDict((('air',   ['gc', 'ttme', 'Intercept', 'hinc']),\n                 ('train', ['gc', 'ttme', 'Intercept']),\n                 ('bus',   ['gc', 'ttme', 'Intercept']),\n                 ('car',   ['gc', 'ttme'])))",
     "language": "python",
     "outputs": [],
     "prompt_number": 6
    },
    {
     "cell_type": "markdown",
     "source": "Number of common coefficients\n------"
    },
    {
     "cell_type": "code",
     "collapsed": true,
     "input": "ncommon = 2",
     "language": "python",
     "outputs": [],
     "prompt_number": 7
    },
    {
     "cell_type": "markdown",
     "source": "Describe model\n------"
    },
    {
     "cell_type": "code",
     "collapsed": true,
     "input": "clogit_mod = CLogit(y, X,  V, ncommon,\n                    ref_level = 'car', name_intercept = 'Intercept')",
     "language": "python",
     "outputs": [],
     "prompt_number": 8
    },
    {
     "cell_type": "markdown",
     "source": "Fit model\n------"
    },
    {
     "cell_type": "code",
     "collapsed": false,
     "input": "clogit_res = clogit_mod.fit(disp=1)",
     "language": "python",
     "outputs": [
      {
       "output_type": "stream",
       "stream": "stdout",
       "text": "Optimization terminated successfully.\n         Current function value: 0.237058\n         Iterations 5"
      }
     ],
     "prompt_number": 9
    },
    {
     "cell_type": "markdown",
     "source": "Summarize model\n------"
    },
    {
     "cell_type": "code",
     "collapsed": false,
     "input": "print clogit_mod.summary()",
     "language": "python",
     "outputs": [
      {
       "output_type": "stream",
       "stream": "stdout",
       "text": "                                   CLogit results                                  \n===================================================================================\nDep. Variable:                     mode   No. Cases:                            840\nModel:                           CLogit   No. Observations:                     210\nMethod:                          newton   Df Residuals:                         204\nDate:                  Thu, 19 Sep 2013   Df Model:                               6\nTime:                          18:49:46   Log-Likelihood:                   -199.13\nConverged:                         True   LL-Null:                          -283.76\nIterations:                           5   Pseudo R-squ.:                     0.2982\nElapsed time (seg.):             0.0692   LLR p-value:                    6.453e-34\nNum. alternatives:                    4   Likelihood ratio test:             169.26\n                                          AIC:                               410.26\n=====================================================\n                               air  train  bus   car \n-----------------------------------------------------\nFrequencies of alternatives:  58.00 63.00 30.00 59.00\nPercentage:                    0.28  0.30  0.14  0.28\n=======================================================================================\n                          coef    std err          z      P>|z|      [95.0% Conf. Int.]\n---------------------------------------------------------------------------------------\n0 gc                   -0.0155      0.004     -3.517      0.000        -0.024    -0.007\n1 ttme                 -0.0961      0.010     -9.207      0.000        -0.117    -0.076\n2 Intercept (air)       5.2074      0.779      6.684      0.000         3.681     6.734\n3 hinc (air)            0.0133      0.010      1.295      0.195        -0.007     0.033\n4 Intercept (train)     3.8690      0.443      8.731      0.000         3.001     4.738\n5 Intercept (bus)       3.1632      0.450      7.025      0.000         2.281     4.046\n======================================================================================="
      }
     ],
     "prompt_number": 10
    },
    {
     "cell_type": "markdown",
     "source": "Predict values and residuals\n======"
    },
    {
     "cell_type": "code",
     "collapsed": false,
     "input": "predict_values = clogit_mod.predict(clogit_res.params)\nprint predict_values[1:10, ]",
     "language": "python",
     "outputs": [
      {
       "output_type": "stream",
       "stream": "stdout",
       "text": "[[ 0.2265824   0.21284598  0.0435581   0.51701351]\n [ 0.12754127  0.20434823  0.18696519  0.4811453 ]\n [ 0.31592248  0.16393497  0.03303261  0.48710994]\n [ 0.32378156  0.26927454  0.05510598  0.35183792]\n [ 0.07704117  0.30776538  0.24192112  0.37327233]\n [ 0.5742604   0.10485286  0.09593347  0.22495327]\n [ 0.07969698  0.42783443  0.2009925   0.2914761 ]\n [ 0.08866445  0.38910287  0.17721647  0.34501621]\n [ 0.1263403   0.35525946  0.16180253  0.3565977 ]]"
      }
     ],
     "prompt_number": 11
    },
    {
     "cell_type": "code",
     "collapsed": false,
     "input": "residuals = clogit_mod.residuals\nprint residuals[1:10, ]",
     "language": "python",
     "outputs": [
      {
       "output_type": "stream",
       "stream": "stdout",
       "text": "[[-0.2265824  -0.21284598 -0.0435581   0.48298649]\n [-0.12754127 -0.20434823 -0.18696519  0.5188547 ]\n [-0.31592248 -0.16393497 -0.03303261  0.51289006]\n [-0.32378156 -0.26927454 -0.05510598  0.64816208]\n [-0.07704117  0.69223462 -0.24192112 -0.37327233]\n [ 0.4257396  -0.10485286 -0.09593347 -0.22495327]\n [-0.07969698 -0.42783443 -0.2009925   0.7085239 ]\n [-0.08866445 -0.38910287 -0.17721647  0.65498379]\n [-0.1263403  -0.35525946 -0.16180253  0.6434023 ]]"
      }
     ],
     "prompt_number": 12
    },
    {
     "cell_type": "markdown",
     "source": "Example 2\n=====\nAlso, you can estimate pure Multinomial Logit Models.\n\nUi j = \u03b1air + \u03b1train + \u03b1bus + \u03b1car + \u03b3H * hinc + \u03b5ij\n\n* four\u00a0alternative-specific\u00a0constants\u00a0(\u03b1air,\u00a0\u03b1train,\u00a0\u03b1bus,\u00a0\u03b1car). \u03b1car\u00a0dropped\u00a0for\u00a0identification\n* one\u00a0alternative\u00a0specific\u00a0variables\u00a0(hinc) with\u00a0a\u00a0generic\u00a0coefficient\u00a0(\u03b3H)"
    },
    {
     "cell_type": "markdown",
     "source": "Set up the model: utilities & number of common coefficients\n------"
    },
    {
     "cell_type": "code",
     "collapsed": true,
     "input": "# Names of the variables for the utility function for each alternative\n# variables with common coefficients have to be first in each array\n\nV = OrderedDict((('air',   ['Intercept', 'hinc']),\n                 ('train', ['Intercept']),\n                 ('bus',   ['Intercept']),\n                 ('car',   [])))\n\nncommon = 0",
     "language": "python",
     "outputs": [],
     "prompt_number": 13
    },
    {
     "cell_type": "markdown",
     "source": "Describe model, fit and summarize\n------"
    },
    {
     "cell_type": "code",
     "collapsed": true,
     "input": "clogit_mod = CLogit(y, X,  V, ncommon, ref_level = 'car')",
     "language": "python",
     "outputs": [],
     "prompt_number": 14
    },
    {
     "cell_type": "code",
     "collapsed": true,
     "input": "clogit_res = clogit_mod.fit()",
     "language": "python",
     "outputs": [],
     "prompt_number": 15
    },
    {
     "cell_type": "code",
     "collapsed": false,
     "input": "print clogit_mod.summary()",
     "language": "python",
     "outputs": [
      {
       "output_type": "stream",
       "stream": "stdout",
       "text": "                                   CLogit results                                  \n===================================================================================\nDep. Variable:                     mode   No. Cases:                            840\nModel:                           CLogit   No. Observations:                     210\nMethod:                          newton   Df Residuals:                         206\nDate:                  Thu, 19 Sep 2013   Df Model:                               4\nTime:                          18:49:47   Log-Likelihood:                   -278.40\nConverged:                         True   LL-Null:                          -283.76\nIterations:                           5   Pseudo R-squ.:                    0.01890\nElapsed time (seg.):             0.0299   LLR p-value:                      0.02983\nNum. alternatives:                    4   Likelihood ratio test:             10.725\n                                          AIC:                               564.79\n=====================================================\n                               air  train  bus   car \n-----------------------------------------------------\nFrequencies of alternatives:  58.00 63.00 30.00 59.00\nPercentage:                    0.28  0.30  0.14  0.28\n=======================================================================================\n                          coef    std err          z      P>|z|      [95.0% Conf. Int.]\n---------------------------------------------------------------------------------------\n0 Intercept (air)      -0.9762      0.369     -2.649      0.008        -1.699    -0.254\n1 hinc (air)            0.0261      0.008      3.195      0.001         0.010     0.042\n2 Intercept (train)     0.0656      0.181      0.362      0.717        -0.289     0.421\n3 Intercept (bus)      -0.6763      0.224     -3.016      0.003        -1.116    -0.237\n======================================================================================="
      }
     ],
     "prompt_number": 16
    }
   ]
  }
 ]
}