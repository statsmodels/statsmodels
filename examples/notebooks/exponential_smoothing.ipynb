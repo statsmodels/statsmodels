{
 "cells": [
  {
   "cell_type": "markdown",
   "metadata": {},
   "source": [
    "# Tutorial \n",
    "\n",
    "Let us consider chapter 7 of the excellent treatise on the subject of Exponential Smoothing By Hyndman and Athanasopoulos [1].\n",
    "We will work through all the examples in the chapter as they unfold.\n",
    "\n",
    "[1] [Hyndman, Rob J., and George Athanasopoulos. Forecasting: principles and practice. OTexts, 2014.](https://www.otexts.org/fpp/7)"
   ]
  },
  {
   "cell_type": "markdown",
   "metadata": {},
   "source": [
    "# Exponential smoothing\n",
    "\n",
    "First we load some data. We have included the R data in the notebook for expedience."
   ]
  },
  {
   "cell_type": "code",
   "execution_count": null,
   "metadata": {
    "ExecuteTime": {
     "end_time": "2017-12-07T12:39:15.020317Z",
     "start_time": "2017-12-07T12:39:14.263100Z"
    },
    "collapsed": true
   },
   "outputs": [],
   "source": [
    "import os\n",
    "import numpy as np\n",
    "import pandas as pd\n",
    "import matplotlib.pyplot as plt\n",
    "from statsmodels.tsa.api import ExponentialSmoothing, SimpleExpSmoothing, Holt\n",
    "\n",
    "data = [446.6565,  454.4733,  455.663 ,  423.6322,  456.2713,  440.5881, 425.3325,  485.1494,  506.0482,  526.792 ,  514.2689,  494.211 ]\n",
    "index= pd.DatetimeIndex(start='1996', end='2008', freq='A')\n",
    "oildata = pd.Series(data, index)\n",
    "oildata.index = pd.DatetimeIndex(oildata.index, freq=pd.infer_freq(oildata.index))\n",
    "\n",
    "data = [17.5534,  21.86  ,  23.8866,  26.9293,  26.8885,  28.8314, 30.0751,  30.9535,  30.1857,  31.5797,  32.5776,  33.4774, 39.0216,  41.3864,  41.5966]\n",
    "index= pd.DatetimeIndex(start='1990', end='2005', freq='A')\n",
    "air = pd.Series(data, index)\n",
    "air.index = pd.DatetimeIndex(air.index, freq=pd.infer_freq(air.index))\n",
    "\n",
    "data = [263.9177,  268.3072,  260.6626,  266.6394,  277.5158,  283.834 , 290.309 ,  292.4742,  300.8307,  309.2867,  318.3311,  329.3724, 338.884 ,  339.2441,  328.6006,  314.2554,  314.4597,  321.4138, 329.7893,  346.3852,  352.2979,  348.3705,  417.5629,  417.1236, 417.7495,  412.2339,  411.9468,  394.6971,  401.4993,  408.2705, 414.2428]\n",
    "index= pd.DatetimeIndex(start='1970', end='2001', freq='A')\n",
    "livestock2 = pd.Series(data, index)\n",
    "livestock2.index = pd.DatetimeIndex(livestock2.index, freq=pd.infer_freq(livestock2.index))\n",
    "\n",
    "data = [407.9979 ,  403.4608,  413.8249,  428.105 ,  445.3387,  452.9942, 455.7402]\n",
    "index= pd.DatetimeIndex(start='2001', end='2008', freq='A')\n",
    "livestock3 = pd.Series(data, index)\n",
    "livestock3.index = pd.DatetimeIndex(livestock3.index, freq=pd.infer_freq(livestock3.index))\n",
    "\n",
    "data = [41.7275,  24.0418,  32.3281,  37.3287,  46.2132,  29.3463, 36.4829,  42.9777,  48.9015,  31.1802,  37.7179,  40.4202, 51.2069,  31.8872,  40.9783,  43.7725,  55.5586,  33.8509, 42.0764,  45.6423,  59.7668,  35.1919,  44.3197,  47.9137]\n",
    "index= pd.DatetimeIndex(start='2005', end='2010-Q4', freq='QS')\n",
    "aust = pd.Series(data, index)\n",
    "aust.index = pd.DatetimeIndex(aust.index, freq=pd.infer_freq(aust.index))"
   ]
  },
  {
   "cell_type": "markdown",
   "metadata": {},
   "source": [
    "## Simple Exponential Smoothing\n",
    "Lets use Simple Exponential Smoothing to forecast the below oil data."
   ]
  },
  {
   "cell_type": "code",
   "execution_count": null,
   "metadata": {
    "ExecuteTime": {
     "end_time": "2017-12-07T12:39:15.189907Z",
     "start_time": "2017-12-07T12:39:15.022229Z"
    }
   },
   "outputs": [],
   "source": [
    "ax=oildata.plot()\n",
    "ax.set_xlabel(\"Year\")\n",
    "ax.set_ylabel(\"Oil (millions of tonnes)\")\n",
    "plt.show()\n",
    "print(\"Figure 7.1: Oil production in Saudi Arabia from 1996 to 2007.\")"
   ]
  },
  {
   "cell_type": "markdown",
   "metadata": {},
   "source": [
    "Here we run three variants of simple exponential smoothing:\n",
    "1. In ```fit1``` we do not use the auto optimization but instead choose to explicitly provide the model with the $\\alpha=0.2$ parameter\n",
    "2. In ```fit2``` as above we choose an $\\alpha=0.6$\n",
    "3. In ```fit3``` we allow statsmodels to automatically find an optimized $\\alpha$ value for us. This is the recommended approach."
   ]
  },
  {
   "cell_type": "code",
   "execution_count": null,
   "metadata": {
    "ExecuteTime": {
     "end_time": "2017-12-07T12:39:15.785068Z",
     "start_time": "2017-12-07T12:39:15.191930Z"
    }
   },
   "outputs": [],
   "source": [
    "fit1 = SimpleExpSmoothing(oildata).fit(smoothing_level=0.2,optimized=False)\n",
    "fcast1 = fit1.forecast(3).rename(r'$\\alpha=0.2$')\n",
    "fit2 = SimpleExpSmoothing(oildata).fit(smoothing_level=0.6,optimized=False)\n",
    "fcast2 = fit2.forecast(3).rename(r'$\\alpha=0.6$')\n",
    "fit3 = SimpleExpSmoothing(oildata).fit()\n",
    "fcast3 = fit3.forecast(3).rename(r'$\\alpha=%s$'%fit3.model.params['smoothing_level'])\n",
    "\n",
    "ax = oildata.plot(marker='o', color='black', figsize=(12,8))\n",
    "fcast1.plot(marker='o', ax=ax, color='blue', legend=True)\n",
    "fit1.fittedvalues.plot(marker='o', ax=ax, color='blue')\n",
    "fcast2.plot(marker='o', ax=ax, color='red', legend=True)\n",
    "\n",
    "fit2.fittedvalues.plot(marker='o', ax=ax, color='red')\n",
    "fcast3.plot(marker='o', ax=ax, color='green', legend=True)\n",
    "fit3.fittedvalues.plot(marker='o', ax=ax, color='green')\n",
    "plt.show()"
   ]
  },
  {
   "cell_type": "markdown",
   "metadata": {},
   "source": [
    "## Holt's Method\n",
    "\n",
    "Lets take a look at another example.\n",
    "This time we use air pollution data and the Holt's Method.\n",
    "We will fit three examples again.\n",
    "1. In ```fit1``` we again choose not to use the optimzer and provide explicit values for $\\alpha=0.8$ and $\\beta=0.2$\n",
    "2. In ```fit2``` we do the same as in ```fit1``` but choose to use an exponential model rather than a Holt's additive model.\n",
    "3. In ```fit3``` we used a damped versions of the Holt's additive model but allow the dampening parameter $\\phi$ to be optimized while fixing the values for $\\alpha=0.8$ and $\\beta=0.2$"
   ]
  },
  {
   "cell_type": "code",
   "execution_count": null,
   "metadata": {
    "ExecuteTime": {
     "end_time": "2017-12-07T12:39:16.114361Z",
     "start_time": "2017-12-07T12:39:15.786542Z"
    }
   },
   "outputs": [],
   "source": [
    "fit1 = Holt(air).fit(smoothing_level=0.8, smoothing_slope=0.2, optimized=False)\n",
    "fcast1 = fit1.forecast(5).rename(\"Holt's linear trend\")\n",
    "fit2 = Holt(air, exponential=True).fit(smoothing_level=0.8, smoothing_slope=0.2, optimized=False)\n",
    "fcast2 = fit2.forecast(5).rename(\"Exponential trend\")\n",
    "fit3 = Holt(air, damped=True).fit(smoothing_level=0.8, smoothing_slope=0.2)\n",
    "fcast3 = fit3.forecast(5).rename(\"Additive damped trend\")\n",
    "\n",
    "ax = air.plot(color=\"black\", marker=\"o\", figsize=(12,8))\n",
    "fit1.fittedvalues.plot(ax=ax, color='blue')\n",
    "fcast1.plot(ax=ax, color='blue', marker=\"o\", legend=True)\n",
    "fit2.fittedvalues.plot(ax=ax, color='red')\n",
    "fcast2.plot(ax=ax, color='red', marker=\"o\", legend=True)\n",
    "fit3.fittedvalues.plot(ax=ax, color='green')\n",
    "fcast3.plot(ax=ax, color='green', marker=\"o\", legend=True)\n",
    "\n",
    "plt.show()"
   ]
  },
  {
   "cell_type": "markdown",
   "metadata": {},
   "source": [
    "### Seasonally adjusted data\n",
    "Lets look at some seasonally adjusted livestock data. We fit five Holt's models.\n",
    "The below table allows us to compare results when we use exponential versus additive and damped versus non-damped.\n",
    " \n",
    "Note: ```fit4``` does not allow the parameter $\\phi$ to be otpimized by providing a fixed value of $\\phi=0.98$"
   ]
  },
  {
   "cell_type": "code",
   "execution_count": null,
   "metadata": {
    "ExecuteTime": {
     "end_time": "2017-12-07T12:39:16.605618Z",
     "start_time": "2017-12-07T12:39:16.116424Z"
    }
   },
   "outputs": [],
   "source": [
    "fit1 = SimpleExpSmoothing(livestock2).fit()\n",
    "fit2 = Holt(livestock2).fit()\n",
    "fit3 = Holt(livestock2,exponential=True).fit()\n",
    "fit4 = Holt(livestock2,damped=True).fit(damping_slope=0.98)\n",
    "fit5 = Holt(livestock2,exponential=True,damped=True).fit()\n",
    "params = ['smoothing_level', 'smoothing_slope', 'damping_slope', 'initial_level', 'initial_slope']\n",
    "results=pd.DataFrame(index=[r\"$\\alpha$\",r\"$\\beta$\",r\"$\\phi$\",r\"$l_0$\",\"$b_0$\",\"SSE\"] ,columns=['SES', \"Holt's\",\"Exponential\", \"Additive\", \"Multiplicative\"])\n",
    "results[\"SES\"] =            [fit1.params[p] for p in params] + [fit1.sse]\n",
    "results[\"Holt's\"] =         [fit2.params[p] for p in params] + [fit2.sse]\n",
    "results[\"Exponential\"] =    [fit3.params[p] for p in params] + [fit3.sse]\n",
    "results[\"Additive\"] =       [fit4.params[p] for p in params] + [fit4.sse]\n",
    "results[\"Multiplicative\"] = [fit5.params[p] for p in params] + [fit5.sse]\n",
    "results"
   ]
  },
  {
   "cell_type": "markdown",
   "metadata": {},
   "source": [
    "### Plots of Seasonally Adjusted Data\n",
    "The following plots allow us to evaluate the level and slope/trend components of the above table's fits."
   ]
  },
  {
   "cell_type": "code",
   "execution_count": null,
   "metadata": {
    "ExecuteTime": {
     "end_time": "2017-12-07T12:39:17.105928Z",
     "start_time": "2017-12-07T12:39:16.607306Z"
    }
   },
   "outputs": [],
   "source": [
    "for fit in [fit2,fit4]:\n",
    "    pd.DataFrame(np.c_[fit.level,fit.slope]).rename(\n",
    "        columns={0:'level',1:'slope'}).plot(subplots=True)\n",
    "plt.show()\n",
    "print('Figure 7.4: Level and slope components for Holt’s linear trend method and the additive damped trend method.')"
   ]
  },
  {
   "cell_type": "markdown",
   "metadata": {},
   "source": [
    "## Comparison\n",
    "Here we plot a comparison Simple Exponential Smoothing and Holt's Methods for various additive, exponential and damped combinations. All of the models parameters will be optimized by statsmodels."
   ]
  },
  {
   "cell_type": "code",
   "execution_count": null,
   "metadata": {
    "ExecuteTime": {
     "end_time": "2017-12-07T12:39:18.038995Z",
     "start_time": "2017-12-07T12:39:17.108323Z"
    }
   },
   "outputs": [],
   "source": [
    "fit1 = SimpleExpSmoothing(livestock2).fit()\n",
    "fcast1 = fit1.forecast(9).rename(\"SES\")\n",
    "fit2 = Holt(livestock2).fit()\n",
    "fcast2 = fit2.forecast(9).rename(\"Holt's\")\n",
    "fit3 = Holt(livestock2, exponential=True).fit()\n",
    "fcast3 = fit3.forecast(9).rename(\"Exponential\")\n",
    "fit4 = Holt(livestock2, damped=True).fit(damping_slope=0.98)\n",
    "fcast4 = fit4.forecast(9).rename(\"Additive Damped\")\n",
    "fit5 = Holt(livestock2, exponential=True, damped=True).fit()\n",
    "fcast5 = fit5.forecast(9).rename(\"Multiplicative Damped\")\n",
    "\n",
    "ax = livestock2.plot(color=\"black\", marker=\"o\", figsize=(12,8))\n",
    "livestock3.plot(ax=ax, color=\"black\", marker=\"o\", legend=False)\n",
    "fcast1.plot(ax=ax, color='red', legend=True)\n",
    "fcast2.plot(ax=ax, color='green', legend=True)\n",
    "fcast3.plot(ax=ax, color='blue', legend=True)\n",
    "fcast4.plot(ax=ax, color='cyan', legend=True)\n",
    "fcast5.plot(ax=ax, color='magenta', legend=True)\n",
    "ax.set_ylabel('Livestock, sheep in Asia (millions)')\n",
    "plt.show()\n",
    "print('Figure 7.5: Forecasting livestock, sheep in Asia: comparing forecasting performance of non-seasonal methods.')"
   ]
  },
  {
   "cell_type": "markdown",
   "metadata": {
    "ExecuteTime": {
     "end_time": "2017-10-05T09:40:15.958575Z",
     "start_time": "2017-10-05T09:40:15.615Z"
    }
   },
   "source": [
    "## Holt's Winters Seasonal\n",
    "Finally we are able to run full Holt's Winters Seasonal Exponential Smoothing  including a trend component and a seasonal component.\n",
    "Statsmodels allows for all the combinations including as shown in the examples below:\n",
    "1. ```fit1``` additive trend, additive seasonal of period ```season_length=4``` and the use of a Boxcox transformation.\n",
    "1. ```fit2``` additive trend, multiplicative seasonal of period ```season_length=4``` and the use of a Boxcox transformation..\n",
    "1. ```fit3``` additive damped trend, additive seasonal of period ```season_length=4``` and the use of a boxcox transformation.\n",
    "1. ```fit4``` additive damped trend, multiplicative seasonal of period ```season_length=4``` and the use of a boxcox transformation.\n",
    "\n",
    "The plot shows the results and forecast for ```fit1``` and ```fit2```.\n",
    "The table allows us to compare the results and parameterizations."
   ]
  },
  {
   "cell_type": "code",
   "execution_count": null,
   "metadata": {
    "ExecuteTime": {
     "end_time": "2017-12-07T12:39:28.375871Z",
     "start_time": "2017-12-07T12:39:18.040674Z"
    }
   },
   "outputs": [],
   "source": [
    "fit1 = ExponentialSmoothing(aust, seasonal_periods=4, trend='add', seasonal='add').fit(use_boxcox=True)\n",
    "fit2 = ExponentialSmoothing(aust, seasonal_periods=4, trend='add', seasonal='mul').fit(use_boxcox=True)\n",
    "fit3 = ExponentialSmoothing(aust, seasonal_periods=4, trend='add', seasonal='add', damped=True).fit(use_boxcox=True)\n",
    "fit4 = ExponentialSmoothing(aust, seasonal_periods=4, trend='add', seasonal='mul', damped=True).fit(use_boxcox=True)\n",
    "results=pd.DataFrame(index=[r\"$\\alpha$\",r\"$\\beta$\",r\"$\\phi$\",r\"$\\gamma$\",r\"$l_0$\",\"$b_0$\",\"SSE\"])\n",
    "params = ['smoothing_level', 'smoothing_slope', 'damping_slope', 'smoothing_seasonal', 'initial_level', 'initial_slope']\n",
    "results[\"Additive\"]       = [fit1.params[p] for p in params] + [fit1.sse]\n",
    "results[\"Multiplicative\"] = [fit2.params[p] for p in params] + [fit2.sse]\n",
    "results[\"Additive Dam\"]   = [fit3.params[p] for p in params] + [fit3.sse]\n",
    "results[\"Multiplica Dam\"] = [fit4.params[p] for p in params] + [fit4.sse]\n",
    "\n",
    "ax = aust.plot(figsize=(10,6), marker='o', color='black', title=\"Forecasts from Holt-Winters' multiplicative method\" )\n",
    "ax.set_ylabel(\"International visitor night in Australia (millions)\")\n",
    "ax.set_xlabel(\"Year\")\n",
    "fit1.fittedvalues.plot(ax=ax, style='--', color='red')\n",
    "fit2.fittedvalues.plot(ax=ax, style='--', color='green')\n",
    "\n",
    "fit1.forecast(8).plot(ax=ax, style='--', marker='o', color='red', legend=True)\n",
    "fit2.forecast(8).plot(ax=ax, style='--', marker='o', color='green', legend=True)\n",
    "\n",
    "plt.show()\n",
    "print(\"Figure 7.6: Forecasting international visitor nights in Australia using Holt-Winters method with both additive and multiplicative seasonality.\")\n",
    "\n",
    "results"
   ]
  },
  {
   "cell_type": "markdown",
   "metadata": {},
   "source": [
    "### The Internals\n",
    "It is possible to get at the internals of the Exponential Smoothing models. \n",
    "\n",
    "Here we show some tables that allow you to view side by side the original values $y_t$, the level $l_t$, the trend $b_t$, the season $s_t$ and the fitted values $\\hat{y}_t$."
   ]
  },
  {
   "cell_type": "code",
   "execution_count": null,
   "metadata": {
    "ExecuteTime": {
     "end_time": "2017-12-07T12:39:28.399765Z",
     "start_time": "2017-12-07T12:39:28.377215Z"
    }
   },
   "outputs": [],
   "source": [
    "pd.DataFrame(np.c_[aust, fit1.level, fit1.slope, fit1.season, fit1.fittedvalues], \n",
    "columns=[r'$y_t$',r'$l_t$',r'$b_t$',r'$s_t$',r'$\\hat{y}_t$'],index=aust.index). \\\n",
    "append(fit1.forecast(8).rename(r'$\\hat{y}_t$').to_frame())"
   ]
  },
  {
   "cell_type": "code",
   "execution_count": null,
   "metadata": {
    "ExecuteTime": {
     "end_time": "2017-12-07T12:39:28.574783Z",
     "start_time": "2017-12-07T12:39:28.401234Z"
    }
   },
   "outputs": [],
   "source": [
    "pd.DataFrame(np.c_[aust, fit2.level, fit2.slope, fit2.season, fit2.fittedvalues], \n",
    "columns=[r'$y_t$',r'$l_t$',r'$b_t$',r'$s_t$',r'$\\hat{y}_t$'],index=aust.index). \\\n",
    "append(fit2.forecast(8).rename(r'$\\hat{y}_t$').to_frame())"
   ]
  },
  {
   "cell_type": "markdown",
   "metadata": {},
   "source": [
    "Finally lets look at the levels, slopes/trends and seasonal components of the models."
   ]
  },
  {
   "cell_type": "code",
   "execution_count": null,
   "metadata": {
    "ExecuteTime": {
     "end_time": "2017-12-07T12:39:29.636548Z",
     "start_time": "2017-12-07T12:39:28.576279Z"
    }
   },
   "outputs": [],
   "source": [
    "states1 = pd.DataFrame(np.c_[fit1.level, fit1.slope, fit1.season], columns=['level','slope','seasonal'], index=aust.index)\n",
    "states2 = pd.DataFrame(np.c_[fit2.level, fit2.slope, fit2.season], columns=['level','slope','seasonal'], index=aust.index)\n",
    "fig, [[ax1, ax4],[ax2, ax5], [ax3, ax6]] = plt.subplots(3, 2, figsize=(12,8))\n",
    "states1[['level']].plot(ax=ax1)\n",
    "states1[['slope']].plot(ax=ax2)\n",
    "states1[['seasonal']].plot(ax=ax3)\n",
    "states2[['level']].plot(ax=ax4)\n",
    "states2[['slope']].plot(ax=ax5)\n",
    "states2[['seasonal']].plot(ax=ax6)\n",
    "plt.show()"
   ]
  },
  {
   "cell_type": "code",
   "execution_count": null,
   "metadata": {
    "collapsed": true
   },
   "outputs": [],
   "source": []
  }
 ],
 "metadata": {
  "anaconda-cloud": {},
  "hide_input": false,
  "kernelspec": {
   "display_name": "Python [conda root]",
   "language": "python",
   "name": "conda-root-py"
  },
  "language_info": {
   "codemirror_mode": {
    "name": "ipython",
    "version": 3
   },
   "file_extension": ".py",
   "mimetype": "text/x-python",
   "name": "python",
   "nbconvert_exporter": "python",
   "pygments_lexer": "ipython3",
   "version": "3.6.0"
  },
  "latex_envs": {
   "LaTeX_envs_menu_present": true,
   "autocomplete": true,
   "bibliofile": "biblio.bib",
   "cite_by": "apalike",
   "current_citInitial": 1,
   "eqLabelWithNumbers": true,
   "eqNumInitial": 1,
   "hotkeys": {
    "equation": "Ctrl-E",
    "itemize": "Ctrl-I"
   },
   "labels_anchors": false,
   "latex_user_defs": false,
   "report_style_numbering": false,
   "user_envs_cfg": false
  },
  "toc": {
   "colors": {
    "hover_highlight": "#DAA520",
    "navigate_num": "#000000",
    "navigate_text": "#333333",
    "running_highlight": "#FF0000",
    "selected_highlight": "#FFD700",
    "sidebar_border": "#EEEEEE",
    "wrapper_background": "#FFFFFF"
   },
   "moveMenuLeft": true,
   "nav_menu": {
    "height": "98px",
    "width": "252px"
   },
   "navigate_menu": true,
   "number_sections": false,
   "sideBar": true,
   "threshold": 4,
   "toc_cell": false,
   "toc_section_display": "block",
   "toc_window_display": true,
   "widenNotebook": false
  }
 },
 "nbformat": 4,
 "nbformat_minor": 1
}
