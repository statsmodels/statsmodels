{
 "metadata": {
  "name": "",
  "signature": "sha256:8db1c3f9c7328763a1349d8ba2c08f0336028e0113fb70bab3bc7a8bab777328"
 },
 "nbformat": 3,
 "nbformat_minor": 0,
 "worksheets": [
  {
   "cells": [
    {
     "cell_type": "heading",
     "level": 1,
     "metadata": {},
     "source": [
      "Estimation of bandwidth by cross-validation"
     ]
    },
    {
     "cell_type": "code",
     "collapsed": false,
     "input": [
      "from __future__ import print_function\n",
      "%matplotlib inline\n",
      "import numpy as np\n",
      "from scipy import stats\n",
      "import statsmodels.api as sm\n",
      "import matplotlib.pyplot as plt\n",
      "from statsmodels.distributions.mixture_rvs import MixtureDistribution, mv_mixture_rvs\n",
      "from statsmodels.kernel_methods import bandwidths, fast_linbin"
     ],
     "language": "python",
     "metadata": {},
     "outputs": []
    },
    {
     "cell_type": "heading",
     "level": 2,
     "metadata": {},
     "source": [
      "1D continuous example"
     ]
    },
    {
     "cell_type": "code",
     "collapsed": false,
     "input": [
      "mix = MixtureDistribution()\n",
      "dist1 = dict(prob=[.25, .75], dist=[stats.norm, stats.norm],\n",
      "             kwargs = (dict(loc=-1.2,scale=.5),dict(loc=1.5,scale=.5)))"
     ],
     "language": "python",
     "metadata": {},
     "outputs": []
    },
    {
     "cell_type": "code",
     "collapsed": false,
     "input": [
      "np.random.seed(12345)"
     ],
     "language": "python",
     "metadata": {},
     "outputs": []
    },
    {
     "cell_type": "code",
     "collapsed": false,
     "input": [
      "obs_dist1 = mix.rvs(size=10000, **dist1)"
     ],
     "language": "python",
     "metadata": {},
     "outputs": []
    },
    {
     "cell_type": "code",
     "collapsed": false,
     "input": [
      "kde = sm.kernel_methods.KDE(obs_dist1)\n",
      "mod = kde.fit()\n",
      "xs, ys = mod.grid()\n",
      "mod.bandwidth"
     ],
     "language": "python",
     "metadata": {},
     "outputs": []
    },
    {
     "cell_type": "code",
     "collapsed": false,
     "input": [
      "fig = plt.figure(figsize=(12, 8))\n",
      "ax = fig.add_subplot(111)\n",
      "ax.hist(obs_dist1, bins=50, normed=True, color='red', alpha=.5)\n",
      "ax.plot(xs, ys, lw=2, color='black', label='Estimated KDE')\n",
      "ax.plot(xs, mix.pdf(xs, **dist1), color='blue', linestyle='--', label='Real KDE')\n",
      "plt.legend(loc='best')\n",
      "ax.set_title('Scotts estimation of the bandwidth')"
     ],
     "language": "python",
     "metadata": {},
     "outputs": []
    },
    {
     "cell_type": "markdown",
     "metadata": {},
     "source": [
      "It is clear here that the bandwidth is too large, which is to be expected given the Scotts method assumes the data follows a normal distribution. For a better estimate, we will use cross-validation. The basics cross-validation technique involve the so-called 'leave one out' method, where each data point is, in turn, removed from the dataset to estimate the quantity to minimise. This is really slow! So we will use another, approximated but much faster, folding method:"
     ]
    },
    {
     "cell_type": "code",
     "collapsed": false,
     "input": [
      "kde.bandwidth = bandwidths.crossvalidation(use_grid=True, folding=10)\n",
      "mod2 = kde.fit()\n",
      "mod2.bandwidth"
     ],
     "language": "python",
     "metadata": {},
     "outputs": []
    },
    {
     "cell_type": "code",
     "collapsed": false,
     "input": [
      "xs2, ys2 = mod2.grid()"
     ],
     "language": "python",
     "metadata": {},
     "outputs": []
    },
    {
     "cell_type": "code",
     "collapsed": false,
     "input": [
      "fig = plt.figure(figsize=(12, 8))\n",
      "ax = fig.add_subplot(111)\n",
      "ax.hist(obs_dist1, bins=50, normed=True, color='red', alpha=.5)\n",
      "ax.plot(xs2, ys2, lw=2, color='black', label='Estimated KDE')\n",
      "ax.plot(xs, mix.pdf(xs, **dist1), color='blue', linestyle='--', label='Real KDE')\n",
      "plt.legend(loc='best')\n",
      "ax.set_title('Cross-validation estimation of the bandwidth')"
     ],
     "language": "python",
     "metadata": {},
     "outputs": []
    },
    {
     "cell_type": "heading",
     "level": 2,
     "metadata": {},
     "source": [
      "Multivariate example"
     ]
    },
    {
     "cell_type": "code",
     "collapsed": false,
     "input": [
      "import statsmodels.sandbox.distributions.mv_normal as mvd\n",
      "cov1 = np.diag([1,.2])\n",
      "cov2 = np.diag([.5,1.1])\n",
      "mu1 = np.array([1, -2.5])\n",
      "mu2 = np.array([-2, 1])\n",
      "mvn1 = mvd.MVNormal(mu1, cov1)\n",
      "mvn2 = mvd.MVNormal(mu2, cov2)"
     ],
     "language": "python",
     "metadata": {},
     "outputs": []
    },
    {
     "cell_type": "code",
     "collapsed": false,
     "input": [
      "rvs = mv_mixture_rvs([.6, .4], 10000, [mvn1, mvn2], 2)\n",
      "\n",
      "def dist_pdf(x):\n",
      "    return 0.6*mvn1.pdf(x) + 0.4*mvn2.pdf(x)\n",
      "\n",
      "rvs.shape"
     ],
     "language": "python",
     "metadata": {},
     "outputs": []
    },
    {
     "cell_type": "code",
     "collapsed": false,
     "input": [
      "bounds = [[-5,6],[-5,6]]"
     ],
     "language": "python",
     "metadata": {},
     "outputs": []
    },
    {
     "cell_type": "code",
     "collapsed": false,
     "input": [
      "grid, values = fast_linbin.fast_bin_nd(rvs, bounds, 128)\n",
      "values /= grid.start_volume * rvs.shape[0]\n",
      "grid"
     ],
     "language": "python",
     "metadata": {},
     "outputs": []
    },
    {
     "cell_type": "code",
     "collapsed": false,
     "input": [
      "fig = plt.figure(figsize=(24, 8))\n",
      "m2 = grid.full('C')\n",
      "ax = fig.add_subplot(1,2,1)\n",
      "m = ax.pcolormesh(m2[0], m2[1], values, cmap=plt.cm.YlGnBu_r, shading='gouraud')\n",
      "ax.set_xlim(*bounds[0])\n",
      "ax.set_ylim(*bounds[1])\n",
      "ax.set_title('Binning of the data')\n",
      "plt.colorbar(ax=ax, mappable=m)\n",
      "\n",
      "ax = fig.add_subplot(1,2,2)\n",
      "real_pdf = dist_pdf(grid.linear()).reshape(grid.shape)\n",
      "m = ax.pcolormesh(m2[0], m2[1], real_pdf, cmap=plt.cm.YlGnBu_r, shading='gouraud')\n",
      "ax.set_xlim(*bounds[0])\n",
      "ax.set_ylim(*bounds[1])\n",
      "ax.set_title('Real distribution')\n",
      "plt.colorbar(ax=ax, mappable=m)"
     ],
     "language": "python",
     "metadata": {},
     "outputs": []
    },
    {
     "cell_type": "code",
     "collapsed": false,
     "input": [
      "kde = sm.kernel_methods.KDE(rvs)\n",
      "mod = kde.fit()\n",
      "xs, ys = mod.grid()\n",
      "mod.bandwidth"
     ],
     "language": "python",
     "metadata": {},
     "outputs": []
    },
    {
     "cell_type": "code",
     "collapsed": false,
     "input": [
      "fig = plt.figure(figsize=(24, 8))\n",
      "m2 = xs.full('C')\n",
      "ax = fig.add_subplot(1,2,1)\n",
      "m = ax.pcolormesh(m2[0], m2[1], ys, cmap=plt.cm.YlGnBu_r, shading='gouraud')\n",
      "ax.set_xlim(*bounds[0])\n",
      "ax.set_ylim(*bounds[1])\n",
      "ax.set_title('Estimated KDE')\n",
      "plt.colorbar(ax=ax, mappable=m)\n",
      "\n",
      "ax = fig.add_subplot(1,2,2)\n",
      "real_pdf = dist_pdf(xs.linear()).reshape(xs.shape)\n",
      "m = ax.pcolormesh(m2[0], m2[1], (ys-real_pdf), cmap=plt.cm.coolwarm, shading='gouraud')\n",
      "cmin, cmax = m.get_clim()\n",
      "crange = max(abs(cmin), abs(cmax))\n",
      "m.set_clim(-crange, crange)\n",
      "ax.set_xlim(*bounds[0])\n",
      "ax.set_ylim(*bounds[1])\n",
      "ax.set_title('Error on the KDE')\n",
      "plt.colorbar(ax=ax, mappable=m)"
     ],
     "language": "python",
     "metadata": {},
     "outputs": []
    },
    {
     "cell_type": "code",
     "collapsed": false,
     "input": [
      "kde.bandwidth = bandwidths.crossvalidation(use_grid=True, folding=7)\n",
      "mod2 = kde.fit()\n",
      "xs2, ys2 = mod2.grid()\n",
      "mod2.bandwidth"
     ],
     "language": "python",
     "metadata": {},
     "outputs": []
    },
    {
     "cell_type": "code",
     "collapsed": false,
     "input": [
      "fig = plt.figure(figsize=(24, 8))\n",
      "m2 = xs2.full('C')\n",
      "ax = fig.add_subplot(1,2,1)\n",
      "m = ax.pcolormesh(m2[0], m2[1], ys2, cmap=plt.cm.YlGnBu_r, shading='gouraud')\n",
      "ax.set_xlim(*bounds[0])\n",
      "ax.set_ylim(*bounds[1])\n",
      "ax.set_title('Estimated KDE')\n",
      "plt.colorbar(ax=ax, mappable=m)\n",
      "\n",
      "ax = fig.add_subplot(1,2,2)\n",
      "real_pdf = dist_pdf(xs2.linear()).reshape(xs.shape)\n",
      "m = ax.pcolormesh(m2[0], m2[1], (ys2-real_pdf), cmap=plt.cm.coolwarm, shading='gouraud')\n",
      "cmin, cmax = m.get_clim()\n",
      "crange = max(abs(cmin), abs(cmax))\n",
      "m.set_clim(-crange, crange)\n",
      "ax.set_xlim(*bounds[0])\n",
      "ax.set_ylim(*bounds[1])\n",
      "ax.set_title('Error on the KDE')\n",
      "plt.colorbar(ax=ax, mappable=m)"
     ],
     "language": "python",
     "metadata": {},
     "outputs": []
    },
    {
     "cell_type": "markdown",
     "metadata": {},
     "source": [
      "In the end, you can observe we get a much better approximation of the bottom peak (the max error is about half)."
     ]
    }
   ],
   "metadata": {}
  }
 ]
}