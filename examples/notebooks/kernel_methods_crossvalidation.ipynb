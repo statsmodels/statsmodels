{
 "cells": [
  {
   "cell_type": "markdown",
   "metadata": {},
   "source": [
    "# Estimation of bandwidth by cross-validation"
   ]
  },
  {
   "cell_type": "code",
   "execution_count": null,
   "metadata": {},
   "outputs": [],
   "source": [
    "%matplotlib inline\n",
    "import numpy as np\n",
    "from scipy import stats\n",
    "import statsmodels.api as sm\n",
    "import matplotlib.pyplot as plt\n",
    "from statsmodels.distributions.mixture_rvs import MixtureDistribution, mv_mixture_rvs\n",
    "from statsmodels.kernel_methods import bandwidths, fast_linbin, kde_1d, kde_utils"
   ]
  },
  {
   "cell_type": "markdown",
   "metadata": {},
   "source": [
    "## 1D continuous example"
   ]
  },
  {
   "cell_type": "code",
   "execution_count": null,
   "metadata": {},
   "outputs": [],
   "source": [
    "mix = MixtureDistribution()\n",
    "dist1 = dict(prob=[.25, .75], dist=[stats.norm, stats.norm],\n",
    "             kwargs = (dict(loc=-1.2,scale=.5),dict(loc=1.5,scale=.5)))"
   ]
  },
  {
   "cell_type": "code",
   "execution_count": null,
   "metadata": {},
   "outputs": [],
   "source": [
    "np.random.seed(12345)"
   ]
  },
  {
   "cell_type": "code",
   "execution_count": null,
   "metadata": {},
   "outputs": [],
   "source": [
    "obs_dist1 = mix.rvs(size=10000, **dist1)"
   ]
  },
  {
   "cell_type": "code",
   "execution_count": null,
   "metadata": {},
   "outputs": [],
   "source": [
    "kde = sm.kernel_methods.KDE(obs_dist1)\n",
    "mod = kde.fit()\n",
    "xs, ys = mod.grid()\n",
    "mod.bandwidth"
   ]
  },
  {
   "cell_type": "code",
   "execution_count": null,
   "metadata": {},
   "outputs": [],
   "source": [
    "fig = plt.figure(figsize=(12, 8))\n",
    "ax = fig.add_subplot(111)\n",
    "ax.hist(obs_dist1, bins=50, density=True, color='red', alpha=.5)\n",
    "ax.plot(xs, ys, lw=2, color='black', label='Estimated KDE')\n",
    "ax.plot(xs, mix.pdf(xs, **dist1), color='blue', linestyle='--', label='Real KDE')\n",
    "plt.legend(loc='best')\n",
    "ax.set_title('Scotts estimation of the bandwidth')"
   ]
  },
  {
   "cell_type": "markdown",
   "metadata": {},
   "source": [
    "It is clear here that the bandwidth is too large, which is to be expected given the Scotts method assumes the data follows a normal distribution. For a better estimate, we will use cross-validation. The basics cross-validation technique involve the so-called 'leave one out' method, where each data point is, in turn, removed from the dataset to estimate the quantity to minimise. This is really slow! So we will use another, approximated but much faster, folding method:"
   ]
  },
  {
   "cell_type": "code",
   "execution_count": null,
   "metadata": {},
   "outputs": [],
   "source": [
    "kde.bandwidth = bandwidths.CrossValidation(use_grid=True, folding=10)\n",
    "mod2 = kde.fit()\n",
    "mod2.bandwidth"
   ]
  },
  {
   "cell_type": "code",
   "execution_count": null,
   "metadata": {},
   "outputs": [],
   "source": [
    "xs2, ys2 = mod2.grid()"
   ]
  },
  {
   "cell_type": "code",
   "execution_count": null,
   "metadata": {},
   "outputs": [],
   "source": [
    "fig = plt.figure(figsize=(12, 8))\n",
    "ax = fig.add_subplot(111)\n",
    "ax.hist(obs_dist1, bins=50, density=True, color='red', alpha=.5)\n",
    "ax.plot(xs2, ys2, lw=2, color='black', label='Estimated KDE')\n",
    "ax.plot(xs, mix.pdf(xs, **dist1), color='blue', linestyle='--', label='Real KDE')\n",
    "plt.legend(loc='best')\n",
    "ax.set_title('Cross-validation estimation of the bandwidth')"
   ]
  },
  {
   "cell_type": "markdown",
   "metadata": {},
   "source": [
    "## Multivariate example"
   ]
  },
  {
   "cell_type": "code",
   "execution_count": null,
   "metadata": {},
   "outputs": [],
   "source": [
    "import statsmodels.sandbox.distributions.mv_normal as mvd\n",
    "cov1 = np.diag([1,.2])\n",
    "cov2 = np.diag([.5,1.1])\n",
    "mu1 = np.array([1, -2.5])\n",
    "mu2 = np.array([-2, 1])\n",
    "mvn1 = mvd.MVNormal(mu1, cov1)\n",
    "mvn2 = mvd.MVNormal(mu2, cov2)"
   ]
  },
  {
   "cell_type": "code",
   "execution_count": null,
   "metadata": {},
   "outputs": [],
   "source": [
    "rvs = mv_mixture_rvs([.6, .4], 10000, [mvn1, mvn2], 2)\n",
    "\n",
    "def dist_pdf(x):\n",
    "    return 0.6*mvn1.pdf(x) + 0.4*mvn2.pdf(x)\n",
    "\n",
    "rvs.shape"
   ]
  },
  {
   "cell_type": "code",
   "execution_count": null,
   "metadata": {},
   "outputs": [],
   "source": [
    "bounds = [[-5,6],[-5,6]]"
   ]
  },
  {
   "cell_type": "code",
   "execution_count": null,
   "metadata": {},
   "outputs": [],
   "source": [
    "grid, values = fast_linbin.fast_bin_nd(rvs, bounds, 128)\n",
    "values /= grid.start_volume * rvs.shape[0]\n",
    "grid"
   ]
  },
  {
   "cell_type": "code",
   "execution_count": null,
   "metadata": {},
   "outputs": [],
   "source": [
    "fig = plt.figure(figsize=(24, 8))\n",
    "m2 = grid.full('C')\n",
    "ax = fig.add_subplot(1,2,1)\n",
    "m = ax.pcolormesh(m2[0], m2[1], values, cmap=plt.cm.YlGnBu_r, shading='gouraud')\n",
    "ax.set_xlim(*bounds[0])\n",
    "ax.set_ylim(*bounds[1])\n",
    "ax.set_title('Binning of the data')\n",
    "plt.colorbar(ax=ax, mappable=m)\n",
    "\n",
    "ax = fig.add_subplot(1,2,2)\n",
    "real_pdf = dist_pdf(grid.linear()).reshape(grid.shape)\n",
    "m = ax.pcolormesh(m2[0], m2[1], real_pdf, cmap=plt.cm.YlGnBu_r, shading='gouraud')\n",
    "ax.set_xlim(*bounds[0])\n",
    "ax.set_ylim(*bounds[1])\n",
    "ax.set_title('Real distribution')\n",
    "plt.colorbar(ax=ax, mappable=m)"
   ]
  },
  {
   "cell_type": "code",
   "execution_count": null,
   "metadata": {},
   "outputs": [],
   "source": [
    "kde = sm.kernel_methods.KDE(rvs)\n",
    "mod = kde.fit()\n",
    "xs, ys = mod.grid()\n",
    "mod.bandwidth"
   ]
  },
  {
   "cell_type": "code",
   "execution_count": null,
   "metadata": {},
   "outputs": [],
   "source": [
    "fig = plt.figure(figsize=(24, 8))\n",
    "m2 = xs.full('C')\n",
    "ax = fig.add_subplot(1,2,1)\n",
    "m = ax.pcolormesh(m2[0], m2[1], ys, cmap=plt.cm.YlGnBu_r, shading='gouraud')\n",
    "ax.set_xlim(*bounds[0])\n",
    "ax.set_ylim(*bounds[1])\n",
    "ax.set_title('Estimated KDE')\n",
    "plt.colorbar(ax=ax, mappable=m)\n",
    "\n",
    "ax = fig.add_subplot(1,2,2)\n",
    "real_pdf = dist_pdf(xs.linear()).reshape(xs.shape)\n",
    "m = ax.pcolormesh(m2[0], m2[1], (ys-real_pdf), cmap=plt.cm.coolwarm, shading='gouraud')\n",
    "cmin, cmax = m.get_clim()\n",
    "crange = max(abs(cmin), abs(cmax))\n",
    "m.set_clim(-crange, crange)\n",
    "ax.set_xlim(*bounds[0])\n",
    "ax.set_ylim(*bounds[1])\n",
    "ax.set_title('Error on the KDE')\n",
    "plt.colorbar(ax=ax, mappable=m)"
   ]
  },
  {
   "cell_type": "code",
   "execution_count": null,
   "metadata": {},
   "outputs": [],
   "source": [
    "kde.bandwidth = bandwidths.CrossValidation(use_grid=True, folding=7)\n",
    "mod2 = kde.fit()\n",
    "xs2, ys2 = mod2.grid()\n",
    "mod2.bandwidth"
   ]
  },
  {
   "cell_type": "code",
   "execution_count": null,
   "metadata": {},
   "outputs": [],
   "source": [
    "fig = plt.figure(figsize=(24, 8))\n",
    "m2 = xs2.full('C')\n",
    "ax = fig.add_subplot(1,2,1)\n",
    "m = ax.pcolormesh(m2[0], m2[1], ys2, cmap=plt.cm.YlGnBu_r, shading='gouraud')\n",
    "ax.set_xlim(*bounds[0])\n",
    "ax.set_ylim(*bounds[1])\n",
    "ax.set_title('Estimated KDE')\n",
    "plt.colorbar(ax=ax, mappable=m)\n",
    "\n",
    "ax = fig.add_subplot(1,2,2)\n",
    "real_pdf = dist_pdf(xs2.linear()).reshape(xs.shape)\n",
    "m = ax.pcolormesh(m2[0], m2[1], (ys2-real_pdf), cmap=plt.cm.coolwarm, shading='gouraud')\n",
    "cmin, cmax = m.get_clim()\n",
    "crange = max(abs(cmin), abs(cmax))\n",
    "m.set_clim(-crange, crange)\n",
    "ax.set_xlim(*bounds[0])\n",
    "ax.set_ylim(*bounds[1])\n",
    "ax.set_title('Error on the KDE')\n",
    "plt.colorbar(ax=ax, mappable=m)"
   ]
  },
  {
   "cell_type": "markdown",
   "metadata": {},
   "source": [
    "In the end, you can observe we get a much better approximation of the bottom peak (the max error is about half)."
   ]
  }
 ],
 "metadata": {
  "kernelspec": {
   "display_name": "Python 3",
   "language": "python",
   "name": "python3"
  },
  "language_info": {
   "codemirror_mode": {
    "name": "ipython",
    "version": 3
   },
   "file_extension": ".py",
   "mimetype": "text/x-python",
   "name": "python",
   "nbconvert_exporter": "python",
   "pygments_lexer": "ipython3",
   "version": "3.6.9"
  }
 },
 "nbformat": 4,
 "nbformat_minor": 1
}
