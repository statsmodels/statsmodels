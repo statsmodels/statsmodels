{
 "cells": [
  {
   "cell_type": "markdown",
   "metadata": {},
   "source": [
    "# Multi-dimensional KDE"
   ]
  },
  {
   "cell_type": "code",
   "execution_count": null,
   "metadata": {},
   "outputs": [],
   "source": [
    "%pylab inline\n",
    "import statsmodels.api as sm\n",
    "from statsmodels.kernel_methods import fast_linbin, kde_nd, bandwidths\n",
    "import statsmodels.sandbox.distributions.mv_normal as mvd"
   ]
  },
  {
   "cell_type": "markdown",
   "metadata": {},
   "source": [
    "## 2D Gaussian mixture model"
   ]
  },
  {
   "cell_type": "code",
   "execution_count": null,
   "metadata": {},
   "outputs": [],
   "source": [
    "def rotation(theta):\n",
    "    return matrix([[cos(theta), -sin(theta)],[sin(theta), cos(theta)]])\n",
    "r1 = rotation(-1.5)\n",
    "r2 = rotation(1)\n",
    "C1 = r1.T * diag([.1,3]) * r1\n",
    "C2 = r2.T * diag([.1,3]) * r2\n",
    "d1 = mvd.MVNormal([1, 1.5], C1)\n",
    "d2 = mvd.MVNormal([0, -1.5], C2)\n",
    "def dist(x):\n",
    "    return (d1.pdf(x) + d2.pdf(x))/2\n",
    "obs = vstack([d1.rvs(3000), d2.rvs(3000)])\n",
    "bounds = [[-6, 9], [-6, 3]]\n",
    "mesh, bins = fast_linbin.fast_linbin_nd(obs, bounds, [512, 256])"
   ]
  },
  {
   "cell_type": "code",
   "execution_count": null,
   "metadata": {},
   "outputs": [],
   "source": [
    "fig = figure(figsize=(12,8))\n",
    "X, Y = mesh.full('C')\n",
    "pcolormesh(X, Y, dist(mesh.linear()).reshape(mesh.shape))\n",
    "gca().set_facecolor('black')\n",
    "axis('equal')\n",
    "title('Real PDF')"
   ]
  },
  {
   "cell_type": "markdown",
   "metadata": {},
   "source": [
    "## Scotts bandwidth estimation"
   ]
  },
  {
   "cell_type": "code",
   "execution_count": null,
   "metadata": {},
   "outputs": [],
   "source": [
    "k = sm.kernel_methods.KDE(obs, method=kde_nd.Cyclic)\n",
    "k.bandwidth = bandwidths.scotts_full\n",
    "est = k.fit()\n",
    "xs, ys = est.grid(512)\n",
    "est.bandwidth"
   ]
  },
  {
   "cell_type": "code",
   "execution_count": null,
   "metadata": {},
   "outputs": [],
   "source": [
    "fig = figure(figsize=(12,8))\n",
    "X, Y = xs.full('C')\n",
    "pcolormesh(X, Y, ys)\n",
    "gca().set_facecolor('black')\n",
    "axis('equal')\n",
    "title('Estimated PDF')\n",
    "colorbar()"
   ]
  },
  {
   "cell_type": "markdown",
   "metadata": {},
   "source": [
    "We can see the bandwidth is clearly over-estimated. Next, we will be using cross-validation."
   ]
  },
  {
   "cell_type": "markdown",
   "metadata": {},
   "source": [
    "## Log-likelihood cross-validation"
   ]
  },
  {
   "cell_type": "code",
   "execution_count": null,
   "metadata": {},
   "outputs": [],
   "source": [
    "k1 = k.copy()\n",
    "k1.bandwidth = bandwidths.CrossValidation(use_grid=True, grid_size=256, folding=5, initial_method=est.bandwidth)\n",
    "est1 = k1.fit()"
   ]
  },
  {
   "cell_type": "code",
   "execution_count": null,
   "metadata": {},
   "outputs": [],
   "source": [
    "xs, ys = est1.grid(256)\n",
    "est1.bandwidth"
   ]
  },
  {
   "cell_type": "code",
   "execution_count": null,
   "metadata": {},
   "outputs": [],
   "source": [
    "fig = figure(figsize=(24, 8))\n",
    "ax = fig.add_subplot(1,2,1)\n",
    "X, Y = xs.full('C')\n",
    "ax.pcolormesh(X, Y, ys)\n",
    "ax.set_facecolor('black')\n",
    "axis('equal')\n",
    "ax.set_title('Estimated PDF')\n",
    "\n",
    "ax = fig.add_subplot(1,2,2)\n",
    "X, Y = xs.full('C')\n",
    "ax.pcolormesh(X, Y, dist(xs.linear()).reshape(xs.shape))\n",
    "ax.set_facecolor('black')\n",
    "axis('equal')\n",
    "ax.set_title('Real PDF')"
   ]
  },
  {
   "cell_type": "code",
   "execution_count": null,
   "metadata": {},
   "outputs": [],
   "source": []
  }
 ],
 "metadata": {
  "kernelspec": {
   "display_name": "Python 3",
   "language": "python",
   "name": "python3"
  },
  "language_info": {
   "codemirror_mode": {
    "name": "ipython",
    "version": 3
   },
   "file_extension": ".py",
   "mimetype": "text/x-python",
   "name": "python",
   "nbconvert_exporter": "python",
   "pygments_lexer": "ipython3",
   "version": "3.6.9"
  }
 },
 "nbformat": 4,
 "nbformat_minor": 1
}
