{
 "cells": [
  {
   "cell_type": "markdown",
   "metadata": {},
   "source": [
    "# Power\n",
    "The `power` module currently implements power and sample size calculations for t-tests, normality tests, F-tests and Chisquare goodness of fit tests.\n",
    "\n",
    "Power analysis is commonly used for prospective experimental design under the null hypothesis significance testing framework. As researchers, we need to know whether or not we'll be able to detect an effect size given the likely effect sizes and our required confidence levels.\n",
    "\n",
    "The key parameters for designing our experiment are:\n",
    "\n",
    "* `effect_size`: The magnitude of the difference between groups in our experiment that we want to be able to statistically detect.\n",
    "* `nobs`: The sample size for our experiment or study.\n",
    "* `alpha`: The \"significance level\" (commonly set to 0.05) = P(type I error) = the likelihood of detecting an effect that is not \"really\" there.\n",
    "* `power`: Commonly set to 0.80, the \"power\" is the likelihood of detecting an effect that really is there = 1 - P(Type II error).\n",
    "\n",
    "If we know three of these parameters, we can calculate the fourth. \n",
    "\n",
    "See also: \n",
    "\n",
    "* [Power Analysis in R](https://www.statmethods.net/stats/power.html)\n",
    "* [How not to run an A/B Test](https://www.evanmiller.org/how-not-to-run-an-ab-test.html)\n"
   ]
  },
  {
   "cell_type": "markdown",
   "metadata": {},
   "source": [
    "# Examples"
   ]
  },
  {
   "cell_type": "markdown",
   "metadata": {},
   "source": [
    "## Normal Test for Difference in Proportions "
   ]
  },
  {
   "cell_type": "markdown",
   "metadata": {},
   "source": [
    "Commonly, especially when designing \"A/B\" experiments, we know the effect-size we want to detect as well as the required signficance level and power for our experiment, and we want to know what our required sample size is. \n",
    "\n",
    "Let's imagine we are running an online A/B test comparing the conversion rate of a button when it is colored green vs. when the button is colored blue. We will use our industry standard settings for confidence level and power."
   ]
  },
  {
   "cell_type": "code",
   "execution_count": 2,
   "metadata": {},
   "outputs": [],
   "source": [
    "required_alpha = .05\n",
    "required_power = .80"
   ]
  },
  {
   "cell_type": "markdown",
   "metadata": {},
   "source": [
    "And we know, from previous tests, that we want to be able to detect a relative 5% difference in conversion rates off of a baseline of 10%. \n"
   ]
  },
  {
   "cell_type": "code",
   "execution_count": 3,
   "metadata": {},
   "outputs": [],
   "source": [
    "import statsmodels.api as sm\n",
    "baseline = 0.10\n",
    "relative_change = 0.05\n",
    "es = sm.stats.proportion_effectsize(baseline, baseline*(1+relative_change))"
   ]
  },
  {
   "cell_type": "markdown",
   "metadata": {},
   "source": [
    "We can calculate our required sample size using the `prop_ind_solve_power` function"
   ]
  },
  {
   "cell_type": "code",
   "execution_count": 4,
   "metadata": {},
   "outputs": [
    {
     "data": {
      "text/plain": [
       "57755.639005433426"
      ]
     },
     "execution_count": 4,
     "metadata": {},
     "output_type": "execute_result"
    }
   ],
   "source": [
    "import statsmodels.stats.power as smp\n",
    "smp.prop_ind_solve_power(effect_size=es, power=required_power, alpha=required_alpha, ratio=1)"
   ]
  },
  {
   "cell_type": "markdown",
   "metadata": {},
   "source": [
    "Note that this family of \"solver\" functions identifies which three of the four power parameters you provided, and finds the fourth. Since we didn't provide an `nobs1` argument, that's what gets returned to us."
   ]
  },
  {
   "cell_type": "markdown",
   "metadata": {},
   "source": [
    "## Two Independent Sample T-Tests\n"
   ]
  }
 ],
 "metadata": {
  "kernelspec": {
   "display_name": "Python 3",
   "language": "python",
   "name": "python3"
  },
  "language_info": {
   "codemirror_mode": {
    "name": "ipython",
    "version": 3
   },
   "file_extension": ".py",
   "mimetype": "text/x-python",
   "name": "python",
   "nbconvert_exporter": "python",
   "pygments_lexer": "ipython3",
   "version": "3.6.4"
  }
 },
 "nbformat": 4,
 "nbformat_minor": 2
}
