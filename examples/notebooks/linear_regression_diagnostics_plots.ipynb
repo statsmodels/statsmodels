{
 "cells": [
  {
   "cell_type": "markdown",
   "metadata": {},
   "source": [
    "# Linear regression diagnostics"
   ]
  },
  {
   "cell_type": "markdown",
   "metadata": {},
   "source": [
    "In real-life, relation between response and target variables are seldom linear. Here, we make use of outputs of ``statsmodels`` to visualise and identify potential problems that can occur from fitting ``linear regression`` model to non-linear relation. Primarily, the aim is to reproduce visualisations discussed in Potential Problems section (Chapter 3.3.3) of *An Introduction to Statistical Learning* (ISLR) book by James et al., Springer."
   ]
  },
  {
   "cell_type": "code",
   "execution_count": null,
   "metadata": {},
   "outputs": [],
   "source": [
    "import statsmodels\n",
    "import statsmodels.formula.api as smf\n",
    "import pandas as pd"
   ]
  },
  {
   "cell_type": "markdown",
   "metadata": {},
   "source": [
    "#### Simple multiple linear regression\n",
    "\n",
    "Firstly, let us load the Advertising data from Chapter 2 of ISLR book and fit a linear model to it."
   ]
  },
  {
   "cell_type": "code",
   "execution_count": null,
   "metadata": {},
   "outputs": [],
   "source": [
    "# Load data\n",
    "data_url = \"https://raw.githubusercontent.com/nguyen-toan/ISLR/07fd968ea484b5f6febc7b392a28eb64329a4945/dataset/Advertising.csv\"\n",
    "df = pd.read_csv(data_url).drop('Unnamed: 0', axis=1)\n",
    "df.head()"
   ]
  },
  {
   "cell_type": "code",
   "execution_count": null,
   "metadata": {},
   "outputs": [],
   "source": [
    "# Fitting linear model\n",
    "res = smf.ols(formula= \"Sales ~ TV + Radio + Newspaper\", data=df).fit()\n",
    "res.summary()"
   ]
  },
  {
   "cell_type": "markdown",
   "metadata": {},
   "source": [
    "#### Diagnostic Figures/Table\n",
    "\n",
    "In the following first we present a base code that we will later use to generate following diagnostic plots:\n",
    "\n",
    "    a. residual\n",
    "    b. qq\n",
    "    c. scale location\n",
    "    d. leverage\n",
    "\n",
    "and a table\n",
    "\n",
    "    a. vif"
   ]
  },
  {
   "cell_type": "code",
   "execution_count": null,
   "metadata": {},
   "outputs": [],
   "source": [
    "# base code\n",
    "import numpy as np\n",
    "import seaborn as sns\n",
    "from statsmodels.tools.tools import maybe_unwrap_results\n",
    "from statsmodels.graphics.gofplots import ProbPlot\n",
    "from statsmodels.stats.outliers_influence import variance_inflation_factor\n",
    "import matplotlib.pyplot as plt\n",
    "from typing import Type\n",
    "\n",
    "style_talk = 'seaborn-talk'    #refer to plt.style.available\n",
    "\n",
    "class Linear_Reg_Diagnostic():\n",
    "    \"\"\"\n",
    "    Diagnostic plots to identify potential problems in a linear regression fit.\n",
    "    Mainly,\n",
    "        a. non-linearity of data\n",
    "        b. Correlation of error terms\n",
    "        c. non-constant variance \n",
    "        d. outliers\n",
    "        e. high-leverage points\n",
    "        f. collinearity\n",
    "\n",
    "    Author:\n",
    "        Prajwal Kafle (p33ajkafle@gmail.com, where 3 = r)\n",
    "        Does not come with any sort of warranty. \n",
    "        Please test the code one your end before using.\n",
    "    \"\"\"\n",
    "\n",
    "    def __init__(self, \n",
    "                 results: Type[statsmodels.regression.linear_model.RegressionResultsWrapper]) -> None:\n",
    "        \"\"\"\n",
    "        For a linear regression model, generates following diagnostic plots:\n",
    "\n",
    "        a. residual\n",
    "        b. qq\n",
    "        c. scale location and\n",
    "        d. leverage\n",
    "\n",
    "        and a table\n",
    "\n",
    "        e. vif\n",
    "\n",
    "        Args:\n",
    "            results (Type[statsmodels.regression.linear_model.RegressionResultsWrapper]): \n",
    "                must be instance of statsmodels.regression.linear_model object\n",
    "\n",
    "        Raises:\n",
    "            TypeError: if instance does not belong to above object\n",
    "\n",
    "        Example:\n",
    "        >>> import numpy as np\n",
    "        >>> import pandas as pd\n",
    "        >>> import statsmodels.formula.api as smf\n",
    "        >>> x = np.linspace(-np.pi, np.pi, 100)\n",
    "        >>> y = 3*x + 8 + np.random.normal(0,1, 100)\n",
    "        >>> df = pd.DataFrame({'x':x, 'y':y})\n",
    "        >>> res = smf.ols(formula= \"y ~ x\", data=df).fit()\n",
    "        >>> cls = Linear_Reg_Diagnostic(res)\n",
    "        >>> cls(plot_context=\"seaborn-paper\")     \n",
    "\n",
    "        In case you do not need all plots you can also independently make an individual plot/table\n",
    "        in following ways\n",
    "\n",
    "        >>> cls = Linear_Reg_Diagnostic(res)\n",
    "        >>> cls.residual_plot()\n",
    "        >>> cls.qq_plot()\n",
    "        >>> cls.scale_location_plot()\n",
    "        >>> cls.leverage_plot()\n",
    "        >>> cls.vif_table()\n",
    "        \"\"\"\n",
    "\n",
    "        if isinstance(results, statsmodels.regression.linear_model.RegressionResultsWrapper) is False:\n",
    "            raise TypeError(\"result must be instance of statsmodels.regression.linear_model.RegressionResultsWrapper object\")\n",
    "\n",
    "        self.results = maybe_unwrap_results(results)\n",
    "\n",
    "        self.y_true = self.results.model.endog\n",
    "        self.y_predict = self.results.fittedvalues\n",
    "        self.xvar = self.results.model.exog\n",
    "        self.xvar_names = self.results.model.exog_names\n",
    "\n",
    "        self.residual = np.array(self.results.resid)\n",
    "        influence = self.results.get_influence()\n",
    "        self.residual_norm = influence.resid_studentized_internal\n",
    "        self.leverage = influence.hat_matrix_diag\n",
    "        self.cooks_distance = influence.cooks_distance[0]\n",
    "        self.nparams = len(self.results.params)\n",
    "\n",
    "    def __call__(self, plot_context='seaborn-paper'):\n",
    "        # print(plt.style.available)\n",
    "        with plt.style.context(plot_context):\n",
    "            fig, ax = plt.subplots(nrows=2, ncols=2, figsize=(10,10))\n",
    "            self.residual_plot(ax=ax[0,0])\n",
    "            self.qq_plot(ax=ax[0,1])\n",
    "            self.scale_location_plot(ax=ax[1,0])\n",
    "            self.leverage_plot(ax=ax[1,1])\n",
    "            plt.show()\n",
    "        \n",
    "        self.vif_table()\n",
    "        return fig, ax\n",
    "\n",
    "\n",
    "    def residual_plot(self, ax=None):\n",
    "        \"\"\"\n",
    "        Residual vs Fitted Plot\n",
    "\n",
    "        Graphical tool to identify non-linearity.\n",
    "        (Roughly) Horizontal red line is an indicator that the residual has a linear pattern\n",
    "        \"\"\"\n",
    "        if ax is None:\n",
    "            fig, ax = plt.subplots()\n",
    "\n",
    "        sns.residplot(\n",
    "            x=self.y_predict, \n",
    "            y=self.residual, \n",
    "            lowess=True,\n",
    "            scatter_kws={'alpha': 0.5},\n",
    "            line_kws={'color': 'red', 'lw': 1, 'alpha': 0.8}, \n",
    "            ax=ax)\n",
    "\n",
    "        # annotations\n",
    "        residual_abs = np.abs(self.residual)\n",
    "        abs_resid = np.flip(np.sort(residual_abs))\n",
    "        abs_resid_top_3 = abs_resid[:3]\n",
    "        for i, _ in enumerate(abs_resid_top_3):\n",
    "            ax.annotate(\n",
    "                i, \n",
    "                xy=(self.y_predict[i], self.residual[i]), \n",
    "                color='C3')\n",
    "\n",
    "        ax.set_title('Residuals vs Fitted', fontweight=\"bold\")\n",
    "        ax.set_xlabel('Fitted values')\n",
    "        ax.set_ylabel('Residuals')\n",
    "        return ax\n",
    "\n",
    "    def qq_plot(self, ax=None):\n",
    "        \"\"\"\n",
    "        Standarized Residual vs Theoretical Quantile plot\n",
    "\n",
    "        Used to visually check if residuals are normally distributed.\n",
    "        Points spread along the diagonal line will suggest so.\n",
    "        \"\"\"\n",
    "        if ax is None:\n",
    "            fig, ax = plt.subplots()\n",
    "        \n",
    "        QQ = ProbPlot(self.residual_norm)\n",
    "        QQ.qqplot(line='45', alpha=0.5, lw=1, ax=ax)\n",
    "\n",
    "        # annotations\n",
    "        abs_norm_resid = np.flip(np.argsort(np.abs(self.residual_norm)), 0)\n",
    "        abs_norm_resid_top_3 = abs_norm_resid[:3]\n",
    "        for r, i in enumerate(abs_norm_resid_top_3):\n",
    "            ax.annotate(\n",
    "                i, \n",
    "                xy=(np.flip(QQ.theoretical_quantiles, 0)[r], self.residual_norm[i]), \n",
    "                ha='right', color='C3')\n",
    "\n",
    "        ax.set_title('Normal Q-Q', fontweight=\"bold\")\n",
    "        ax.set_xlabel('Theoretical Quantiles')\n",
    "        ax.set_ylabel('Standardized Residuals')\n",
    "        return ax\n",
    "  \n",
    "    def scale_location_plot(self, ax=None):\n",
    "        \"\"\"\n",
    "        Sqrt(Standarized Residual) vs Fitted values plot\n",
    "\n",
    "        Used to check homoscedasticity of the residuals.\n",
    "        Horizontal line will suggest so.\n",
    "        \"\"\"\n",
    "        if ax is None:\n",
    "            fig, ax = plt.subplots()\n",
    "\n",
    "        residual_norm_abs_sqrt = np.sqrt(np.abs(self.residual_norm))\n",
    "\n",
    "        ax.scatter(self.y_predict, residual_norm_abs_sqrt, alpha=0.5);\n",
    "        sns.regplot(\n",
    "            x=self.y_predict, \n",
    "            y=residual_norm_abs_sqrt,\n",
    "            scatter=False, ci=False,\n",
    "            lowess=True,\n",
    "            line_kws={'color': 'red', 'lw': 1, 'alpha': 0.8}, \n",
    "            ax=ax)\n",
    "\n",
    "        # annotations\n",
    "        abs_sq_norm_resid = np.flip(np.argsort(residual_norm_abs_sqrt), 0)\n",
    "        abs_sq_norm_resid_top_3 = abs_sq_norm_resid[:3]\n",
    "        for i in abs_sq_norm_resid_top_3:\n",
    "            ax.annotate(\n",
    "                i, \n",
    "                xy=(self.y_predict[i], residual_norm_abs_sqrt[i]), \n",
    "                color='C3')\n",
    "        ax.set_title('Scale-Location', fontweight=\"bold\")\n",
    "        ax.set_xlabel('Fitted values')\n",
    "        ax.set_ylabel(r'$\\sqrt{|\\mathrm{Standardized\\ Residuals}|}$');\n",
    "        return ax\n",
    "\n",
    "    def leverage_plot(self, ax=None):\n",
    "        \"\"\"\n",
    "        Residual vs Leverage plot\n",
    "\n",
    "        Points falling outside Cook's distance curves are considered observation that can sway the fit\n",
    "        aka are influential.\n",
    "        Good to have none outside the curves.\n",
    "        \"\"\"\n",
    "        if ax is None:\n",
    "            fig, ax = plt.subplots()\n",
    "\n",
    "        ax.scatter(\n",
    "            self.leverage, \n",
    "            self.residual_norm, \n",
    "            alpha=0.5);\n",
    "        \n",
    "        sns.regplot(\n",
    "            x=self.leverage, \n",
    "            y=self.residual_norm,\n",
    "            scatter=False,\n",
    "            ci=False,\n",
    "            lowess=True,\n",
    "            line_kws={'color': 'red', 'lw': 1, 'alpha': 0.8},\n",
    "            ax=ax)\n",
    "\n",
    "        # annotations\n",
    "        leverage_top_3 = np.flip(np.argsort(self.cooks_distance), 0)[:3]\n",
    "        for i in leverage_top_3:\n",
    "            ax.annotate(\n",
    "                i, \n",
    "                xy=(self.leverage[i], self.residual_norm[i]),\n",
    "                color = 'C3')\n",
    "\n",
    "        xtemp, ytemp = self.__cooks_dist_line(0.5) # 0.5 line\n",
    "        ax.plot(xtemp, ytemp, label=\"Cook's distance\", lw=1, ls='--', color='red')\n",
    "        xtemp, ytemp = self.__cooks_dist_line(1) # 1 line\n",
    "        ax.plot(xtemp, ytemp, lw=1, ls='--', color='red')\n",
    "        \n",
    "        ax.set_xlim(0, max(self.leverage)+0.01)\n",
    "        ax.set_title('Residuals vs Leverage', fontweight=\"bold\")\n",
    "        ax.set_xlabel('Leverage')\n",
    "        ax.set_ylabel('Standardized Residuals')\n",
    "        ax.legend(loc='upper right')\n",
    "        return ax\n",
    "\n",
    "    def vif_table(self):\n",
    "        \"\"\"\n",
    "        VIF table\n",
    "\n",
    "        VIF, the variance inflation factor, is a measure of multicollinearity.\n",
    "        VIF > 5 for a variable indicates that it is highly collinear with the \n",
    "        other input variables.\n",
    "        \"\"\"\n",
    "        vif_df = pd.DataFrame()\n",
    "        vif_df[\"Features\"] = self.xvar_names\n",
    "        vif_df[\"VIF Factor\"] = [variance_inflation_factor(self.xvar, i) for i in range(self.xvar.shape[1])]\n",
    "\n",
    "        print(vif_df\n",
    "                .sort_values(\"VIF Factor\")\n",
    "                .round(2))\n",
    "        \n",
    "\n",
    "    def __cooks_dist_line(self, factor):\n",
    "        \"\"\"\n",
    "        Helper function for plotting Cook's distance curves\n",
    "        \"\"\"\n",
    "        p = self.nparams \n",
    "        formula = lambda x: np.sqrt((factor * p * (1 - x)) / x)\n",
    "        x = np.linspace(0.001, max(self.leverage), 50)\n",
    "        y = formula(x)\n",
    "        return x, y"
   ]
  },
  {
   "cell_type": "markdown",
   "metadata": {},
   "source": [
    "Making use of the \n",
    "\n",
    "    * fitted model on the Advertising data above and \n",
    "    * the base code provided\n",
    "now we generate diagnostic plots one by one."
   ]
  },
  {
   "cell_type": "code",
<<<<<<< HEAD
   "execution_count": null,
=======
   "execution_count": 38,
>>>>>>> e225b1f6e43b71e51e701f5b2c1148b6850b4959
   "metadata": {},
   "outputs": [],
   "source": [
    "\n",
    "cls = Linear_Reg_Diagnostic(res)"
   ]
  },
  {
   "cell_type": "markdown",
   "metadata": {},
   "source": [
    "**A. Residual vs Fitted values**\n",
    "\n",
    "Graphical tool to identify non-linearity.\n",
    "\n",
    "In the graph red (roughly) horizontal line is an indicator that the residual has a linear pattern."
   ]
  },
  {
   "cell_type": "code",
<<<<<<< HEAD
   "execution_count": null,
   "metadata": {},
   "outputs": [],
=======
   "execution_count": 39,
   "metadata": {},
   "outputs": [
    {
     "data": {
      "image/png": "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",
      "text/plain": [
       "<Figure size 432x288 with 1 Axes>"
      ]
     },
     "metadata": {
      "needs_background": "light"
     },
     "output_type": "display_data"
    }
   ],
>>>>>>> e225b1f6e43b71e51e701f5b2c1148b6850b4959
   "source": [
    "cls.residual_plot();"
   ]
  },
  {
   "cell_type": "markdown",
   "metadata": {},
   "source": [
    "**B. Standarized Residual vs Theoretical Quantile**\n",
    "\n",
    "This plot is used to visually check if residuals are normally distributed.\n",
    "\n",
    "Points spread along the diagonal line will suggest so."
   ]
  },
  {
   "cell_type": "code",
<<<<<<< HEAD
   "execution_count": null,
   "metadata": {},
   "outputs": [],
=======
   "execution_count": 40,
   "metadata": {},
   "outputs": [
    {
     "data": {
      "image/png": "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",
      "text/plain": [
       "<Figure size 432x288 with 1 Axes>"
      ]
     },
     "metadata": {
      "needs_background": "light"
     },
     "output_type": "display_data"
    }
   ],
>>>>>>> e225b1f6e43b71e51e701f5b2c1148b6850b4959
   "source": [
    "cls.qq_plot();"
   ]
  },
  {
   "cell_type": "markdown",
   "metadata": {},
   "source": [
    "**C. Sqrt(Standarized Residual) vs Fitted values**\n",
    "\n",
    "This plot is used to check homoscedasticity of the residuals.\n",
    "\n",
    "A near horizontal red line in the graph would suggest so."
   ]
  },
  {
   "cell_type": "code",
<<<<<<< HEAD
   "execution_count": null,
   "metadata": {},
   "outputs": [],
=======
   "execution_count": 41,
   "metadata": {},
   "outputs": [
    {
     "data": {
      "image/png": "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",
      "text/plain": [
       "<Figure size 432x288 with 1 Axes>"
      ]
     },
     "metadata": {
      "needs_background": "light"
     },
     "output_type": "display_data"
    }
   ],
>>>>>>> e225b1f6e43b71e51e701f5b2c1148b6850b4959
   "source": [
    "cls.scale_location_plot();"
   ]
  },
  {
   "cell_type": "markdown",
   "metadata": {},
   "source": [
    "**D. Residual vs Leverage**\n",
    "\n",
    "Points falling outside the Cook's distance curves are considered observation that can sway the fit aka are influential.\n",
    "\n",
    "Good to have no points outside these curves."
   ]
  },
  {
   "cell_type": "code",
<<<<<<< HEAD
   "execution_count": null,
   "metadata": {},
   "outputs": [],
=======
   "execution_count": 42,
   "metadata": {},
   "outputs": [
    {
     "data": {
      "image/png": "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",
      "text/plain": [
       "<Figure size 432x288 with 1 Axes>"
      ]
     },
     "metadata": {
      "needs_background": "light"
     },
     "output_type": "display_data"
    }
   ],
>>>>>>> e225b1f6e43b71e51e701f5b2c1148b6850b4959
   "source": [
    "cls.leverage_plot();"
   ]
  },
  {
   "cell_type": "markdown",
   "metadata": {},
   "source": [
    "**E. VIF**\n",
    "\n",
    "The variance inflation factor (VIF), is a measure of multicollinearity.\n",
    "\n",
    "VIF > 5 for a variable indicates that it is highly collinear with the \n",
    "other input variables."
   ]
  },
  {
   "cell_type": "code",
<<<<<<< HEAD
   "execution_count": null,
   "metadata": {},
   "outputs": [],
=======
   "execution_count": 43,
   "metadata": {},
   "outputs": [
    {
     "name": "stdout",
     "output_type": "stream",
     "text": [
      "    Features  VIF Factor\n",
      "1         TV        1.00\n",
      "2      Radio        1.14\n",
      "3  Newspaper        1.15\n",
      "0  Intercept        6.85\n"
     ]
    }
   ],
>>>>>>> e225b1f6e43b71e51e701f5b2c1148b6850b4959
   "source": [
    "cls.vif_table()"
   ]
  },
  {
   "cell_type": "code",
   "execution_count": null,
   "metadata": {},
   "outputs": [],
   "source": [
    "# Alternatively, all diagnostics can be generated in one go as follows.\n",
    "# Fig and ax can be used to modify axes or plot properties after the fact.\n",
    "cls = Linear_Reg_Diagnostic(res)\n",
    "fig, ax = cls()\n",
    "\n",
    "#fig.savefig('../../docs/source/_static/images/linear_regression_diagnostics_plots.png')"
   ]
  },
  {
   "cell_type": "markdown",
   "metadata": {},
   "source": [
    "For detail discussions on the interpretation and caveats of the above plots please refer to the ISLR book."
   ]
  },
  {
   "cell_type": "markdown",
   "metadata": {},
   "source": []
  }
 ],
 "metadata": {
  "kernelspec": {
   "display_name": "Python 3",
   "language": "python",
   "name": "python3"
  },
  "language_info": {
   "codemirror_mode": {
    "name": "ipython",
    "version": 3
   },
   "file_extension": ".py",
   "mimetype": "text/x-python",
   "name": "python",
   "nbconvert_exporter": "python",
   "pygments_lexer": "ipython3",
   "version": "3.8.8"
  }
 },
 "nbformat": 4,
 "nbformat_minor": 4
}
