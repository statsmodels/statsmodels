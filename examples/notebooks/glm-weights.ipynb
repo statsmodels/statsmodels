{
 "cells": [
  {
   "cell_type": "markdown",
   "metadata": {},
   "source": [
    "# Weighted Generalized Linear Models"
   ]
  },
  {
   "cell_type": "code",
   "execution_count": null,
   "metadata": {
    "collapsed": true
   },
   "outputs": [],
   "source": [
    "import numpy as np\n",
    "import pandas as pd\n",
    "import statsmodels.formula.api as smf\n",
    "import statsmodels.api as sm"
   ]
  },
  {
   "cell_type": "markdown",
   "metadata": {},
   "source": [
    "## Weighted GLM: Poisson response data\n",
    "\n",
    "### Load data\n",
    "\n",
    "In this example, we'll use the affair dataset using a handful of exogenous variables to predict the extra-marital affair rate. \n",
    "\n",
    "Weights will be generated to show that `freq_weights` are equivalent to repeating records of data. On the other hand, `var_weights` is equivalent to aggregating data.  "
   ]
  },
  {
   "cell_type": "code",
   "execution_count": null,
   "metadata": {},
   "outputs": [],
   "source": [
    "print(sm.datasets.fair.NOTE)"
   ]
  },
  {
   "cell_type": "markdown",
   "metadata": {},
   "source": [
    "Load the data into a pandas dataframe."
   ]
  },
  {
   "cell_type": "code",
   "execution_count": null,
   "metadata": {
    "collapsed": true
   },
   "outputs": [],
   "source": [
    "data = sm.datasets.fair.load_pandas().data"
   ]
  },
  {
   "cell_type": "markdown",
   "metadata": {},
   "source": [
    " The dependent variable is \"affairs\""
   ]
  },
  {
   "cell_type": "code",
   "execution_count": null,
   "metadata": {},
   "outputs": [],
   "source": [
    "data.describe()"
   ]
  },
  {
   "cell_type": "code",
   "execution_count": null,
   "metadata": {},
   "outputs": [],
   "source": [
    "data[:3]"
   ]
  },
  {
   "cell_type": "markdown",
   "metadata": {},
   "source": [
    "For the weights, we'll randomly generate an array. "
   ]
  },
  {
   "cell_type": "code",
   "execution_count": null,
   "metadata": {
    "collapsed": true
   },
   "outputs": [],
   "source": [
    "np.random.seed(42)\n",
    "weights = np.random.randint(1, 4, size=len(data))"
   ]
  },
  {
   "cell_type": "code",
   "execution_count": null,
   "metadata": {},
   "outputs": [],
   "source": [
    "weights.max()"
   ]
  },
  {
   "cell_type": "markdown",
   "metadata": {},
   "source": [
    "### Frequency weights are equivalent to *repeated* records"
   ]
  },
  {
   "cell_type": "markdown",
   "metadata": {},
   "source": [
    "First, let's demonstrate that `freq_weights` are equivalent to repeating records. We'll create a new dataset--called `data_repeated` where we repeat records proportionally to the the weight."
   ]
  },
  {
   "cell_type": "code",
   "execution_count": null,
   "metadata": {
    "collapsed": true
   },
   "outputs": [],
   "source": [
    "data_repeated = np.repeat(np.array(data), weights, axis=0)\n",
    "data_repeated = pd.DataFrame(data_repeated)\n",
    "data_repeated.columns = data.columns"
   ]
  },
  {
   "cell_type": "code",
   "execution_count": null,
   "metadata": {},
   "outputs": [],
   "source": [
    "data_repeated.describe()"
   ]
  },
  {
   "cell_type": "code",
   "execution_count": null,
   "metadata": {},
   "outputs": [],
   "source": [
    "glm = smf.glm('affairs ~ rate_marriage + age + yrs_married',\n",
    "              data=data, family=sm.families.Poisson(), freq_weights=weights)\n",
    "res = glm.fit()\n",
    "print(res.summary())"
   ]
  },
  {
   "cell_type": "code",
   "execution_count": null,
   "metadata": {},
   "outputs": [],
   "source": [
    "glm_repeated = smf.glm('affairs ~ rate_marriage + age + yrs_married',\n",
    "                       data=data_repeated, family=sm.families.Poisson())\n",
    "res = glm_repeated.fit()\n",
    "print(res.summary())"
   ]
  },
  {
   "cell_type": "markdown",
   "metadata": {},
   "source": [
    "The parameters, errors, degrees of freedom, likelihood, deviance, an Pearson Chi2 are all the same! The only difference is the number of which is intentionally higher. "
   ]
  },
  {
   "cell_type": "markdown",
   "metadata": {},
   "source": [
    "## Variance weights are equivalent to *averaging* records"
   ]
  },
  {
   "cell_type": "markdown",
   "metadata": {},
   "source": [
    "We'll use the same weights from the `freq_weights` example. The only difference is that we need to make a new dataset called `data_unaveraged` where the `endog` will have the same average by multiplying the first record in the duplicated set by the weight and adding records with `endog` of 0 to get the average back to the original. "
   ]
  },
  {
   "cell_type": "code",
   "execution_count": null,
   "metadata": {
    "collapsed": true
   },
   "outputs": [],
   "source": [
    "data_unaveraged = data.copy()\n",
    "data_unaveraged['affairs'] *= weights\n",
    "data_extra = np.repeat(np.array(data_unaveraged), weights - 1, axis=0)\n",
    "data_extra = pd.DataFrame(data_extra)\n",
    "data_extra.columns = data.columns\n",
    "data_extra['affairs'] = 0\n",
    "data_unaveraged = pd.concat((data_unaveraged, data_extra), axis=0)"
   ]
  },
  {
   "cell_type": "code",
   "execution_count": null,
   "metadata": {},
   "outputs": [],
   "source": [
    "glm_unaveraged = smf.glm('affairs ~ rate_marriage + age + yrs_married',\n",
    "                       data=data_unaveraged, family=sm.families.Poisson())\n",
    "res = glm_unaveraged.fit()\n",
    "print(res.summary())"
   ]
  },
  {
   "cell_type": "code",
   "execution_count": null,
   "metadata": {},
   "outputs": [],
   "source": [
    "glm = smf.glm('affairs ~ rate_marriage + age + yrs_married',\n",
    "                       data=data, family=sm.families.Poisson(),\n",
    "                       var_weights=weights)\n",
    "res = glm.fit()\n",
    "print(res.summary())"
   ]
  },
  {
   "cell_type": "markdown",
   "metadata": {},
   "source": [
    "In this example, think of the original `data` is an *average* of the `data_unaveraged` data. Using `var_weights`, we get the same parameters and standard errors, but the likelihood, degrees of freedom, and deviance are different. "
   ]
  },
  {
   "cell_type": "markdown",
   "metadata": {},
   "source": [
    "## Special case with `log` link: Exposure is equivalent to *aggregating* data"
   ]
  },
  {
   "cell_type": "markdown",
   "metadata": {},
   "source": [
    "We'll continue to use the same weights, but now we will un-aggregate by adding additional records with `endog` of 0. The *sum* of the endog will be the same."
   ]
  },
  {
   "cell_type": "code",
   "execution_count": null,
   "metadata": {
    "collapsed": true
   },
   "outputs": [],
   "source": [
    "data_unaggregated = data.copy()\n",
    "data_extra = np.repeat(np.array(data), weights - 1, axis=0)\n",
    "data_extra = pd.DataFrame(data_extra)\n",
    "data_extra.columns = data.columns\n",
    "data_extra['affairs'] = 0\n",
    "data_unaggregated = pd.concat((data_unaggregated, data_extra), axis=0)"
   ]
  },
  {
   "cell_type": "code",
   "execution_count": null,
   "metadata": {},
   "outputs": [],
   "source": [
    "glm_unaggregated = smf.glm('affairs ~ rate_marriage + age + yrs_married',\n",
    "                            data=data_unaggregated, family=sm.families.Poisson())\n",
    "res = glm_unaggregated.fit()\n",
    "print(res.summary())"
   ]
  },
  {
   "cell_type": "code",
   "execution_count": null,
   "metadata": {},
   "outputs": [],
   "source": [
    "glm_exposure = smf.glm('affairs ~ rate_marriage + age + yrs_married',\n",
    "                       data=data, family=sm.families.Poisson(),\n",
    "                       exposure=weights)\n",
    "res = glm_exposure.fit()\n",
    "print(res.summary())"
   ]
  },
  {
   "cell_type": "markdown",
   "metadata": {},
   "source": [
    "Similar to the `average` example, exposure provides the same paramters and standard errors, but different degrees of freedom, likelihood, and deviance. This example only works for the `Poisson` family because the variance is equal to the expectation. You can also match using the `Tweedie` family with exposure by including `var_weights = weight ** (var_power - 1)`."
   ]
  }
 ],
 "metadata": {
  "kernelspec": {
   "display_name": "Python 2",
   "language": "python",
   "name": "python2"
  },
  "language_info": {
   "codemirror_mode": {
    "name": "ipython",
    "version": 2
   },
   "file_extension": ".py",
   "mimetype": "text/x-python",
   "name": "python",
   "nbconvert_exporter": "python",
   "pygments_lexer": "ipython2",
   "version": "2.7.13"
  }
 },
 "nbformat": 4,
 "nbformat_minor": 1
}
