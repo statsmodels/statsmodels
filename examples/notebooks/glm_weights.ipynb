{
 "cells": [
  {
   "cell_type": "markdown",
   "metadata": {},
   "source": [
    "# Weighted Generalized Linear Models"
   ]
  },
  {
   "cell_type": "code",
   "execution_count": null,
   "metadata": {
    "collapsed": true
   },
   "outputs": [],
   "source": [
    "import numpy as np\n",
    "import pandas as pd\n",
    "import statsmodels.formula.api as smf\n",
    "import statsmodels.api as sm"
   ]
  },
  {
   "cell_type": "markdown",
   "metadata": {},
   "source": [
    "## Weighted GLM: Poisson response data\n",
    "\n",
    "### Load data\n",
    "\n",
    "In this example, we'll use the affair dataset using a handful of exogenous variables to predict the extra-marital affair rate. \n",
    "\n",
    "Weights will be generated to show that `freq_weights` are equivalent to repeating records of data. On the other hand, `var_weights` is equivalent to aggregating data.  "
   ]
  },
  {
   "cell_type": "code",
   "execution_count": null,
   "metadata": {},
   "outputs": [],
   "source": [
    "print(sm.datasets.fair.NOTE)"
   ]
  },
  {
   "cell_type": "markdown",
   "metadata": {},
   "source": [
    "Load the data into a pandas dataframe."
   ]
  },
  {
   "cell_type": "code",
   "execution_count": null,
   "metadata": {
    "collapsed": true
   },
   "outputs": [],
   "source": [
    "data = sm.datasets.fair.load_pandas().data"
   ]
  },
  {
   "cell_type": "markdown",
   "metadata": {},
   "source": [
    " The dependent variable is \"affairs\""
   ]
  },
  {
   "cell_type": "code",
   "execution_count": null,
   "metadata": {},
   "outputs": [],
   "source": [
    "data.describe()"
   ]
  },
  {
   "cell_type": "code",
   "execution_count": null,
   "metadata": {},
   "outputs": [],
   "source": [
    "data[:3]"
   ]
  },
  {
   "cell_type": "markdown",
   "metadata": {},
   "source": [
    "For the weights, we'll randomly generate an array. "
   ]
  },
  {
   "cell_type": "code",
   "execution_count": null,
   "metadata": {
    "collapsed": true
   },
   "outputs": [],
   "source": [
    "np.random.seed(42)\n",
    "weights = np.random.randint(1, 4, size=len(data))"
   ]
  },
  {
   "cell_type": "code",
   "execution_count": null,
   "metadata": {},
   "outputs": [],
   "source": [
    "weights.max()"
   ]
  },
  {
   "cell_type": "markdown",
   "metadata": {},
   "source": [
    "### Frequency weights are equivalent to *repeated* records"
   ]
  },
  {
   "cell_type": "markdown",
   "metadata": {},
   "source": [
    "First, let's demonstrate that `freq_weights` are equivalent to repeating records. We'll create a new dataset--called `data_repeated` where we repeat records proportionally to the the weight."
   ]
  },
  {
   "cell_type": "code",
   "execution_count": null,
   "metadata": {
    "collapsed": true
   },
   "outputs": [],
   "source": [
    "data_repeated = np.repeat(np.array(data), weights, axis=0)\n",
    "data_repeated = pd.DataFrame(data_repeated)\n",
    "data_repeated.columns = data.columns"
   ]
  },
  {
   "cell_type": "code",
   "execution_count": null,
   "metadata": {},
   "outputs": [],
   "source": [
    "data_repeated.describe()"
   ]
  },
  {
   "cell_type": "code",
   "execution_count": null,
   "metadata": {},
   "outputs": [],
   "source": [
    "glm_freq_wt = smf.glm('affairs ~ rate_marriage + age + yrs_married',\n",
    "              data=data, family=sm.families.Poisson(), freq_weights=weights)\n",
    "res_freq_wt = glm_freq_wt.fit()\n",
    "print(res_freq_wt.summary())"
   ]
  },
  {
   "cell_type": "code",
   "execution_count": null,
   "metadata": {},
   "outputs": [],
   "source": [
    "glm_repeated = smf.glm('affairs ~ rate_marriage + age + yrs_married',\n",
    "                       data=data_repeated, family=sm.families.Poisson())\n",
    "res_repeated = glm_repeated.fit()\n",
    "print(res_repeated.summary())"
   ]
  },
  {
   "cell_type": "markdown",
   "metadata": {},
   "source": [
    "The parameters, errors, degrees of freedom, likelihood, deviance, an Pearson Chi2 are all the same! The only difference is the number of which is intentionally higher. "
   ]
  },
  {
   "cell_type": "markdown",
   "metadata": {},
   "source": [
    "## Variance weights are equivalent to *averaging* records"
   ]
  },
  {
   "cell_type": "markdown",
   "metadata": {},
   "source": [
    "We'll use the same weights from the `freq_weights` example. The only difference is that we need to make a new dataset called `data_unaveraged` where the `endog` will have the same average by multiplying the first record in the duplicated set by the weight and adding records with `endog` of 0 to get the average back to the original. "
   ]
  },
  {
   "cell_type": "code",
   "execution_count": null,
   "metadata": {
    "collapsed": true
   },
   "outputs": [],
   "source": [
    "data_unaveraged = data.copy()\n",
    "data_unaveraged['affairs'] *= weights\n",
    "data_extra = np.repeat(np.array(data_unaveraged), weights - 1, axis=0)\n",
    "data_extra = pd.DataFrame(data_extra)\n",
    "data_extra.columns = data.columns\n",
    "data_extra['affairs'] = 0\n",
    "data_unaveraged = pd.concat((data_unaveraged, data_extra), axis=0)"
   ]
  },
  {
   "cell_type": "code",
   "execution_count": null,
   "metadata": {},
   "outputs": [],
   "source": [
    "glm_unaveraged = smf.glm('affairs ~ rate_marriage + age + yrs_married',\n",
    "                       data=data_unaveraged, family=sm.families.Poisson())\n",
    "res_unaveraged = glm_unaveraged.fit()\n",
    "print(res_unaveraged.summary())"
   ]
  },
  {
   "cell_type": "code",
   "execution_count": null,
   "metadata": {},
   "outputs": [],
   "source": [
    "glm_var_weights = smf.glm('affairs ~ rate_marriage + age + yrs_married',\n",
    "                       data=data, family=sm.families.Poisson(),\n",
    "                       var_weights=weights)\n",
    "res_var_weights = glm_var_weights.fit()\n",
    "print(res_var_weights.summary())"
   ]
  },
  {
   "cell_type": "markdown",
   "metadata": {},
   "source": [
    "In this example, think of the original `data` is an *average* of the `data_unaveraged` data. Using `var_weights`, we get the same parameters and standard errors, but the likelihood, degrees of freedom, and deviance are different. "
   ]
  },
  {
   "cell_type": "markdown",
   "metadata": {},
   "source": [
    "## Special case with `log` link: Exposure is equivalent to *aggregating* data"
   ]
  },
  {
   "cell_type": "markdown",
   "metadata": {},
   "source": [
    "We'll continue to use the same weights, but now we will un-aggregate by adding additional records with `endog` of 0. The *sum* of the endog will be the same."
   ]
  },
  {
   "cell_type": "code",
   "execution_count": null,
   "metadata": {
    "collapsed": true
   },
   "outputs": [],
   "source": [
    "data_unaggregated = data.copy()\n",
    "data_extra = np.repeat(np.array(data), weights - 1, axis=0)\n",
    "data_extra = pd.DataFrame(data_extra)\n",
    "data_extra.columns = data.columns\n",
    "data_extra['affairs'] = 0\n",
    "data_unaggregated = pd.concat((data_unaggregated, data_extra), axis=0)"
   ]
  },
  {
   "cell_type": "code",
   "execution_count": null,
   "metadata": {},
   "outputs": [],
   "source": [
    "glm_unaggregated = smf.glm('affairs ~ rate_marriage + age + yrs_married',\n",
    "                            data=data_unaggregated, family=sm.families.Poisson())\n",
    "res_unaggregated = glm_unaggregated.fit()\n",
    "print(res_unaggregated.summary())"
   ]
  },
  {
   "cell_type": "code",
   "execution_count": null,
   "metadata": {},
   "outputs": [],
   "source": [
    "glm_exposure = smf.glm('affairs ~ rate_marriage + age + yrs_married',\n",
    "                       data=data, family=sm.families.Poisson(),\n",
    "                       exposure=weights)\n",
    "res_exposure = glm_exposure.fit()\n",
    "print(res_exposure.summary())"
   ]
  },
  {
   "cell_type": "markdown",
   "metadata": {},
   "source": [
    "Similar to the `average` example, exposure provides the same paramters and standard errors, but different degrees of freedom, likelihood, and deviance. This example only works for the `Poisson` family because the variance is equal to the expectation. You can also match using the `Tweedie` family with exposure by including `var_weights = weight ** (var_power - 1)`."
   ]
  },
  {
   "cell_type": "markdown",
   "metadata": {},
   "source": [
    "### Variance weights are equivalent to the number of trials¶\n"
   ]
  },
  {
   "cell_type": "markdown",
   "metadata": {},
   "source": [
    "In the next section, we'll load the `star98` dataset of test scores from the US state of California. We will test the 2-dimensional endogenous format for statsmodels (each row represents the number of passes and fails, respectively). The sum of the trials should be equivalent to the variance weights."
   ]
  },
  {
   "cell_type": "code",
   "execution_count": null,
   "metadata": {
    "collapsed": true
   },
   "outputs": [],
   "source": [
    "exog = sm.datasets.star98.load_pandas().exog\n",
    "endog = sm.datasets.star98.load_pandas().endog"
   ]
  },
  {
   "cell_type": "code",
   "execution_count": null,
   "metadata": {},
   "outputs": [],
   "source": [
    "exog.describe()"
   ]
  },
  {
   "cell_type": "code",
   "execution_count": null,
   "metadata": {},
   "outputs": [],
   "source": [
    "endog.describe()"
   ]
  },
  {
   "cell_type": "code",
   "execution_count": null,
   "metadata": {
    "collapsed": true
   },
   "outputs": [],
   "source": [
    "wts = endog.sum(axis=1)\n",
    "endog_avg = endog['NABOVE'] / wts"
   ]
  },
  {
   "cell_type": "code",
   "execution_count": null,
   "metadata": {},
   "outputs": [],
   "source": [
    "glm_binom = sm.GLM(endog, exog, data=data, family=sm.families.Binomial())\n",
    "res_binom = glm_binom.fit()\n",
    "print(res_binom.summary())"
   ]
  },
  {
   "cell_type": "code",
   "execution_count": null,
   "metadata": {},
   "outputs": [],
   "source": [
    "glm_binom_wt = sm.GLM(endog_avg, exog, data=data, family=sm.families.Binomial(), var_weights=wts)\n",
    "res_binom_wt = glm_binom_wt.fit()\n",
    "print(res_binom_wt.summary())"
   ]
  },
  {
   "cell_type": "markdown",
   "metadata": {},
   "source": [
    "In this special case, the parameters, standard errors, observation counts, and degrees of freedom are all the same, but the likelihood is different."
   ]
  }
 ],
 "metadata": {
  "kernelspec": {
   "display_name": "Python 3",
   "language": "python",
   "name": "python3"
  },
  "language_info": {
   "codemirror_mode": {
    "name": "ipython",
    "version": 3
   },
   "file_extension": ".py",
   "mimetype": "text/x-python",
   "name": "python",
   "nbconvert_exporter": "python",
   "pygments_lexer": "ipython3",
   "version": "3.6.0"
  }
 },
 "nbformat": 4,
 "nbformat_minor": 1
}
