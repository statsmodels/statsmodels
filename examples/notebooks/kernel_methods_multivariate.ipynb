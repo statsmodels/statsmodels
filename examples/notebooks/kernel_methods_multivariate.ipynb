{
 "cells": [
  {
   "cell_type": "code",
   "execution_count": null,
   "metadata": {},
   "outputs": [],
   "source": [
    "%matplotlib inline\n",
    "import numpy as np\n",
    "from scipy import stats\n",
    "import statsmodels.api as sm\n",
    "import matplotlib.pyplot as plt\n",
    "from statsmodels.distributions.mixture_rvs import MixtureDistribution, mv_mixture_rvs\n",
    "from statsmodels.kernel_methods import bandwidths, fast_linbin, kde_1d, kde_utils"
   ]
  },
  {
   "cell_type": "markdown",
   "metadata": {},
   "source": [
    "## Multivariate, with unbounded dimensions"
   ]
  },
  {
   "cell_type": "code",
   "execution_count": null,
   "metadata": {},
   "outputs": [],
   "source": [
    "import statsmodels.sandbox.distributions.mv_normal as mvd\n",
    "cov1 = np.diag([1,.2])\n",
    "cov2 = np.diag([.5,1.1])\n",
    "mu1 = np.array([2, -2.5])\n",
    "mu2 = np.array([-2, 1])\n",
    "mvn1 = mvd.MVNormal(mu1, cov1)\n",
    "mvn2 = mvd.MVNormal(mu2, cov2)"
   ]
  },
  {
   "cell_type": "code",
   "execution_count": null,
   "metadata": {},
   "outputs": [],
   "source": [
    "rvs = mv_mixture_rvs([.6, .4], 1000, [mvn1, mvn2], 2)\n",
    "\n",
    "def dist_pdf(x):\n",
    "    return 0.6*mvn1.pdf(x) + 0.4*mvn2.pdf(x)\n",
    "\n",
    "rvs.shape"
   ]
  },
  {
   "cell_type": "code",
   "execution_count": null,
   "metadata": {},
   "outputs": [],
   "source": [
    "bounds = [[-5,6],[-5,6]]"
   ]
  },
  {
   "cell_type": "code",
   "execution_count": null,
   "metadata": {},
   "outputs": [],
   "source": [
    "grid, values = fast_linbin.fast_bin_nd(rvs, bounds, 128)\n",
    "values /= grid.start_volume * rvs.shape[0]\n",
    "grid"
   ]
  },
  {
   "cell_type": "code",
   "execution_count": null,
   "metadata": {},
   "outputs": [],
   "source": [
    "fig = plt.figure(figsize=(24, 8))\n",
    "m2 = grid.full('C')\n",
    "ax = fig.add_subplot(1,2,1)\n",
    "m = ax.pcolormesh(m2[0], m2[1], values, cmap=plt.cm.YlGnBu_r, shading='gouraud')\n",
    "ax.set_xlim(*bounds[0])\n",
    "ax.set_ylim(*bounds[1])\n",
    "ax.set_title('Binning of the data')\n",
    "plt.colorbar(ax=ax, mappable=m)\n",
    "\n",
    "ax = fig.add_subplot(1,2,2)\n",
    "real_pdf = dist_pdf(grid.linear()).reshape(grid.shape)\n",
    "m = ax.pcolormesh(m2[0], m2[1], real_pdf, cmap=plt.cm.YlGnBu_r, shading='gouraud')\n",
    "ax.set_xlim(*bounds[0])\n",
    "ax.set_ylim(*bounds[1])\n",
    "ax.set_title('Real distribution')\n",
    "plt.colorbar(ax=ax, mappable=m)"
   ]
  },
  {
   "cell_type": "code",
   "execution_count": null,
   "metadata": {},
   "outputs": [],
   "source": [
    "kde = sm.kernel_methods.KDE(rvs)\n",
    "mod = kde.fit()\n",
    "xs, ys = mod.grid()\n",
    "mod.bandwidth"
   ]
  },
  {
   "cell_type": "code",
   "execution_count": null,
   "metadata": {},
   "outputs": [],
   "source": [
    "print(xs.shape, xs.bounds)\n",
    "xs.integrate(ys)"
   ]
  },
  {
   "cell_type": "code",
   "execution_count": null,
   "metadata": {},
   "outputs": [],
   "source": [
    "fig = plt.figure(figsize=(24, 8))\n",
    "m2 = xs.full('C')\n",
    "ax = fig.add_subplot(1,2,1)\n",
    "m = ax.pcolormesh(m2[0], m2[1], ys, cmap=plt.cm.YlGnBu_r, shading='gouraud')\n",
    "ax.set_xlim(*bounds[0])\n",
    "ax.set_ylim(*bounds[1])\n",
    "ax.set_title('Estimated KDE')\n",
    "plt.colorbar(ax=ax, mappable=m)\n",
    "\n",
    "ax = fig.add_subplot(1,2,2)\n",
    "real_pdf = dist_pdf(xs.linear()).reshape(xs.shape)\n",
    "m = ax.pcolormesh(m2[0], m2[1], (ys-real_pdf), cmap=plt.cm.coolwarm, shading='gouraud')\n",
    "cmin, cmax = m.get_clim()\n",
    "crange = max(abs(cmin), abs(cmax))\n",
    "m.set_clim(-crange, crange)\n",
    "ax.set_xlim(*bounds[0])\n",
    "ax.set_ylim(*bounds[1])\n",
    "ax.set_title('Error on the KDE')\n",
    "plt.colorbar(ax=ax, mappable=m)"
   ]
  },
  {
   "cell_type": "code",
   "execution_count": null,
   "metadata": {},
   "outputs": [],
   "source": [
    "mod.pdf([[-2, 1]])"
   ]
  },
  {
   "cell_type": "code",
   "execution_count": null,
   "metadata": {},
   "outputs": [],
   "source": [
    "xs3 = kde_utils.Grid([np.r_[-6:6:64j], np.r_[-6:6:64j]])\n",
    "xxs3 = xs3.full().reshape((np.prod(xs3.shape),2))"
   ]
  },
  {
   "cell_type": "code",
   "execution_count": null,
   "metadata": {},
   "outputs": [],
   "source": [
    "ys3 = mod.pdf(xxs3)"
   ]
  },
  {
   "cell_type": "code",
   "execution_count": null,
   "metadata": {},
   "outputs": [],
   "source": [
    "ys3.shape = xs3.shape\n",
    "xs3.integrate(ys3)"
   ]
  },
  {
   "cell_type": "code",
   "execution_count": null,
   "metadata": {},
   "outputs": [],
   "source": [
    "fig = plt.figure(figsize=(24, 8))\n",
    "m3 = xs3.full('C')\n",
    "ax = fig.add_subplot(1,2,1)\n",
    "m = ax.pcolormesh(m3[0], m3[1], ys3, cmap=plt.cm.YlGnBu_r, shading='gouraud')\n",
    "ax.set_xlim(*bounds[0])\n",
    "ax.set_ylim(*bounds[1])\n",
    "ax.set_title('Estimated KDE')\n",
    "plt.colorbar(ax=ax, mappable=m)\n"
   ]
  },
  {
   "cell_type": "markdown",
   "metadata": {},
   "source": [
    "## Multivariate, with one reflective, one cyclic dimension"
   ]
  },
  {
   "cell_type": "code",
   "execution_count": null,
   "metadata": {},
   "outputs": [],
   "source": [
    "import statsmodels.sandbox.distributions.mv_normal as mvd\n",
    "cov1 = np.diag([.3,.2])\n",
    "cov2 = np.diag([.5,0.6])\n",
    "mu1 = np.array([0.3, 1.5])\n",
    "mu2 = np.array([3, 2.5])\n",
    "mvn1 = mvd.MVNormal(mu1, cov1)\n",
    "mvn2 = mvd.MVNormal(mu2, cov2)"
   ]
  },
  {
   "cell_type": "code",
   "execution_count": null,
   "metadata": {},
   "outputs": [],
   "source": [
    "rvs = mv_mixture_rvs([.4, .6], 10000, [mvn1, mvn2], 2)\n",
    "rvs[:,0] = abs(rvs[:,0])\n",
    "rvs[:,1] = rvs[:,1] % 3\n",
    "\n",
    "def dist_pdf_(x):\n",
    "    return 0.4*mvn1.pdf(x) + 0.6*mvn2.pdf(x)\n",
    "\n",
    "def dist_pdf(x):\n",
    "    ref_x = np.c_[-x[:,0], x[:,1]]\n",
    "    cyc_x = np.c_[np.zeros(len(x)), 3*np.ones(len(x))]\n",
    "    return dist_pdf_(x) + dist_pdf_(ref_x) + dist_pdf_(x + cyc_x) + dist_pdf_(x - cyc_x)\n",
    "\n",
    "rvs.shape"
   ]
  },
  {
   "cell_type": "code",
   "execution_count": null,
   "metadata": {},
   "outputs": [],
   "source": [
    "bounds = [[0,5],[0,3]]"
   ]
  },
  {
   "cell_type": "code",
   "execution_count": null,
   "metadata": {},
   "outputs": [],
   "source": [
    "grid, values = fast_linbin.fast_bin_nd(rvs, bounds, 128)\n",
    "values /= grid.start_volume * rvs.shape[0]\n",
    "grid"
   ]
  },
  {
   "cell_type": "code",
   "execution_count": null,
   "metadata": {},
   "outputs": [],
   "source": [
    "fig = plt.figure(figsize=(24, 8))\n",
    "m2 = grid.full('C')\n",
    "ax = fig.add_subplot(1,2,1)\n",
    "m = ax.pcolormesh(m2[0], m2[1], values, cmap=plt.cm.YlGnBu_r, shading='gouraud')\n",
    "ax.set_xlim(*bounds[0])\n",
    "ax.set_ylim(*bounds[1])\n",
    "ax.set_title('Binning of the data')\n",
    "plt.colorbar(ax=ax, mappable=m)\n",
    "\n",
    "ax = fig.add_subplot(1,2,2)\n",
    "real_pdf = dist_pdf(grid.linear()).reshape(grid.shape)\n",
    "m = ax.pcolormesh(m2[0], m2[1], real_pdf, cmap=plt.cm.YlGnBu_r, shading='gouraud')\n",
    "ax.set_xlim(*bounds[0])\n",
    "ax.set_ylim(*bounds[1])\n",
    "ax.set_title('Real distribution')\n",
    "plt.colorbar(ax=ax, mappable=m)"
   ]
  },
  {
   "cell_type": "code",
   "execution_count": null,
   "metadata": {},
   "outputs": [],
   "source": [
    "k = sm.kernel_methods.KDE(rvs)"
   ]
  },
  {
   "cell_type": "code",
   "execution_count": null,
   "metadata": {},
   "outputs": [],
   "source": [
    "k.lower = [0, 0]\n",
    "k.upper = [np.inf, 3]\n",
    "k.method.methods[0] = kde_1d.Reflection1D()\n",
    "k.method.methods[1] = kde_1d.Cyclic1D()"
   ]
  },
  {
   "cell_type": "code",
   "execution_count": null,
   "metadata": {},
   "outputs": [],
   "source": [
    "est = k.fit()\n",
    "xs, ys = est.grid()\n",
    "est.bandwidth"
   ]
  },
  {
   "cell_type": "code",
   "execution_count": null,
   "metadata": {},
   "outputs": [],
   "source": [
    "fig = plt.figure(figsize=(24, 8))\n",
    "m2 = xs.full('C')\n",
    "ax = fig.add_subplot(1,2,1)\n",
    "m = ax.pcolormesh(m2[0], m2[1], ys, cmap=plt.cm.YlGnBu_r, shading='gouraud')\n",
    "ax.set_xlim(*bounds[0])\n",
    "ax.set_ylim(*bounds[1])\n",
    "ax.set_title('Grid estimated KDE')\n",
    "plt.colorbar(ax=ax, mappable=m)\n",
    "\n",
    "ax = fig.add_subplot(1,2,2)\n",
    "real_pdf = dist_pdf(xs.linear()).reshape(xs.shape)\n",
    "m = ax.pcolormesh(m2[0], m2[1], (ys-real_pdf), cmap=plt.cm.coolwarm, shading='gouraud')\n",
    "cmin, cmax = m.get_clim()\n",
    "crange = max(abs(cmin), abs(cmax))\n",
    "m.set_clim(-crange, crange)\n",
    "ax.set_xlim(*bounds[0])\n",
    "ax.set_ylim(*bounds[1])\n",
    "ax.set_title('Error on the KDE')\n",
    "plt.colorbar(ax=ax, mappable=m)"
   ]
  },
  {
   "cell_type": "code",
   "execution_count": null,
   "metadata": {},
   "outputs": [],
   "source": [
    "xs3 = kde_utils.Grid([np.r_[0:5:64j], np.r_[0:3:64j]])\n",
    "xxs3 = xs3.full().reshape((np.prod(xs3.shape),2))"
   ]
  },
  {
   "cell_type": "code",
   "execution_count": null,
   "metadata": {},
   "outputs": [],
   "source": [
    "ys3 = est.pdf(xxs3)"
   ]
  },
  {
   "cell_type": "code",
   "execution_count": null,
   "metadata": {},
   "outputs": [],
   "source": [
    "ys3.shape = xs3.shape\n",
    "xs3.integrate(ys3)"
   ]
  },
  {
   "cell_type": "code",
   "execution_count": null,
   "metadata": {},
   "outputs": [],
   "source": [
    "fig = plt.figure(figsize=(24, 8))\n",
    "m3 = xs3.full('C')\n",
    "ax = fig.add_subplot(1,2,1)\n",
    "m = ax.pcolormesh(m3[0], m3[1], ys3, cmap=plt.cm.YlGnBu_r, shading='gouraud')\n",
    "ax.set_xlim(*bounds[0])\n",
    "ax.set_ylim(*bounds[1])\n",
    "ax.set_title('Point-wise estimated KDE')\n",
    "plt.colorbar(ax=ax, mappable=m)"
   ]
  },
  {
   "cell_type": "markdown",
   "metadata": {},
   "source": [
    "## Multivariate, with one bounded, one log-transform variable"
   ]
  },
  {
   "cell_type": "code",
   "execution_count": null,
   "metadata": {},
   "outputs": [],
   "source": [
    "import statsmodels.sandbox.distributions.mv_normal as mvd\n",
    "\n",
    "cov1 = np.diag([.3,.2])\n",
    "cov2 = np.diag([.5,1])\n",
    "mu1 = np.array([0.3, -1])\n",
    "mu2 = np.array([3, -2.5])\n",
    "mvn1 = mvd.MVNormal(mu1, cov1)\n",
    "mvn2 = mvd.MVNormal(mu2, cov2)"
   ]
  },
  {
   "cell_type": "code",
   "execution_count": null,
   "metadata": {},
   "outputs": [],
   "source": [
    "rvs = mv_mixture_rvs([.7, .3], 15000, [mvn1, mvn2], 2)\n",
    "rvs = rvs[rvs[:,0]>=0,:]\n",
    "rvs[:,1] = np.exp(rvs[:,1])\n",
    "\n",
    "def pdf_base_(x):\n",
    "    return 0.7*mvn1.pdf(x) + 0.3*mvn2.pdf(x)\n",
    "\n",
    "cropped = 0.7*mvn1.cdf(0) + 0.3*mvn2.cdf(0)\n",
    "\n",
    "def dist_pdf(x):\n",
    "    real_x = np.c_[x[:,0], np.log(x[:,1])]\n",
    "    ys = pdf_base_(real_x)\n",
    "    out = np.empty_like(ys)\n",
    "    kde_1d.transform_distribution(real_x[:,1], ys, kde_1d.LogTransform.Dinv, out)\n",
    "    return out / (1-cropped)\n",
    "\n",
    "rvs.shape"
   ]
  },
  {
   "cell_type": "code",
   "execution_count": null,
   "metadata": {},
   "outputs": [],
   "source": [
    "bounds = [[0, 5], [0, 1.2]]"
   ]
  },
  {
   "cell_type": "code",
   "execution_count": null,
   "metadata": {},
   "outputs": [],
   "source": [
    "grid, values = fast_linbin.fast_bin_nd(rvs, bounds, 128)\n",
    "values /= grid.start_volume * rvs.shape[0]\n",
    "grid"
   ]
  },
  {
   "cell_type": "code",
   "execution_count": null,
   "metadata": {},
   "outputs": [],
   "source": [
    "fig = plt.figure(figsize=(24, 8))\n",
    "m2 = grid.full('C')\n",
    "ax = fig.add_subplot(1,2,1)\n",
    "m = ax.pcolormesh(m2[0], m2[1], values, cmap=plt.cm.YlGnBu_r, shading='gouraud')\n",
    "ax.set_xlim(*bounds[0])\n",
    "ax.set_ylim(*bounds[1])\n",
    "ax.set_title('Binning of the data')\n",
    "plt.colorbar(ax=ax, mappable=m)\n",
    "\n",
    "ax = fig.add_subplot(1,2,2)\n",
    "real_pdf = dist_pdf(grid.linear()).reshape(grid.shape)\n",
    "m = ax.pcolormesh(m2[0], m2[1], real_pdf, cmap=plt.cm.YlGnBu_r, shading='gouraud')\n",
    "ax.set_xlim(*bounds[0])\n",
    "ax.set_ylim(*bounds[1])\n",
    "ax.set_title('Real distribution')\n",
    "plt.colorbar(ax=ax, mappable=m)"
   ]
  },
  {
   "cell_type": "code",
   "execution_count": null,
   "metadata": {},
   "outputs": [],
   "source": [
    "grid.shape, real_pdf.shape"
   ]
  },
  {
   "cell_type": "code",
   "execution_count": null,
   "metadata": {},
   "outputs": [],
   "source": [
    "grid.integrate(real_pdf)"
   ]
  },
  {
   "cell_type": "code",
   "execution_count": null,
   "metadata": {},
   "outputs": [],
   "source": [
    "k = sm.kernel_methods.KDE(rvs)"
   ]
  },
  {
   "cell_type": "code",
   "execution_count": null,
   "metadata": {},
   "outputs": [],
   "source": [
    "k.method.methods[0] = kde_1d.Renormalization()\n",
    "k.method.methods[1] = kde_1d.Transform1D(kde_1d.LogTransform)"
   ]
  },
  {
   "cell_type": "code",
   "execution_count": null,
   "metadata": {},
   "outputs": [],
   "source": [
    "k.lower = [0, 0]"
   ]
  },
  {
   "cell_type": "code",
   "execution_count": null,
   "metadata": {},
   "outputs": [],
   "source": [
    "est = k.fit()\n",
    "xs, ys = est.grid(N=512)\n",
    "est.bandwidth"
   ]
  },
  {
   "cell_type": "code",
   "execution_count": null,
   "metadata": {},
   "outputs": [],
   "source": [
    "fig = plt.figure(figsize=(24, 8))\n",
    "m2 = xs.full('C')\n",
    "ax = fig.add_subplot(1,2,1)\n",
    "m = ax.pcolormesh(m2[0], m2[1], ys, cmap=plt.cm.YlGnBu_r, shading='gouraud')\n",
    "ax.set_xlim(*bounds[0])\n",
    "ax.set_ylim(*bounds[1])\n",
    "ax.set_title('Grid estimated KDE')\n",
    "plt.colorbar(ax=ax, mappable=m)\n",
    "\n",
    "ax = fig.add_subplot(1,2,2)\n",
    "real_pdf = dist_pdf(xs.linear()).reshape(xs.shape)\n",
    "m = ax.pcolormesh(m2[0], m2[1], (ys-real_pdf), cmap=plt.cm.coolwarm, shading='gouraud')\n",
    "cmin, cmax = m.get_clim()\n",
    "crange = max(abs(cmin), abs(cmax))\n",
    "m.set_clim(-crange, crange)\n",
    "ax.set_xlim(*bounds[0])\n",
    "ax.set_ylim(*bounds[1])\n",
    "ax.set_title('Error on the KDE')\n",
    "plt.colorbar(ax=ax, mappable=m)"
   ]
  },
  {
   "cell_type": "code",
   "execution_count": null,
   "metadata": {},
   "outputs": [],
   "source": [
    "k.bandwidth = bandwidths.CrossValidation(bandwidths.CVIMSE, use_grid=True, folding=10)\n",
    "est2 = k.fit()"
   ]
  },
  {
   "cell_type": "code",
   "execution_count": null,
   "metadata": {},
   "outputs": [],
   "source": [
    "xs, ys = est2.grid(N=512)\n",
    "est2.bandwidth"
   ]
  },
  {
   "cell_type": "code",
   "execution_count": null,
   "metadata": {},
   "outputs": [],
   "source": [
    "fig = plt.figure(figsize=(24, 8))\n",
    "m2 = xs.full('C')\n",
    "ax = fig.add_subplot(1,2,1)\n",
    "m = ax.pcolormesh(m2[0], m2[1], ys, cmap=plt.cm.YlGnBu_r, shading='gouraud')\n",
    "ax.set_xlim(*bounds[0])\n",
    "ax.set_ylim(*bounds[1])\n",
    "ax.set_title('Grid estimated KDE')\n",
    "plt.colorbar(ax=ax, mappable=m)\n",
    "\n",
    "ax = fig.add_subplot(1,2,2)\n",
    "real_pdf = dist_pdf(xs.linear()).reshape(xs.shape)\n",
    "m = ax.pcolormesh(m2[0], m2[1], (ys-real_pdf), cmap=plt.cm.coolwarm, shading='gouraud')\n",
    "cmin, cmax = m.get_clim()\n",
    "crange = max(abs(cmin), abs(cmax))\n",
    "m.set_clim(-crange, crange)\n",
    "ax.set_xlim(*bounds[0])\n",
    "ax.set_ylim(*bounds[1])\n",
    "ax.set_title('Error on the KDE')\n",
    "plt.colorbar(ax=ax, mappable=m)"
   ]
  },
  {
   "cell_type": "code",
   "execution_count": null,
   "metadata": {},
   "outputs": [],
   "source": [
    "xs3 = kde_utils.Grid([np.r_[0:5:64j], np.r_[0:1.2:64j]])\n",
    "xxs3 = xs3.full().reshape((np.prod(xs3.shape),2))"
   ]
  },
  {
   "cell_type": "code",
   "execution_count": null,
   "metadata": {},
   "outputs": [],
   "source": [
    "ys3 = est2.pdf(xxs3)"
   ]
  },
  {
   "cell_type": "code",
   "execution_count": null,
   "metadata": {},
   "outputs": [],
   "source": [
    "ys3.shape = xs3.shape"
   ]
  },
  {
   "cell_type": "code",
   "execution_count": null,
   "metadata": {},
   "outputs": [],
   "source": [
    "fig = plt.figure(figsize=(24, 8))\n",
    "m3 = xs3.full('C')\n",
    "ax = fig.add_subplot(1,2,1)\n",
    "m = ax.pcolormesh(m3[0], m3[1], ys3, cmap=plt.cm.YlGnBu_r, shading='gouraud')\n",
    "ax.set_xlim(*bounds[0])\n",
    "ax.set_ylim(*bounds[1])\n",
    "ax.set_title('Point-wise estimated KDE')\n",
    "plt.colorbar(ax=ax, mappable=m)"
   ]
  },
  {
   "cell_type": "markdown",
   "metadata": {},
   "source": [
    "# Multivariate, with one ordered, one unbounded dimension"
   ]
  },
  {
   "cell_type": "code",
   "execution_count": null,
   "metadata": {},
   "outputs": [],
   "source": [
    "from scipy.stats import poisson, norm\n",
    "\n",
    "x_dist = poisson(2)\n",
    "y_dist = norm()\n",
    "\n",
    "def dist_pdf(x):\n",
    "    return x_dist.pmf(x[:,0]) * y_dist.pdf(x[:,1])\n",
    "\n",
    "rvs = np.c_[x_dist.rvs(20000), y_dist.rvs(20000)]"
   ]
  },
  {
   "cell_type": "code",
   "execution_count": null,
   "metadata": {},
   "outputs": [],
   "source": [
    "bounds = [[0, 10], [-5, 5]]"
   ]
  },
  {
   "cell_type": "code",
   "execution_count": null,
   "metadata": {},
   "outputs": [],
   "source": [
    "grid, values = fast_linbin.fast_bin_nd(rvs, bounds, 128, bin_type='DB')\n",
    "values /= grid.start_volume * rvs.shape[0]\n",
    "grid"
   ]
  },
  {
   "cell_type": "code",
   "execution_count": null,
   "metadata": {},
   "outputs": [],
   "source": [
    "fig = plt.figure(figsize=(24, 8))\n",
    "m2 = grid.full('C')\n",
    "ax = fig.add_subplot(1,2,1)\n",
    "m = ax.pcolormesh(m2[0], m2[1], values, cmap=plt.cm.YlGnBu_r, shading='gouraud')\n",
    "ax.set_xlim(*bounds[0])\n",
    "ax.set_ylim(*bounds[1])\n",
    "ax.set_title('Binning of the data')\n",
    "plt.colorbar(ax=ax, mappable=m)\n",
    "\n",
    "ax = fig.add_subplot(1,2,2)\n",
    "real_pdf = dist_pdf(grid.linear()).reshape(grid.shape)\n",
    "m = ax.pcolormesh(m2[0], m2[1], real_pdf, cmap=plt.cm.YlGnBu_r, shading='gouraud')\n",
    "ax.set_xlim(*bounds[0])\n",
    "ax.set_ylim(*bounds[1])\n",
    "ax.set_title('Real distribution')\n",
    "plt.colorbar(ax=ax, mappable=m)"
   ]
  },
  {
   "cell_type": "code",
   "execution_count": null,
   "metadata": {},
   "outputs": [],
   "source": [
    "kde = sm.kernel_methods.KDE(rvs, axis_type='OC')\n",
    "\n",
    "#kde.method.methods[1] = kde_1d.KDE1DMethod()\n",
    "mod = kde.fit()\n",
    "mod.bandwidth = (0.1, mod.bandwidth[1])\n",
    "xs, ys = mod.grid()\n",
    "mod.bandwidth"
   ]
  },
  {
   "cell_type": "code",
   "execution_count": null,
   "metadata": {},
   "outputs": [],
   "source": [
    "xs.integrate(ys)"
   ]
  },
  {
   "cell_type": "code",
   "execution_count": null,
   "metadata": {},
   "outputs": [],
   "source": [
    "fig = plt.figure(figsize=(24, 8))\n",
    "m2 = xs.full('C')\n",
    "ax = fig.add_subplot(1,2,1)\n",
    "m = ax.pcolormesh(m2[0], m2[1], ys, cmap=plt.cm.YlGnBu_r, shading='gouraud')\n",
    "ax.set_xlim(*bounds[0])\n",
    "ax.set_ylim(*bounds[1])\n",
    "ax.set_title('Estimated KDE')\n",
    "plt.colorbar(ax=ax, mappable=m)\n",
    "\n",
    "ax = fig.add_subplot(1,2,2)\n",
    "real_pdf = dist_pdf(xs.linear()).reshape(xs.shape)\n",
    "m = ax.pcolormesh(m2[0], m2[1], (ys-real_pdf), cmap=plt.cm.coolwarm, shading='gouraud')\n",
    "cmin, cmax = m.get_clim()\n",
    "crange = max(abs(cmin), abs(cmax))\n",
    "m.set_clim(-crange, crange)\n",
    "ax.set_xlim(*bounds[0])\n",
    "ax.set_ylim(*bounds[1])\n",
    "ax.set_title('Error on the KDE')\n",
    "plt.colorbar(ax=ax, mappable=m)"
   ]
  },
  {
   "cell_type": "code",
   "execution_count": null,
   "metadata": {},
   "outputs": [],
   "source": [
    "kde.bandwidth = bandwidths.CrossValidation(bandwidths.CVIMSE, use_grid=True, folding=10)\n",
    "mod2 = kde.fit()\n",
    "mod2.bandwidth"
   ]
  },
  {
   "cell_type": "code",
   "execution_count": null,
   "metadata": {},
   "outputs": [],
   "source": [
    "xs, ys = mod2.grid()"
   ]
  },
  {
   "cell_type": "code",
   "execution_count": null,
   "metadata": {},
   "outputs": [],
   "source": [
    "fig = plt.figure(figsize=(24, 8))\n",
    "m2 = xs.full('C')\n",
    "ax = fig.add_subplot(1,2,1)\n",
    "m = ax.pcolormesh(m2[0], m2[1], ys, cmap=plt.cm.YlGnBu_r, shading='gouraud')\n",
    "ax.set_xlim(*bounds[0])\n",
    "ax.set_ylim(*bounds[1])\n",
    "ax.set_title('Estimated KDE')\n",
    "plt.colorbar(ax=ax, mappable=m)\n",
    "\n",
    "ax = fig.add_subplot(1,2,2)\n",
    "real_pdf = dist_pdf(xs.linear()).reshape(xs.shape)\n",
    "m = ax.pcolormesh(m2[0], m2[1], (ys-real_pdf), cmap=plt.cm.coolwarm, shading='gouraud')\n",
    "cmin, cmax = m.get_clim()\n",
    "crange = max(abs(cmin), abs(cmax))\n",
    "m.set_clim(-crange, crange)\n",
    "ax.set_xlim(*bounds[0])\n",
    "ax.set_ylim(*bounds[1])\n",
    "ax.set_title('Error on the KDE')\n",
    "plt.colorbar(ax=ax, mappable=m)"
   ]
  },
  {
   "cell_type": "code",
   "execution_count": null,
   "metadata": {},
   "outputs": [],
   "source": [
    "xs3 = kde_utils.Grid([np.r_[0:10:1], np.r_[-5:5:512j]])\n",
    "xxs3 = xs3.full().reshape((np.prod(xs3.shape),2))"
   ]
  },
  {
   "cell_type": "code",
   "execution_count": null,
   "metadata": {},
   "outputs": [],
   "source": [
    "ys3 = mod2.pdf(xxs3)"
   ]
  },
  {
   "cell_type": "code",
   "execution_count": null,
   "metadata": {},
   "outputs": [],
   "source": [
    "ys3.shape = xs3.shape\n",
    "xs3.integrate(ys3)"
   ]
  },
  {
   "cell_type": "code",
   "execution_count": null,
   "metadata": {},
   "outputs": [],
   "source": [
    "fig = plt.figure(figsize=(24, 8))\n",
    "m3 = xs3.full('C')\n",
    "ax = fig.add_subplot(1,2,1)\n",
    "m = ax.pcolormesh(m3[0], m3[1], ys3, cmap=plt.cm.YlGnBu_r, shading='gouraud')\n",
    "ax.set_xlim(*bounds[0])\n",
    "ax.set_ylim(*bounds[1])\n",
    "ax.set_title('Point-wise estimated KDE')\n",
    "plt.colorbar(ax=ax, mappable=m)"
   ]
  },
  {
   "cell_type": "code",
   "execution_count": null,
   "metadata": {},
   "outputs": [],
   "source": [
    "kde.method.methods[1] = kde_1d.KDE1DMethod()\n",
    "kde.bandwidth = mod2.bandwidth\n",
    "mod3 = kde.fit()"
   ]
  },
  {
   "cell_type": "code",
   "execution_count": null,
   "metadata": {},
   "outputs": [],
   "source": [
    "ys4 = mod3.pdf(xxs3)\n",
    "ys4.shape = xs3.shape"
   ]
  },
  {
   "cell_type": "code",
   "execution_count": null,
   "metadata": {},
   "outputs": [],
   "source": [
    "xs3.integrate(ys4)"
   ]
  },
  {
   "cell_type": "code",
   "execution_count": null,
   "metadata": {},
   "outputs": [],
   "source": []
  }
 ],
 "metadata": {
  "kernelspec": {
   "display_name": "Python 3",
   "language": "python",
   "name": "python3"
  },
  "language_info": {
   "codemirror_mode": {
    "name": "ipython",
    "version": 3
   },
   "file_extension": ".py",
   "mimetype": "text/x-python",
   "name": "python",
   "nbconvert_exporter": "python",
   "pygments_lexer": "ipython3",
   "version": "3.6.9"
  }
 },
 "nbformat": 4,
 "nbformat_minor": 4
}
